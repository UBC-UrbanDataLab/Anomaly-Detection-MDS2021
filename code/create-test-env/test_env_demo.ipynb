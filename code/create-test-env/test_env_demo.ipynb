{
 "cells": [
  {
   "cell_type": "markdown",
   "metadata": {},
   "source": [
    "# Anomaly Detection Framework Example\n",
    "\n",
    "This notebook provides a walkthrough of using the anomaly detection framework in a test environment. This test environment was used as UDL's InfluxDB instance was still being setup with SkySpark data during the project. The test environment populates an instance of InfluxDB (created using Docker) with sensor data from `../../data/labelled-skyspark-data/`. The sensor data was manually downloaded from SkySpark and corresponds with five sensors used in Phase 1 model testing."
   ]
  },
  {
   "cell_type": "code",
   "execution_count": 1,
   "metadata": {},
   "outputs": [],
   "source": [
    "import time\n",
    "import sys\n",
    "\n",
    "import numpy as np\n",
    "import pandas as pd\n",
    "\n",
    "# influxdb_client is used to populate InfluxDB with the csv data\n",
    "from influxdb_client import InfluxDBClient\n",
    "from influxdb_client.client.write_api import SYNCHRONOUS"
   ]
  },
  {
   "cell_type": "markdown",
   "metadata": {},
   "source": [
    "Import the model package:"
   ]
  },
  {
   "cell_type": "code",
   "execution_count": 2,
   "metadata": {},
   "outputs": [],
   "source": [
    "# files are contained in a sibling folder\n",
    "sys.path.append(\"..\")\n",
    "\n",
    "import model.clean as cl\n",
    "import model.model_trainer as mt\n",
    "import model.model_predict as mp\n",
    "from model.influx_interact import influx_class"
   ]
  },
  {
   "cell_type": "code",
   "execution_count": 3,
   "metadata": {},
   "outputs": [],
   "source": [
    "from tensorflow.random import set_seed"
   ]
  },
  {
   "cell_type": "markdown",
   "metadata": {},
   "source": [
    "## Step 1 - Create Local InfluxDB Instance\n",
    "\n",
    "Copy `docker-compose.yml` located in this directory to a local directory. Then run the command `docker-compose up` from this local directory.\n",
    "\n",
    "Go to `http://localhost:8086/` and enter `MDS2021` as user name and `mypassword` to log in to the user interface."
   ]
  },
  {
   "cell_type": "markdown",
   "metadata": {},
   "source": [
    "## Step 2 - Populate InfluxDB with Sensor Data\n",
    "\n",
    "This step will populate InfluxDB with csv files located in `../../data/labelled-skyspark-data/`. These files correspond with the Phase 1 model testing. The code presented in this section is also available in `populate_influx.py`.\n",
    "\n",
    "Note that this step is just for creating the data in this test environment.\n"
   ]
  },
  {
   "cell_type": "code",
   "execution_count": 4,
   "metadata": {},
   "outputs": [],
   "source": [
    "PATH_TO_CSVS = \"../../data/labelled-skyspark-data/\"\n",
    "CSVS_TO_LOAD = [\n",
    "    \"CEC_compiled_data_1b_updated.csv\",\n",
    "    \"CEC_compiled_data_2b_updated.csv\",\n",
    "    \"CEC_compiled_data_3b_updated.csv\",\n",
    "    \"CEC_compiled_data_4b_updated.csv\",\n",
    "    \"CEC_compiled_data_5b_updated.csv\",\n",
    "]"
   ]
  },
  {
   "cell_type": "markdown",
   "metadata": {},
   "source": [
    "Create a look up table for sensors and their manually labeled data sets."
   ]
  },
  {
   "cell_type": "code",
   "execution_count": 5,
   "metadata": {},
   "outputs": [],
   "source": [
    "JOIN_MANUAL_ANOMALIES = True\n",
    "PATH_TO_LABELLED_CSVS = \"../../data/labelled-skyspark-data/\"\n",
    "LABELLED_LOOKUP = {\n",
    "    \"Campus Energy Centre Campus HW Main Meter Power\" : \"CEC_compiled_data_1b_updated.csv\",\n",
    "    \"Campus Energy Centre Campus HW Main Meter Entering Water Temperature\" : \"CEC_compiled_data_2b_updated.csv\",\n",
    "    \"Campus Energy Centre Campus HW Main Meter Flow\" : \"CEC_compiled_data_3b_updated.csv\",\n",
    "    \"Campus Energy Centre Boiler B-1 Gas Pressure\" : \"CEC_compiled_data_4b_updated.csv\",\n",
    "    \"Campus Energy Centre Boiler B-1 Exhaust O2\" : \"CEC_compiled_data_5b_updated.csv\",\n",
    "}"
   ]
  },
  {
   "cell_type": "code",
   "execution_count": 6,
   "metadata": {},
   "outputs": [],
   "source": [
    "# for data viewing in notebook\n",
    "pd.set_option('display.expand_frame_repr', False)"
   ]
  },
  {
   "cell_type": "markdown",
   "metadata": {},
   "source": [
    "Set up InfluxDB connection:"
   ]
  },
  {
   "cell_type": "code",
   "execution_count": 7,
   "metadata": {},
   "outputs": [],
   "source": [
    "# as setup in docker-compose.yml\n",
    "token = \"mytoken\"\n",
    "org = \"UBC\"\n",
    "bucket = \"MDS2021\"\n",
    "\n",
    "# setup InfluxDB client\n",
    "client = InfluxDBClient(url=\"http://localhost:8086\", token=token, timeout=999_000)\n",
    "write_api = client.write_api(write_options=SYNCHRONOUS)"
   ]
  },
  {
   "cell_type": "markdown",
   "metadata": {},
   "source": [
    "Read each csv file and write the data to InfluxDB. This sets up the sensor data in InfluxDB in the READINGS measurement mimicing how SkySpark data exists in InfluxDB. Note that only the tags/field required for anomaly detection are populated.\n",
    "\n",
    "Important note: If the influx write times out, re-run and it should work on the second try."
   ]
  },
  {
   "cell_type": "code",
   "execution_count": 9,
   "metadata": {},
   "outputs": [
    {
     "output_type": "stream",
     "name": "stdout",
     "text": [
      "writing: CEC_compiled_data_1b_updated.csv\n",
      "writing: CEC_compiled_data_2b_updated.csv\n",
      "writing: CEC_compiled_data_3b_updated.csv\n",
      "writing: CEC_compiled_data_4b_updated.csv\n",
      "writing: CEC_compiled_data_5b_updated.csv\n"
     ]
    }
   ],
   "source": [
    "for csv in CSVS_TO_LOAD:\n",
    "\n",
    "    # load and set up dataframes\n",
    "    df = pd.read_csv(PATH_TO_CSVS + csv, parse_dates=[\"Datetime\"])\n",
    "    df.rename(columns={\"Value\": \"val_num\"}, inplace=True)\n",
    "    df.rename(columns={\"ID\": \"uniqueID\"}, inplace=True)\n",
    "    df.rename(columns={\"Anomaly\": \"AH\"}, inplace=True)\n",
    "    df[\"siteRef\"] = \"Campus Energy Centre\"\n",
    "    df.set_index(\"Datetime\", drop=True, inplace=True)\n",
    "    df = df.drop([\"AH\"], axis=1)\n",
    "\n",
    "    print(\"writing: {}\".format(csv))\n",
    "    # write values\n",
    "    write_api.write(\n",
    "        bucket,\n",
    "        org,\n",
    "        record=df,\n",
    "        data_frame_measurement_name=\"READINGS\",\n",
    "        data_frame_tag_columns=[\"uniqueID\", \"navName\", \"siteRef\"],\n",
    "    )\n",
    "    time.sleep(5)"
   ]
  },
  {
   "cell_type": "markdown",
   "metadata": {},
   "source": [
    "Look at the `df` object to see what was written to influx"
   ]
  },
  {
   "cell_type": "code",
   "execution_count": 10,
   "metadata": {},
   "outputs": [
    {
     "output_type": "execute_result",
     "data": {
      "text/plain": [
       "                     val_num                                    uniqueID               siteRef\n",
       "Datetime                                                                                      \n",
       "2020-01-01 07:45:00      2.9  Campus Energy Centre Boiler B-1 Exhaust O2  Campus Energy Centre\n",
       "2020-01-01 08:00:00      2.9  Campus Energy Centre Boiler B-1 Exhaust O2  Campus Energy Centre\n",
       "2020-01-01 08:15:00      2.9  Campus Energy Centre Boiler B-1 Exhaust O2  Campus Energy Centre\n",
       "2020-01-01 08:30:00      2.9  Campus Energy Centre Boiler B-1 Exhaust O2  Campus Energy Centre\n",
       "2020-01-01 08:45:00      2.9  Campus Energy Centre Boiler B-1 Exhaust O2  Campus Energy Centre"
      ],
      "text/html": "<div>\n<style scoped>\n    .dataframe tbody tr th:only-of-type {\n        vertical-align: middle;\n    }\n\n    .dataframe tbody tr th {\n        vertical-align: top;\n    }\n\n    .dataframe thead th {\n        text-align: right;\n    }\n</style>\n<table border=\"1\" class=\"dataframe\">\n  <thead>\n    <tr style=\"text-align: right;\">\n      <th></th>\n      <th>val_num</th>\n      <th>uniqueID</th>\n      <th>siteRef</th>\n    </tr>\n    <tr>\n      <th>Datetime</th>\n      <th></th>\n      <th></th>\n      <th></th>\n    </tr>\n  </thead>\n  <tbody>\n    <tr>\n      <th>2020-01-01 07:45:00</th>\n      <td>2.9</td>\n      <td>Campus Energy Centre Boiler B-1 Exhaust O2</td>\n      <td>Campus Energy Centre</td>\n    </tr>\n    <tr>\n      <th>2020-01-01 08:00:00</th>\n      <td>2.9</td>\n      <td>Campus Energy Centre Boiler B-1 Exhaust O2</td>\n      <td>Campus Energy Centre</td>\n    </tr>\n    <tr>\n      <th>2020-01-01 08:15:00</th>\n      <td>2.9</td>\n      <td>Campus Energy Centre Boiler B-1 Exhaust O2</td>\n      <td>Campus Energy Centre</td>\n    </tr>\n    <tr>\n      <th>2020-01-01 08:30:00</th>\n      <td>2.9</td>\n      <td>Campus Energy Centre Boiler B-1 Exhaust O2</td>\n      <td>Campus Energy Centre</td>\n    </tr>\n    <tr>\n      <th>2020-01-01 08:45:00</th>\n      <td>2.9</td>\n      <td>Campus Energy Centre Boiler B-1 Exhaust O2</td>\n      <td>Campus Energy Centre</td>\n    </tr>\n  </tbody>\n</table>\n</div>"
     },
     "metadata": {},
     "execution_count": 10
    }
   ],
   "source": [
    "df.head()"
   ]
  },
  {
   "cell_type": "markdown",
   "metadata": {},
   "source": [
    "Sensor data has now been written to the InfluxDB READINGS measurement. A screenshot of what this looks like in InfluxDB is shown below."
   ]
  },
  {
   "cell_type": "markdown",
   "metadata": {},
   "source": [
    "![](demo_screenshots/step2.PNG)"
   ]
  },
  {
   "cell_type": "markdown",
   "metadata": {},
   "source": [
    "## Step 3 - Test Anomaly Detection Model Training\n",
    "\n",
    "This step tests model training. This would be typically run on a selected interval (for example every month) to update the anomaly detection models. A script for model training that can be used with UDL's InfluxDB instance is available in `../code/sensor_training.py`. Code that is only applicable to this test environment or differs from what would exist in `../code/sensor_training.py` is noted.\n",
    "\n",
    "The code presented in this section is also available in `test_env_scheduled_training.py`.  "
   ]
  },
  {
   "cell_type": "markdown",
   "metadata": {},
   "source": [
    "This provides the option to subset the training data for faster testing. Model training can be completed using the entire sensors record by setting this to `False`."
   ]
  },
  {
   "cell_type": "code",
   "execution_count": 11,
   "metadata": {},
   "outputs": [],
   "source": [
    "TESTING = True"
   ]
  },
  {
   "cell_type": "markdown",
   "metadata": {},
   "source": [
    "Provide sensor threshold ratios for anomaly detection. In the prediciton stage a 99.5 percentile will be calculated on the loss and saved.  \n",
    "On prediction this percentile value will be loaded.  \n",
    "In each case the threshold_ratio will be multipled with the percentile to get the threshold"
   ]
  },
  {
   "cell_type": "code",
   "execution_count": 36,
   "metadata": {},
   "outputs": [],
   "source": [
    "THRESHOLD_RATIOS = {\n",
    "    \"Campus Energy Centre Campus HW Main Meter Power\": 1.8,\n",
    "    \"Campus Energy Centre Boiler B-1 Exhaust O2\": 1,\n",
    "    \"Campus Energy Centre Boiler B-1 Gas Pressure\": 0.23,\n",
    "    \"Campus Energy Centre Campus HW Main Meter Entering Water Temperature\": 0.3*3,\n",
    "    \"Campus Energy Centre Campus HW Main Meter Flow\": 1.72,\n",
    "}"
   ]
  },
  {
   "cell_type": "markdown",
   "metadata": {},
   "source": [
    "Set up the sequence time step sizes.  \n",
    "They are currently all the same, but can individually be changed"
   ]
  },
  {
   "cell_type": "code",
   "execution_count": 13,
   "metadata": {},
   "outputs": [],
   "source": [
    "TIME_STEP_SIZES = {\n",
    "    \"Campus Energy Centre Campus HW Main Meter Power\":15,\n",
    "    \"Campus Energy Centre Boiler B-1 Exhaust O2\":15,\n",
    "    \"Campus Energy Centre Boiler B-1 Gas Pressure\":15,\n",
    "    \"Campus Energy Centre Campus HW Main Meter Entering Water Temperature\":15,\n",
    "    \"Campus Energy Centre Campus HW Main Meter Flow\":15,\n",
    "}"
   ]
  },
  {
   "cell_type": "markdown",
   "metadata": {},
   "source": [
    "End time ,as unix time stamp, to be used when reading data for model training such that data that will be predicted during Step 4 of this test environment is not used in model training In the `sensor_training.py` there is no need to set an end time as the model will train on all available data. "
   ]
  },
  {
   "cell_type": "code",
   "execution_count": 14,
   "metadata": {},
   "outputs": [],
   "source": [
    "END_TIME = 1613109600"
   ]
  },
  {
   "cell_type": "markdown",
   "metadata": {},
   "source": [
    "The following code provides data removal of manually labelled anomalous data for \"Campus Energy Centre Campus HW Main Meter Entering Water Temperature\"."
   ]
  },
  {
   "cell_type": "markdown",
   "metadata": {},
   "source": [
    "Specify the paths to save the model and standard scaler from the cleaning pipeline and create the InfluxDB client."
   ]
  },
  {
   "cell_type": "code",
   "execution_count": 38,
   "metadata": {},
   "outputs": [],
   "source": [
    "model_path = \"./test_env_models/\"\n",
    "scaler_path = \"./test_env_standardizers/\"\n",
    "percentile_path = \"./test_env_loss_percentiles/\"\n",
    "\n",
    "# setup InfluxDB client\n",
    "token = \"mytoken\"\n",
    "org = \"UBC\"\n",
    "bucket = \"MDS2021\"\n",
    "url = \"http://localhost:8086\"\n",
    "\n",
    "influx_conn = influx_class(\n",
    "    org=org,\n",
    "    url=url,\n",
    "    bucket=bucket,\n",
    "    token=token,\n",
    ")"
   ]
  },
  {
   "cell_type": "markdown",
   "metadata": {},
   "source": [
    "Read data for model training from the InfluxDB READINGS measurement"
   ]
  },
  {
   "cell_type": "code",
   "execution_count": 39,
   "metadata": {},
   "outputs": [],
   "source": [
    "influx_read_df = influx_conn.make_query(\n",
    "    location=\"Campus Energy Centre\",\n",
    "    measurement=\"READINGS\",\n",
    "    end=END_TIME,\n",
    ")"
   ]
  },
  {
   "cell_type": "markdown",
   "metadata": {},
   "source": [
    "Split the data based on uniqueID into individual sensor dataframes"
   ]
  },
  {
   "cell_type": "code",
   "execution_count": 40,
   "metadata": {},
   "outputs": [],
   "source": [
    "influx_df_split_on_sensors = cl.split_sensors(influx_read_df)"
   ]
  },
  {
   "cell_type": "markdown",
   "metadata": {},
   "source": [
    "The `main_bucket` object is a dictionary with the name of the sensor as the key and then the value is another dict of data objects"
   ]
  },
  {
   "cell_type": "code",
   "execution_count": 41,
   "metadata": {},
   "outputs": [
    {
     "output_type": "execute_result",
     "data": {
      "text/plain": [
       "dict_keys(['Campus Energy Centre Boiler B-1 Exhaust O2', 'Campus Energy Centre Boiler B-1 Gas Pressure', 'Campus Energy Centre Campus HW Main Meter Entering Water Temperature', 'Campus Energy Centre Campus HW Main Meter Flow', 'Campus Energy Centre Campus HW Main Meter Power'])"
      ]
     },
     "metadata": {},
     "execution_count": 41
    }
   ],
   "source": [
    "influx_df_split_on_sensors.keys()"
   ]
  },
  {
   "cell_type": "markdown",
   "metadata": {},
   "source": [
    "Populate the `manual_anomaly` column with False for now"
   ]
  },
  {
   "cell_type": "code",
   "execution_count": 42,
   "metadata": {},
   "outputs": [],
   "source": [
    "for key in influx_df_split_on_sensors.keys():\n",
    "    df = influx_df_split_on_sensors[key].copy(deep=True)\n",
    "    df[\"manual_anomaly\"] = False\n",
    "    influx_df_split_on_sensors[key] = df"
   ]
  },
  {
   "cell_type": "markdown",
   "metadata": {},
   "source": [
    "The following cell provides model training by iterating over each sensor in `main_bucket` and:\n",
    "\n",
    "1. Removes anomalous data based on manual_anomaly labels available in the TRAINING_ANOMALY measurement\n",
    "2. Standardizes the values for training and saves the standardizer\n",
    "3. Subsets the data for faster training if specified in the `TESTING` variable\n",
    "4. Sequences the values into windows for the LSTM-ED anomaly detection model\n",
    "5. Fits the LSTM-ED and saves the model \n",
    "6. Writes model training anomaly predictions to the TRAINING_ANOMALY Measurement model_anomaly field in InfluxDB\n",
    "\n",
    "**Note:** 3. only applies to this test environment and would not exist in `sensor_training.py`."
   ]
  },
  {
   "cell_type": "code",
   "execution_count": 43,
   "metadata": {
    "tags": [
     "outputPrepend"
    ]
   },
   "outputs": [
    {
     "output_type": "stream",
     "name": "stdout",
     "text": [
      "entre Boiler B-1 Gas Pressure\n",
      "_measurement=\"TRAINING_ANOMALY\" AND uniqueID=\"Campus Energy Centre Boiler B-1 Gas Pressure\"\n",
      "Epoch 1/100\n",
      "57/57 [==============================] - 4s 34ms/step - loss: 0.1597 - val_loss: 0.2151\n",
      "Epoch 2/100\n",
      "57/57 [==============================] - 1s 21ms/step - loss: 0.1033 - val_loss: 0.1546\n",
      "Epoch 3/100\n",
      "57/57 [==============================] - 1s 24ms/step - loss: 0.0624 - val_loss: 0.1005\n",
      "Epoch 4/100\n",
      "57/57 [==============================] - 1s 21ms/step - loss: 0.0486 - val_loss: 0.0865\n",
      "Epoch 5/100\n",
      "57/57 [==============================] - 1s 21ms/step - loss: 0.0428 - val_loss: 0.0513\n",
      "Epoch 6/100\n",
      "57/57 [==============================] - 1s 21ms/step - loss: 0.0402 - val_loss: 0.0395\n",
      "Epoch 7/100\n",
      "57/57 [==============================] - 1s 21ms/step - loss: 0.0368 - val_loss: 0.0607\n",
      "Epoch 8/100\n",
      "57/57 [==============================] - 1s 21ms/step - loss: 0.0373 - val_loss: 0.0462\n",
      "Epoch 9/100\n",
      "57/57 [==============================] - 1s 21ms/step - loss: 0.0323 - val_loss: 0.0328\n",
      "Epoch 10/100\n",
      "57/57 [==============================] - 1s 21ms/step - loss: 0.0330 - val_loss: 0.0460\n",
      "Epoch 11/100\n",
      "57/57 [==============================] - 1s 22ms/step - loss: 0.0305 - val_loss: 0.0383\n",
      "Epoch 12/100\n",
      "57/57 [==============================] - 1s 21ms/step - loss: 0.0305 - val_loss: 0.0263\n",
      "Epoch 13/100\n",
      "57/57 [==============================] - 1s 22ms/step - loss: 0.0325 - val_loss: 0.0279\n",
      "Epoch 14/100\n",
      "57/57 [==============================] - 1s 21ms/step - loss: 0.0310 - val_loss: 0.0634\n",
      "Epoch 15/100\n",
      "57/57 [==============================] - 1s 25ms/step - loss: 0.0346 - val_loss: 0.0743\n",
      "Epoch 16/100\n",
      "57/57 [==============================] - 1s 22ms/step - loss: 0.0349 - val_loss: 0.0505\n",
      "Epoch 17/100\n",
      "57/57 [==============================] - 1s 21ms/step - loss: 0.0329 - val_loss: 0.0209\n",
      "Epoch 18/100\n",
      "57/57 [==============================] - 1s 21ms/step - loss: 0.0334 - val_loss: 0.0249\n",
      "Epoch 19/100\n",
      "57/57 [==============================] - 1s 21ms/step - loss: 0.0328 - val_loss: 0.0567\n",
      "Epoch 20/100\n",
      "57/57 [==============================] - 1s 21ms/step - loss: 0.0295 - val_loss: 0.0365\n",
      "Epoch 21/100\n",
      "57/57 [==============================] - 1s 21ms/step - loss: 0.0298 - val_loss: 0.0143\n",
      "Epoch 22/100\n",
      "57/57 [==============================] - 1s 21ms/step - loss: 0.0288 - val_loss: 0.0556\n",
      "Epoch 23/100\n",
      "57/57 [==============================] - 1s 22ms/step - loss: 0.0313 - val_loss: 0.0173\n",
      "Epoch 24/100\n",
      "57/57 [==============================] - 1s 22ms/step - loss: 0.0292 - val_loss: 0.0147\n",
      "Epoch 25/100\n",
      "57/57 [==============================] - 1s 22ms/step - loss: 0.0286 - val_loss: 0.0200\n",
      "Epoch 26/100\n",
      "57/57 [==============================] - 1s 22ms/step - loss: 0.0280 - val_loss: 0.0415\n",
      "Epoch 27/100\n",
      "57/57 [==============================] - 1s 21ms/step - loss: 0.0314 - val_loss: 0.0455\n",
      "Epoch 28/100\n",
      "57/57 [==============================] - 1s 21ms/step - loss: 0.0307 - val_loss: 0.0294\n",
      "Epoch 29/100\n",
      "57/57 [==============================] - 1s 22ms/step - loss: 0.0296 - val_loss: 0.0178\n",
      "Epoch 30/100\n",
      "57/57 [==============================] - 1s 22ms/step - loss: 0.0273 - val_loss: 0.0126\n",
      "Epoch 31/100\n",
      "57/57 [==============================] - 1s 22ms/step - loss: 0.0283 - val_loss: 0.0552\n",
      "Epoch 32/100\n",
      "57/57 [==============================] - 1s 21ms/step - loss: 0.0286 - val_loss: 0.0569\n",
      "Epoch 33/100\n",
      "57/57 [==============================] - 1s 22ms/step - loss: 0.0291 - val_loss: 0.0342\n",
      "Epoch 34/100\n",
      "57/57 [==============================] - 1s 22ms/step - loss: 0.0281 - val_loss: 0.0907\n",
      "Epoch 35/100\n",
      "57/57 [==============================] - 1s 23ms/step - loss: 0.0308 - val_loss: 0.0698\n",
      "Epoch 36/100\n",
      "57/57 [==============================] - 2s 27ms/step - loss: 0.0310 - val_loss: 0.0132\n",
      "Epoch 37/100\n",
      "57/57 [==============================] - 1s 23ms/step - loss: 0.0292 - val_loss: 0.0261\n",
      "Epoch 38/100\n",
      "57/57 [==============================] - 2s 29ms/step - loss: 0.0280 - val_loss: 0.0201\n",
      "Epoch 39/100\n",
      "57/57 [==============================] - 2s 35ms/step - loss: 0.0284 - val_loss: 0.0270\n",
      "Epoch 40/100\n",
      "57/57 [==============================] - 1s 26ms/step - loss: 0.0277 - val_loss: 0.0313\n",
      "this is the hook\n",
      "(29986, 15, 1)\n",
      "this is the hook\n",
      "this is the new stuff\n",
      "5.451917177434772\n",
      "0.23\n",
      "1.2539409508099975\n",
      "this is the new stuff\n",
      "               uniqueID  val_num  manual_anomaly\n",
      "model_anomaly                                   \n",
      "False             29489    29489           29489\n",
      "True                497      497             497\n",
      "                uniqueID  val_num  model_anomaly\n",
      "manual_anomaly                                  \n",
      "False              29986    29986          29986\n",
      "Training for : Campus Energy Centre Campus HW Main Meter Entering Water Temperature\n",
      "_measurement=\"TRAINING_ANOMALY\" AND uniqueID=\"Campus Energy Centre Campus HW Main Meter Entering Water Temperature\"\n",
      "Epoch 1/100\n",
      "57/57 [==============================] - 5s 32ms/step - loss: 0.0979 - val_loss: 0.1046\n",
      "Epoch 2/100\n",
      "57/57 [==============================] - 1s 21ms/step - loss: 0.0718 - val_loss: 0.0521\n",
      "Epoch 3/100\n",
      "57/57 [==============================] - 1s 21ms/step - loss: 0.0548 - val_loss: 0.0414\n",
      "Epoch 4/100\n",
      "57/57 [==============================] - 1s 22ms/step - loss: 0.0461 - val_loss: 0.0328\n",
      "Epoch 5/100\n",
      "57/57 [==============================] - 1s 22ms/step - loss: 0.0368 - val_loss: 0.0232\n",
      "Epoch 6/100\n",
      "57/57 [==============================] - 1s 22ms/step - loss: 0.0272 - val_loss: 0.0400\n",
      "Epoch 7/100\n",
      "57/57 [==============================] - 1s 22ms/step - loss: 0.0243 - val_loss: 0.0117\n",
      "Epoch 8/100\n",
      "57/57 [==============================] - 1s 22ms/step - loss: 0.0224 - val_loss: 0.0089\n",
      "Epoch 9/100\n",
      "57/57 [==============================] - 1s 22ms/step - loss: 0.0208 - val_loss: 0.0279\n",
      "Epoch 10/100\n",
      "57/57 [==============================] - 1s 21ms/step - loss: 0.0213 - val_loss: 0.0079\n",
      "Epoch 11/100\n",
      "57/57 [==============================] - 1s 22ms/step - loss: 0.0203 - val_loss: 0.0112\n",
      "Epoch 12/100\n",
      "57/57 [==============================] - 1s 23ms/step - loss: 0.0219 - val_loss: 0.0064\n",
      "Epoch 13/100\n",
      "57/57 [==============================] - 1s 21ms/step - loss: 0.0198 - val_loss: 0.0099\n",
      "Epoch 14/100\n",
      "57/57 [==============================] - 1s 21ms/step - loss: 0.0178 - val_loss: 0.0096\n",
      "Epoch 15/100\n",
      "57/57 [==============================] - 1s 21ms/step - loss: 0.0195 - val_loss: 0.0109\n",
      "Epoch 16/100\n",
      "57/57 [==============================] - 1s 21ms/step - loss: 0.0165 - val_loss: 0.0062\n",
      "Epoch 17/100\n",
      "57/57 [==============================] - 1s 21ms/step - loss: 0.0185 - val_loss: 0.0074\n",
      "Epoch 18/100\n",
      "57/57 [==============================] - 1s 22ms/step - loss: 0.0165 - val_loss: 0.0166\n",
      "Epoch 19/100\n",
      "57/57 [==============================] - 1s 22ms/step - loss: 0.0184 - val_loss: 0.0130\n",
      "Epoch 20/100\n",
      "57/57 [==============================] - 1s 22ms/step - loss: 0.0187 - val_loss: 0.0033\n",
      "Epoch 21/100\n",
      "57/57 [==============================] - 1s 23ms/step - loss: 0.0161 - val_loss: 0.0094\n",
      "Epoch 22/100\n",
      "57/57 [==============================] - 1s 22ms/step - loss: 0.0186 - val_loss: 0.0129\n",
      "Epoch 23/100\n",
      "57/57 [==============================] - 1s 22ms/step - loss: 0.0233 - val_loss: 0.0040\n",
      "Epoch 24/100\n",
      "57/57 [==============================] - 1s 22ms/step - loss: 0.0178 - val_loss: 0.0233\n",
      "Epoch 25/100\n",
      "57/57 [==============================] - 1s 21ms/step - loss: 0.0191 - val_loss: 0.0062\n",
      "Epoch 26/100\n",
      "57/57 [==============================] - 1s 22ms/step - loss: 0.0158 - val_loss: 0.0024\n",
      "Epoch 27/100\n",
      "57/57 [==============================] - 1s 22ms/step - loss: 0.0162 - val_loss: 0.0046\n",
      "Epoch 28/100\n",
      "57/57 [==============================] - 1s 24ms/step - loss: 0.0179 - val_loss: 0.0169\n",
      "Epoch 29/100\n",
      "57/57 [==============================] - 1s 23ms/step - loss: 0.0179 - val_loss: 0.0105\n",
      "Epoch 30/100\n",
      "57/57 [==============================] - 1s 26ms/step - loss: 0.0163 - val_loss: 0.0122\n",
      "Epoch 31/100\n",
      "57/57 [==============================] - 1s 25ms/step - loss: 0.0162 - val_loss: 0.0097\n",
      "Epoch 32/100\n",
      "57/57 [==============================] - 1s 22ms/step - loss: 0.0174 - val_loss: 0.0200\n",
      "Epoch 33/100\n",
      "57/57 [==============================] - 1s 22ms/step - loss: 0.0166 - val_loss: 0.0131\n",
      "Epoch 34/100\n",
      "57/57 [==============================] - 1s 23ms/step - loss: 0.0169 - val_loss: 0.0041\n",
      "Epoch 35/100\n",
      "57/57 [==============================] - 1s 22ms/step - loss: 0.0160 - val_loss: 0.0123\n",
      "Epoch 36/100\n",
      "57/57 [==============================] - 1s 22ms/step - loss: 0.0183 - val_loss: 0.0218\n",
      "this is the hook\n",
      "(29986, 15, 1)\n",
      "this is the hook\n",
      "this is the new stuff\n",
      "0.3149353887578789\n",
      "0.8999999999999999\n",
      "0.283441849882091\n",
      "this is the new stuff\n",
      "               uniqueID  val_num  manual_anomaly\n",
      "model_anomaly                                   \n",
      "False             29756    29756           29756\n",
      "True                230      230             230\n",
      "                uniqueID  val_num  model_anomaly\n",
      "manual_anomaly                                  \n",
      "False              29986    29986          29986\n",
      "Training for : Campus Energy Centre Campus HW Main Meter Flow\n",
      "_measurement=\"TRAINING_ANOMALY\" AND uniqueID=\"Campus Energy Centre Campus HW Main Meter Flow\"\n",
      "Epoch 1/100\n",
      "57/57 [==============================] - 4s 33ms/step - loss: 0.3261 - val_loss: 0.2326\n",
      "Epoch 2/100\n",
      "57/57 [==============================] - 1s 21ms/step - loss: 0.1244 - val_loss: 0.1552\n",
      "Epoch 3/100\n",
      "57/57 [==============================] - 1s 21ms/step - loss: 0.1161 - val_loss: 0.1549\n",
      "Epoch 4/100\n",
      "57/57 [==============================] - 1s 20ms/step - loss: 0.1058 - val_loss: 0.1175\n",
      "Epoch 5/100\n",
      "57/57 [==============================] - 1s 21ms/step - loss: 0.0952 - val_loss: 0.1497\n",
      "Epoch 6/100\n",
      "57/57 [==============================] - 1s 22ms/step - loss: 0.0990 - val_loss: 0.1291\n",
      "Epoch 7/100\n",
      "57/57 [==============================] - 1s 22ms/step - loss: 0.0927 - val_loss: 0.0950\n",
      "Epoch 8/100\n",
      "57/57 [==============================] - 1s 23ms/step - loss: 0.0914 - val_loss: 0.1210\n",
      "Epoch 9/100\n",
      "57/57 [==============================] - 1s 22ms/step - loss: 0.0858 - val_loss: 0.1029\n",
      "Epoch 10/100\n",
      "57/57 [==============================] - 1s 22ms/step - loss: 0.0852 - val_loss: 0.0921\n",
      "Epoch 11/100\n",
      "57/57 [==============================] - 1s 22ms/step - loss: 0.0827 - val_loss: 0.0866\n",
      "Epoch 12/100\n",
      "57/57 [==============================] - 1s 23ms/step - loss: 0.0819 - val_loss: 0.1135\n",
      "Epoch 13/100\n",
      "57/57 [==============================] - 1s 24ms/step - loss: 0.0824 - val_loss: 0.0761\n",
      "Epoch 14/100\n",
      "57/57 [==============================] - 1s 21ms/step - loss: 0.0788 - val_loss: 0.1198\n",
      "Epoch 15/100\n",
      "57/57 [==============================] - 1s 21ms/step - loss: 0.0790 - val_loss: 0.0731\n",
      "Epoch 16/100\n",
      "57/57 [==============================] - 1s 22ms/step - loss: 0.0765 - val_loss: 0.0717\n",
      "Epoch 17/100\n",
      "57/57 [==============================] - 1s 24ms/step - loss: 0.0738 - val_loss: 0.0769\n",
      "Epoch 18/100\n",
      "57/57 [==============================] - 1s 23ms/step - loss: 0.0773 - val_loss: 0.1415\n",
      "Epoch 19/100\n",
      "57/57 [==============================] - 1s 23ms/step - loss: 0.0820 - val_loss: 0.0708\n",
      "Epoch 20/100\n",
      "57/57 [==============================] - 1s 23ms/step - loss: 0.0741 - val_loss: 0.1676\n",
      "Epoch 21/100\n",
      "57/57 [==============================] - 1s 22ms/step - loss: 0.0793 - val_loss: 0.0766\n",
      "Epoch 22/100\n",
      "57/57 [==============================] - 1s 21ms/step - loss: 0.0732 - val_loss: 0.1166\n",
      "Epoch 23/100\n",
      "57/57 [==============================] - 1s 22ms/step - loss: 0.0700 - val_loss: 0.0725\n",
      "Epoch 24/100\n",
      "57/57 [==============================] - 1s 22ms/step - loss: 0.0696 - val_loss: 0.0811\n",
      "Epoch 25/100\n",
      "57/57 [==============================] - 1s 25ms/step - loss: 0.0736 - val_loss: 0.0598\n",
      "Epoch 26/100\n",
      "57/57 [==============================] - 1s 23ms/step - loss: 0.0725 - val_loss: 0.0829\n",
      "Epoch 27/100\n",
      "57/57 [==============================] - 1s 23ms/step - loss: 0.0721 - val_loss: 0.0762\n",
      "Epoch 28/100\n",
      "57/57 [==============================] - 1s 21ms/step - loss: 0.0662 - val_loss: 0.0513\n",
      "Epoch 29/100\n",
      "57/57 [==============================] - 1s 23ms/step - loss: 0.0630 - val_loss: 0.0510\n",
      "Epoch 30/100\n",
      "57/57 [==============================] - 1s 23ms/step - loss: 0.0616 - val_loss: 0.0692\n",
      "Epoch 31/100\n",
      "57/57 [==============================] - 1s 24ms/step - loss: 0.0618 - val_loss: 0.0632\n",
      "Epoch 32/100\n",
      "57/57 [==============================] - 1s 22ms/step - loss: 0.0651 - val_loss: 0.0461\n",
      "Epoch 33/100\n",
      "57/57 [==============================] - 1s 23ms/step - loss: 0.0597 - val_loss: 0.0457\n",
      "Epoch 34/100\n",
      "57/57 [==============================] - 1s 22ms/step - loss: 0.0584 - val_loss: 0.0962\n",
      "Epoch 35/100\n",
      "57/57 [==============================] - 1s 22ms/step - loss: 0.0589 - val_loss: 0.0619\n",
      "Epoch 36/100\n",
      "57/57 [==============================] - 1s 23ms/step - loss: 0.0576 - val_loss: 0.0938\n",
      "Epoch 37/100\n",
      "57/57 [==============================] - 1s 23ms/step - loss: 0.0575 - val_loss: 0.0684\n",
      "Epoch 38/100\n",
      "57/57 [==============================] - 1s 23ms/step - loss: 0.0551 - val_loss: 0.0624\n",
      "Epoch 39/100\n",
      "57/57 [==============================] - 1s 24ms/step - loss: 0.0542 - val_loss: 0.0606\n",
      "Epoch 40/100\n",
      "57/57 [==============================] - 1s 24ms/step - loss: 0.0543 - val_loss: 0.0488\n",
      "Epoch 41/100\n",
      "57/57 [==============================] - 1s 24ms/step - loss: 0.0540 - val_loss: 0.0574\n",
      "Epoch 42/100\n",
      "57/57 [==============================] - 1s 22ms/step - loss: 0.0540 - val_loss: 0.0522\n",
      "Epoch 43/100\n",
      "57/57 [==============================] - 1s 23ms/step - loss: 0.0527 - val_loss: 0.0623\n",
      "this is the hook\n",
      "(29986, 15, 1)\n",
      "this is the hook\n",
      "this is the new stuff\n",
      "0.4252048699337187\n",
      "1.72\n",
      "0.7313523762859961\n",
      "this is the new stuff\n",
      "               uniqueID  val_num  manual_anomaly\n",
      "model_anomaly                                   \n",
      "False             29873    29873           29873\n",
      "True                113      113             113\n",
      "                uniqueID  val_num  model_anomaly\n",
      "manual_anomaly                                  \n",
      "False              29986    29986          29986\n",
      "Training for : Campus Energy Centre Campus HW Main Meter Power\n",
      "_measurement=\"TRAINING_ANOMALY\" AND uniqueID=\"Campus Energy Centre Campus HW Main Meter Power\"\n",
      "Epoch 1/100\n",
      "57/57 [==============================] - 5s 32ms/step - loss: 0.2444 - val_loss: 0.2403\n",
      "Epoch 2/100\n",
      "57/57 [==============================] - 1s 21ms/step - loss: 0.1328 - val_loss: 0.1520\n",
      "Epoch 3/100\n",
      "57/57 [==============================] - 1s 21ms/step - loss: 0.1052 - val_loss: 0.1702\n",
      "Epoch 4/100\n",
      "57/57 [==============================] - 1s 22ms/step - loss: 0.0993 - val_loss: 0.1431\n",
      "Epoch 5/100\n",
      "57/57 [==============================] - 1s 23ms/step - loss: 0.0920 - val_loss: 0.1180\n",
      "Epoch 6/100\n",
      "57/57 [==============================] - 1s 24ms/step - loss: 0.0889 - val_loss: 0.1115\n",
      "Epoch 7/100\n",
      "57/57 [==============================] - 1s 23ms/step - loss: 0.0819 - val_loss: 0.0772\n",
      "Epoch 8/100\n",
      "57/57 [==============================] - 1s 23ms/step - loss: 0.0771 - val_loss: 0.1408\n",
      "Epoch 9/100\n",
      "57/57 [==============================] - 1s 22ms/step - loss: 0.0750 - val_loss: 0.1145\n",
      "Epoch 10/100\n",
      "57/57 [==============================] - 1s 24ms/step - loss: 0.0686 - val_loss: 0.0829\n",
      "Epoch 11/100\n",
      "57/57 [==============================] - 1s 23ms/step - loss: 0.0676 - val_loss: 0.0606\n",
      "Epoch 12/100\n",
      "57/57 [==============================] - 1s 23ms/step - loss: 0.0619 - val_loss: 0.0643\n",
      "Epoch 13/100\n",
      "57/57 [==============================] - 1s 23ms/step - loss: 0.0583 - val_loss: 0.0888\n",
      "Epoch 14/100\n",
      "57/57 [==============================] - 1s 25ms/step - loss: 0.0562 - val_loss: 0.0971\n",
      "Epoch 15/100\n",
      "57/57 [==============================] - 1s 23ms/step - loss: 0.0554 - val_loss: 0.0557\n",
      "Epoch 16/100\n",
      "57/57 [==============================] - 1s 23ms/step - loss: 0.0567 - val_loss: 0.0530\n",
      "Epoch 17/100\n",
      "57/57 [==============================] - 1s 23ms/step - loss: 0.0551 - val_loss: 0.0500\n",
      "Epoch 18/100\n",
      "57/57 [==============================] - 1s 25ms/step - loss: 0.0553 - val_loss: 0.0692\n",
      "Epoch 19/100\n",
      "57/57 [==============================] - 2s 28ms/step - loss: 0.0552 - val_loss: 0.0628\n",
      "Epoch 20/100\n",
      "57/57 [==============================] - 1s 26ms/step - loss: 0.0516 - val_loss: 0.0791\n",
      "Epoch 21/100\n",
      "57/57 [==============================] - 1s 22ms/step - loss: 0.0544 - val_loss: 0.0561\n",
      "Epoch 22/100\n",
      "57/57 [==============================] - 1s 24ms/step - loss: 0.0514 - val_loss: 0.0963\n",
      "Epoch 23/100\n",
      "57/57 [==============================] - 1s 23ms/step - loss: 0.0484 - val_loss: 0.0424\n",
      "Epoch 24/100\n",
      "57/57 [==============================] - 1s 24ms/step - loss: 0.0474 - val_loss: 0.0532\n",
      "Epoch 25/100\n",
      "57/57 [==============================] - 1s 22ms/step - loss: 0.0489 - val_loss: 0.0444\n",
      "Epoch 26/100\n",
      "57/57 [==============================] - 1s 22ms/step - loss: 0.0484 - val_loss: 0.0833\n",
      "Epoch 27/100\n",
      "57/57 [==============================] - 1s 23ms/step - loss: 0.0473 - val_loss: 0.0440\n",
      "Epoch 28/100\n",
      "57/57 [==============================] - 1s 22ms/step - loss: 0.0452 - val_loss: 0.0521\n",
      "Epoch 29/100\n",
      "57/57 [==============================] - 1s 23ms/step - loss: 0.0447 - val_loss: 0.0598\n",
      "Epoch 30/100\n",
      "57/57 [==============================] - 1s 22ms/step - loss: 0.0434 - val_loss: 0.0444\n",
      "Epoch 31/100\n",
      "57/57 [==============================] - 1s 22ms/step - loss: 0.0434 - val_loss: 0.0764\n",
      "Epoch 32/100\n",
      "57/57 [==============================] - 1s 23ms/step - loss: 0.0482 - val_loss: 0.0620\n",
      "Epoch 33/100\n",
      "57/57 [==============================] - 2s 32ms/step - loss: 0.0446 - val_loss: 0.0254\n",
      "Epoch 34/100\n",
      "57/57 [==============================] - 1s 23ms/step - loss: 0.0446 - val_loss: 0.0494\n",
      "Epoch 35/100\n",
      "57/57 [==============================] - 1s 26ms/step - loss: 0.0423 - val_loss: 0.0683\n",
      "Epoch 36/100\n",
      "57/57 [==============================] - 1s 23ms/step - loss: 0.0414 - val_loss: 0.0336\n",
      "Epoch 37/100\n",
      "57/57 [==============================] - 1s 23ms/step - loss: 0.0413 - val_loss: 0.0281\n",
      "Epoch 38/100\n",
      "57/57 [==============================] - 1s 23ms/step - loss: 0.0404 - val_loss: 0.0355\n",
      "Epoch 39/100\n",
      "57/57 [==============================] - 1s 24ms/step - loss: 0.0398 - val_loss: 0.0219\n",
      "Epoch 40/100\n",
      "57/57 [==============================] - 1s 23ms/step - loss: 0.0417 - val_loss: 0.0520\n",
      "Epoch 41/100\n",
      "57/57 [==============================] - 1s 23ms/step - loss: 0.0397 - val_loss: 0.0238\n",
      "Epoch 42/100\n",
      "57/57 [==============================] - 1s 24ms/step - loss: 0.0390 - val_loss: 0.0895\n",
      "Epoch 43/100\n",
      "57/57 [==============================] - 1s 24ms/step - loss: 0.0384 - val_loss: 0.0536\n",
      "Epoch 44/100\n",
      "57/57 [==============================] - 1s 24ms/step - loss: 0.0407 - val_loss: 0.0169\n",
      "Epoch 45/100\n",
      "57/57 [==============================] - 1s 25ms/step - loss: 0.0382 - val_loss: 0.0365\n",
      "Epoch 46/100\n",
      "57/57 [==============================] - 2s 29ms/step - loss: 0.0389 - val_loss: 0.0397\n",
      "Epoch 47/100\n",
      "57/57 [==============================] - 2s 40ms/step - loss: 0.0364 - val_loss: 0.0484\n",
      "Epoch 48/100\n",
      "57/57 [==============================] - 2s 36ms/step - loss: 0.0383 - val_loss: 0.0511\n",
      "Epoch 49/100\n",
      "57/57 [==============================] - 1s 25ms/step - loss: 0.0424 - val_loss: 0.0200\n",
      "Epoch 50/100\n",
      "57/57 [==============================] - 1s 22ms/step - loss: 0.0376 - val_loss: 0.0254\n",
      "Epoch 51/100\n",
      "57/57 [==============================] - 1s 22ms/step - loss: 0.0391 - val_loss: 0.0437\n",
      "Epoch 52/100\n",
      "57/57 [==============================] - 1s 23ms/step - loss: 0.0363 - val_loss: 0.0234\n",
      "Epoch 53/100\n",
      "57/57 [==============================] - 1s 20ms/step - loss: 0.0360 - val_loss: 0.0628\n",
      "Epoch 54/100\n",
      "57/57 [==============================] - 1s 21ms/step - loss: 0.0366 - val_loss: 0.0242\n",
      "this is the hook\n",
      "(29986, 15, 1)\n",
      "this is the hook\n",
      "this is the new stuff\n",
      "0.8624396777528242\n",
      "1.8\n",
      "1.5523914199550835\n",
      "this is the new stuff\n",
      "               uniqueID  val_num  manual_anomaly\n",
      "model_anomaly                                   \n",
      "False             29930    29930           29930\n",
      "True                 56       56              56\n",
      "                uniqueID  val_num  model_anomaly\n",
      "manual_anomaly                                  \n",
      "False              29986    29986          29986\n"
     ]
    }
   ],
   "source": [
    "set_seed(2)\n",
    "for key, df in influx_df_split_on_sensors.items():\n",
    "    print(\"Training for : {}\".format(key))\n",
    "\n",
    "    # Delete data that is about to be written, to prevent duplicaete write\n",
    "    delete_predicate = '_measurement=\"TRAINING_ANOMALY\" AND uniqueID=\"{}\"'.format(key)\n",
    "    print(delete_predicate)\n",
    "    delete_api = client.delete_api()\n",
    "    min_time = df[\"DateTime\"].values[0]\n",
    "    max_time = df[\"DateTime\"].values[-1]\n",
    "    delete_api.delete(\n",
    "        str(min_time) + \"Z\",\n",
    "        str(max_time) + \"Z\",\n",
    "        delete_predicate,\n",
    "        bucket=bucket,\n",
    "        org=org,\n",
    "    )\n",
    "\n",
    "    # avoid stale imports in notebooks\n",
    "    import importlib\n",
    "    importlib.reload(mt)\n",
    "    importlib.reload(mp)\n",
    "    importlib.reload(cl)\n",
    "\n",
    "    # creates standardized column for each sensor in main bucket\n",
    "    df[\"Stand_Val\"] = cl.std_val_train(\n",
    "        df[[\"Value\"]],\n",
    "        influx_df_split_on_sensors[key][\"ID\"].any(),\n",
    "        scaler_path,\n",
    "    )\n",
    "\n",
    "    # train on only data points not flagged manually\n",
    "    df = df[df.manual_anomaly != True]\n",
    "\n",
    "    if TESTING:\n",
    "        df = df.tail(30000)\n",
    "\n",
    "\n",
    "    # creates sequences for sliding windows for training\n",
    "    threshold_ratio = THRESHOLD_RATIOS[key]\n",
    "    time_steps = TIME_STEP_SIZES[key]\n",
    "    window_size = time_steps\n",
    "    x_train, y_train = mt.create_sequences(df[\"Stand_Val\"], df[\"Stand_Val\"], time_steps, window_size)\n",
    "    x_train = np.reshape(x_train, (x_train.shape[0], x_train.shape[1], 1))\n",
    "    x_eval, y_eval = mt.create_sequences(df[\"Stand_Val\"], df[\"Stand_Val\"], time_steps, 1)\n",
    "    x_eval = np.reshape(x_eval, (x_eval.shape[0], x_eval.shape[1], 1))\n",
    "\n",
    "    # trains and saves model\n",
    "    normal_dict = cl.model_parser(df, x_train, y_train, x_eval)\n",
    "    mt.fit_models(normal_dict, model_path)\n",
    "\n",
    "    # creates sequences for sliding windows for predicting on the train set\n",
    "    timestamps = df[\"DateTime\"].tail(len(df) - x_train.shape[1]+1).values\n",
    "    val_nums = df[\"Value\"].tail(len(df) - x_train.shape[1]+1).values\n",
    "    manual_anomaly = df[\"manual_anomaly\"].tail(len(df) - x_train.shape[1]+1).values\n",
    "    loss_percentile = cl.load_loss_percentile(key, file_path=percentile_path)\n",
    "    threshold = loss_percentile * threshold_ratio\n",
    "\n",
    "    # predicting and prediction formatting\n",
    "    pred_df = mp.make_prediction(\n",
    "        key,\n",
    "        x_eval,\n",
    "        timestamps,\n",
    "        threshold,\n",
    "        val_nums,\n",
    "        model_path,\n",
    "        anomaly_type=\"model_anomaly\",\n",
    "        manual_anomaly = manual_anomaly\n",
    "    )\n",
    "    pred_df = pred_df[[\"uniqueID\", \"val_num\", \"model_anomaly\", \"manual_anomaly\"]]\n",
    "\n",
    "    print(pred_df.groupby(\"model_anomaly\").count())\n",
    "    print(pred_df.groupby(\"manual_anomaly\").count())\n",
    "\n",
    "\n",
    "    influx_conn.write_data(pred_df, \"TRAINING_ANOMALY\", tags=[\"uniqueID\", \"model_anomaly\", \"manual_anomaly\"])"
   ]
  },
  {
   "cell_type": "markdown",
   "metadata": {},
   "source": [
    "Look at the files in the saved model directory"
   ]
  },
  {
   "cell_type": "code",
   "execution_count": null,
   "metadata": {},
   "outputs": [],
   "source": [
    "from os import listdir\n",
    "from os.path import isfile, join\n",
    "model_files = [f for f in listdir(model_path) if isfile(join(model_path, f))]\n",
    "for model_file in model_files:\n",
    "    print(model_file)"
   ]
  },
  {
   "cell_type": "markdown",
   "metadata": {},
   "source": [
    "The following screenshots show InfluxDB with the TRAINING_ANOMALY measurements with the model_anomaly field written from the above process. Note that as the anomaly labels are tags, it is best to view the data as a scatter plot with the symbol column as uniqueID and the fill column as `model_anomaly` or `manual_anomaly`."
   ]
  },
  {
   "cell_type": "markdown",
   "metadata": {},
   "source": [
    "![](demo_screenshots/step3.PNG)"
   ]
  },
  {
   "cell_type": "markdown",
   "metadata": {},
   "source": [
    "## Step 4 - Test Anomaly Detection Predictions\n",
    "\n",
    "This step tests anomaly predictions and includes reading recent data from InfluxDB (including the window of data required to make predictions), loading previously saved anomaly detection models, running these models on the data to provide predictions, and writing the results back to InfluxDB. This would be typically by completed on a high frequency interval (for example every minute or 5 minutes). A script for anomaly predictions that can be used with UDL's InfluxDB instance is available in `../code/sensor_predict.py`. Code that is only applicable to this test environment or differs from what would exist in `../code/sensor_predict.py` is noted.\n",
    "\n",
    "The code presented in this section is also available in `test_env_scheduled_predictor.py`.  "
   ]
  },
  {
   "cell_type": "markdown",
   "metadata": {},
   "source": [
    "First setup start and end times for the prediction data set in this testing environment. In `sensor_predict.py` END_TIME would be `now()` and START_TIME would be `now() - 1d`.  \n",
    "They time stamps are unix format.  \n",
    "The START_TIME here is the END_TIME from the training read.  \n",
    "This uses all the data up until `END_TIME` and then uses past `END_TIME` for predicting."
   ]
  },
  {
   "cell_type": "code",
   "execution_count": null,
   "metadata": {},
   "outputs": [],
   "source": [
    "# END TIME FOR TRAINING SET BECOMES PREDICTING'S START TIME\n",
    "START_TIME = 1613109600\n",
    "END_TIME = 1613196000"
   ]
  },
  {
   "cell_type": "markdown",
   "metadata": {},
   "source": [
    "Read data from InfluxDB:"
   ]
  },
  {
   "cell_type": "code",
   "execution_count": null,
   "metadata": {},
   "outputs": [],
   "source": [
    "influx_read_df_for_pred = influx_conn.make_query(\n",
    "    location=\"Campus Energy Centre\",\n",
    "    measurement=\"READINGS\",\n",
    "    start=START_TIME,\n",
    "    end=END_TIME,\n",
    ")"
   ]
  },
  {
   "cell_type": "markdown",
   "metadata": {},
   "source": [
    "Split the data based on uniqueID into individual sensor dataframes"
   ]
  },
  {
   "cell_type": "code",
   "execution_count": null,
   "metadata": {},
   "outputs": [],
   "source": [
    "dfs_for_pred = cl.split_sensors(influx_read_df_for_pred)"
   ]
  },
  {
   "cell_type": "markdown",
   "metadata": {},
   "source": [
    "The following cell provides predictions by iterating over each sensor in `main_bucket` and:\n",
    "\n",
    "1. Standardizes the values for training by loading the standardizer\n",
    "2. Sequences the values into windows for the LSTM-ED and other reshaping for the prediction step\n",
    "3. Creates predictions for the data and returns the prediction object\n",
    "4. Shapes the prediction object and write predictions to the PREDICT_ANOMALY Measurement realtime_anomaly field in InfluxDB"
   ]
  },
  {
   "cell_type": "code",
   "execution_count": null,
   "metadata": {},
   "outputs": [],
   "source": [
    "for key, df in dfs_for_pred.items():\n",
    "    dfs_for_pred[key][\"Stand_Val\"] = cl.std_val_predict(\n",
    "        dfs_for_pred[key][[\"Value\"]],\n",
    "        dfs_for_pred[key][\"ID\"].any(),\n",
    "        scaler_path,\n",
    "    )\n",
    "\n",
    "    # avoid stale imports in notebooks\n",
    "    import importlib\n",
    "    importlib.reload(mp)\n",
    "\n",
    "    # creates arrays for sliding windows\n",
    "    time_steps = TIME_STEP_SIZES[key]\n",
    "    window_size = 1\n",
    "    x_train, y_train = mt.create_sequences(df[\"Stand_Val\"], df[\"Stand_Val\"], time_steps, window_size)\n",
    "    x_train = np.reshape(x_train, (x_train.shape[0], x_train.shape[1], 1))\n",
    "\n",
    "    # set up lists for passing to predict\n",
    "    timestamps = df[\"DateTime\"].tail(len(df) - x_train.shape[1]+1).values\n",
    "    val_nums = df[\"Value\"].tail(len(df) - x_train.shape[1]+1).values\n",
    "\n",
    "    loss_percentile = cl.load_loss_percentile(key, file_path=percentile_path)\n",
    "    threshold = THRESHOLD_RATIOS[key] * loss_percentile\n",
    "\n",
    "\n",
    "    # predicting and prediction formatting\n",
    "    pred_df = mp.make_prediction(\n",
    "        key,\n",
    "        x_train,\n",
    "        timestamps,\n",
    "        threshold,\n",
    "        val_nums,\n",
    "        model_path,\n",
    "        anomaly_type=\"realtime_anomaly\"\n",
    "    )\n",
    "    pred_df = pred_df[[\"uniqueID\", \"val_num\", \"realtime_anomaly\"]]\n",
    "\n",
    "    influx_conn.write_data(pred_df, \"PREDICT_ANOMALY\", tags=[\"uniqueID\", \"realtime_anomaly\"])"
   ]
  },
  {
   "cell_type": "markdown",
   "metadata": {},
   "source": [
    "Predictions are now written to InfluxDB and a screenshot of the PREDICT_ANOMALY measurement in InfluxDB is shown below. Note that as the anomaly labels are tags, it is best to view the data as a scatter plot with the symbol column as uniqueID and the fill column as `realtime_anomaly`."
   ]
  },
  {
   "cell_type": "markdown",
   "metadata": {},
   "source": [
    "![](demo_screenshots/step4.PNG)"
   ]
  },
  {
   "cell_type": "markdown",
   "metadata": {},
   "source": [
    "The test environment will now have three measurements:\n",
    "\n",
    "- READINGS: the raw data  \n",
    "- TRAINING_ANOMALY: data with the `manual_anomaly` tag (if a user has input this) and `model_anomaly` tag generated from model training step\n",
    "- PREDICT_ANOMALY: data with the `realtime_anomaly` tag generated from the prediction step"
   ]
  },
  {
   "cell_type": "markdown",
   "metadata": {},
   "source": [
    "## Step 5 - Dashboard\n",
    "\n",
    "A template for the dashboard has been provided in this `create-test-env` directory as `cec_boiler_sensors_(test).json`\n",
    "\n",
    "**To upload the dashboard template:**\n",
    "1) Navigate to the `Dashboards` tab on the left panel of the influxdb user interface  \n",
    "2) Click `Create Dashboard` in the top right  \n",
    "3) Click `Import Dashboard` from the drop down  \n",
    "4) Click then upload `cec_boiler_sensors_(test).json`  \n",
    "5) Click the new dashboard to view, you will have to change the start date to view data (try 2020-12-20 to now)  "
   ]
  },
  {
   "cell_type": "markdown",
   "metadata": {},
   "source": [
    "The dashboard allows the user to change the time period viewed, whether the dashboard is continuously updated, and select the `anomaly_type` variable dropdown which will change the view between: `manual` (user entered `manual_anomaly` tag from the `TRAINING_ANOMALY` measurement), `model` (model training predictions from the `model_anomaly` tag from the `TRAINING_ANOMALY` measurement), or realtime (realtime predictions from the `realtime_anomaly` tag from the `PREDICT_ANOMALY` measurement`).\n",
    "\n",
    "Screenshot of the user controls and the full dashboard for the 5 sensors are shown below."
   ]
  },
  {
   "cell_type": "markdown",
   "metadata": {},
   "source": [
    "![](demo_screenshots/step5a.PNG)"
   ]
  },
  {
   "cell_type": "markdown",
   "metadata": {},
   "source": [
    "![](demo_screenshots/step5b.PNG)"
   ]
  },
  {
   "cell_type": "markdown",
   "metadata": {},
   "source": [
    "There are several challenges with the dashboard interface in InfluxDB including:\n",
    "\n",
    "- Coloring is not consistent between True/False labels on graphs and it does not appear possible to change this\n",
    "- It does not appear possible to change the point sizes\n",
    "- anomalies were input as tags as plotting boolean field data did not appear possible (there are workarounds to this)\n",
    "\n",
    "As such, it is recommended to explore Grafana if additional styling/capability is required. It may also be necessary to consider modifing the schema such that anomalies are field values intsead of tag values."
   ]
  },
  {
   "cell_type": "markdown",
   "metadata": {},
   "source": [
    "## Step 6 - Notifications\n",
    "\n",
    "This is done manually within InfluxDB. There may be a way to upload a template but this was not explored. The notification rule works by filtering for any data in the `PREDICT_ANOMALY` measurement that has the `realtime_anomaly` tag = True.\n",
    "\n",
    "The notification functionality was tested at a very high level in this study. Basically tyring to answer the question: can notifications be sent using InfluxDB on predicted anomalous data. The answer is `Yes` but additional investigations on notification settings should be completed.\n",
    "\n",
    "The process involves creating three objects:\n",
    "\n",
    "1. Checks  \n",
    "2. Notification Endpoints  \n",
    "3. Notification Rules  \n",
    "\n",
    "### 1) To Create a Check\n",
    "\n",
    "1. Navigate to the `Alerts` tab on the left panel of the influxdb user interface.\n",
    "2. Click `Create` in the top right  \n",
    "3. Click `Threshold Check` from the drop down  \n",
    "4. Define the query to look like (note that prior to creating this, the data explorer must be set on a timeframe that contains data): \n",
    "\n",
    "![query](./demo_screenshots/step6_1a.png)\n",
    "\n",
    "5. Configure Check as follows: \n",
    "\n",
    "![check](./demo_screenshots/step6_1b.png)\n",
    "\n",
    "6. Click the green check box\n",
    "\n",
    "### 2) To Create an Endpoint\n",
    "1. Create a new slack app and copy the incoming webhook https://api.slack.com/messaging/webhooks#create_a_webhook  \n",
    "2. Click `Notification Endpoints` on the middle banner  \n",
    "3. Click `Create` in the top right  \n",
    "4. Choose `Slack` from the drop down, name the endpoint, and paste your incoming webhook from your slack app and click Create    \n",
    "\n",
    "### 3) To Create a Notification Rule  \n",
    "1. Click `Notification Rules` from the middle banner  \n",
    "2. Click `Create` in the top right  \n",
    "3. Configure the Notification Rule to look like:\n",
    "\n",
    "![rule](./demo_screenshots/step6_2a.png)\n",
    "\n",
    "4. Click `Create Notification Rule`"
   ]
  },
  {
   "cell_type": "markdown",
   "metadata": {},
   "source": [
    "## Step 7 - Dashboard/Notification Test\n",
    "\n",
    "Upload data that has been flagged as anomalous to InfluxDB to test the notification system.\n",
    "\n",
    "The test data is set up to have 3 time stamps, now, 5 mins ago, and 10 mins ago. The notification system will only trigger on fresh data.\n",
    "\n",
    "**NOTE:** It was found during testing that notifications were sometimes inconsistent. Additional testing on the notification system would be required."
   ]
  },
  {
   "cell_type": "code",
   "execution_count": null,
   "metadata": {},
   "outputs": [],
   "source": [
    "DateTime = [int(time.time_ns()), int(time.time_ns() - 3e11), int(time.time_ns() - 6e11),]\n",
    "val_num = [140.0, -40.0, 40.0]\n",
    "realtime_anomaly = [\"True\", \"True\", \"False\"]\n",
    "uniqueID = [\"Campus Energy Centre Campus HW Main Meter Power\"] * 3\n",
    "\n",
    "data = {\"DateTime\": DateTime, \"val_num\":val_num, \"uniqueID\":uniqueID, \"realtime_anomaly\": realtime_anomaly}\n",
    "test_realtime = pd.DataFrame(data)\n",
    "test_realtime.set_index(\"DateTime\", drop=True, inplace=True)\n",
    "test_realtime.index.rename(\"DateTime\", inplace=True)\n",
    "test_realtime.head()"
   ]
  },
  {
   "cell_type": "code",
   "execution_count": null,
   "metadata": {},
   "outputs": [],
   "source": [
    "influx_conn.write_data(test_realtime, \"PREDICT_ANOMALY\", tags=[\"uniqueID\", \"realtime_anomaly\"])"
   ]
  },
  {
   "cell_type": "markdown",
   "metadata": {},
   "source": [
    "A flagged point will appear in the check's history:\n",
    "\n",
    "![notification](./demo_screenshots/step7a.png)"
   ]
  },
  {
   "cell_type": "markdown",
   "metadata": {},
   "source": [
    "And a notification will be pushed to slack:\n",
    "\n",
    "![notification](./demo_screenshots/step7b.png) "
   ]
  },
  {
   "cell_type": "markdown",
   "metadata": {},
   "source": [
    "## Step 8\n",
    "Re running the prediction step with different thresholds.  \n",
    "This doesnt retrain the model, just runs a prediction based on the new threshold set.  \n",
    "This requires the training to have already been run."
   ]
  },
  {
   "cell_type": "markdown",
   "metadata": {},
   "source": [
    "Choose the time period for the new analysis"
   ]
  },
  {
   "cell_type": "code",
   "execution_count": null,
   "metadata": {},
   "outputs": [],
   "source": [
    "START_TIME = 1613109600\n",
    "END_TIME = 1613196000"
   ]
  },
  {
   "cell_type": "markdown",
   "metadata": {},
   "source": [
    "Choose a sensor and a new threshold ratio"
   ]
  },
  {
   "cell_type": "code",
   "execution_count": null,
   "metadata": {},
   "outputs": [],
   "source": [
    "update_data = {\n",
    "    \"Campus Energy Centre Campus HW Main Meter Flow\" : 1.5\n",
    "}\n",
    "print(list(update_data.keys()))"
   ]
  },
  {
   "cell_type": "code",
   "execution_count": null,
   "metadata": {},
   "outputs": [],
   "source": [
    "influx_read_df_for_pred = influx_conn.make_query(\n",
    "    location=\"Campus Energy Centre\",\n",
    "    measurement=\"READINGS\",\n",
    "    start=START_TIME,\n",
    "    end=END_TIME,\n",
    "    id = list(update_data.keys())\n",
    ")"
   ]
  },
  {
   "cell_type": "code",
   "execution_count": null,
   "metadata": {},
   "outputs": [],
   "source": [
    "dfs_for_test = cl.split_sensors(influx_read_df_for_pred)"
   ]
  },
  {
   "cell_type": "markdown",
   "metadata": {},
   "source": [
    "Name the measurement you want your threshold experiment to be sent to"
   ]
  },
  {
   "cell_type": "code",
   "execution_count": null,
   "metadata": {},
   "outputs": [],
   "source": [
    "measurement_name = \"TEST_THRESHOLD_METER_FLOW\""
   ]
  },
  {
   "cell_type": "code",
   "execution_count": null,
   "metadata": {},
   "outputs": [],
   "source": [
    "for key, df in dfs_for_test.items():\n",
    "    dfs_for_test[key][\"Stand_Val\"] = cl.std_val_predict(\n",
    "        dfs_for_test[key][[\"Value\"]],\n",
    "        dfs_for_test[key][\"ID\"].any(),\n",
    "        scaler_path,\n",
    "    )\n",
    "    print(key)\n",
    "\n",
    "    # keeps external packages updated in\n",
    "    import importlib\n",
    "    importlib.reload(mp)\n",
    "\n",
    "    # sets up sequencing\n",
    "    time_steps = TIME_STEP_SIZES[key]\n",
    "    window_size = 1\n",
    "    x_train, y_train = mt.create_sequences(df[\"Stand_Val\"], df[\"Stand_Val\"], time_steps, window_size)\n",
    "    x_train = np.reshape(x_train, (x_train.shape[0], x_train.shape[1], 1))\n",
    "\n",
    "    # set up lists for passing to predict\n",
    "    timestamps = df[\"DateTime\"].tail(len(df) - x_train.shape[1]+1).values\n",
    "    val_nums = df[\"Value\"].tail(len(df) - x_train.shape[1]+1).values\n",
    "\n",
    "    # gets training loss percentile for threshold setting\n",
    "    loss_percentile = cl.load_loss_percentile(key, file_path=percentile_path)\n",
    "    threshold = THRESHOLD_RATIOS[key] * loss_percentile\n",
    "\n",
    "\n",
    "    # predicting and prediction formatting\n",
    "    pred_df = mp.make_prediction(\n",
    "        key,\n",
    "        x_train,\n",
    "        timestamps,\n",
    "        threshold,\n",
    "        val_nums,\n",
    "        model_path,\n",
    "        anomaly_type=\"realtime_anomaly\"\n",
    "    )\n",
    "    pred_df = pred_df[[\"uniqueID\", \"val_num\", \"realtime_anomaly\"]]\n",
    "\n",
    "    influx_conn.write_data(pred_df, measurement_name, tags=[\"uniqueID\", \"realtime_anomaly\"])"
   ]
  },
  {
   "cell_type": "code",
   "execution_count": null,
   "metadata": {},
   "outputs": [],
   "source": [
    "influx_conn.client.close()"
   ]
  },
  {
   "cell_type": "code",
   "execution_count": null,
   "metadata": {},
   "outputs": [],
   "source": []
  }
 ],
 "metadata": {
  "kernelspec": {
   "display_name": "Python 3",
   "language": "python",
   "name": "python3"
  },
  "language_info": {
   "codemirror_mode": {
    "name": "ipython",
    "version": 3
   },
   "file_extension": ".py",
   "mimetype": "text/x-python",
   "name": "python",
   "nbconvert_exporter": "python",
   "pygments_lexer": "ipython3",
   "version": "3.8.3-final"
  },
  "metadata": {
   "interpreter": {
    "hash": "7d2dde933846643c70a0971eba9e216bf0ce928f2ec74020d36b05b86c71e3e9"
   }
  }
 },
 "nbformat": 4,
 "nbformat_minor": 4
}