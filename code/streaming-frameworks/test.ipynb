{
 "metadata": {
  "language_info": {
   "codemirror_mode": {
    "name": "ipython",
    "version": 3
   },
   "file_extension": ".py",
   "mimetype": "text/x-python",
   "name": "python",
   "nbconvert_exporter": "python",
   "pygments_lexer": "ipython3",
   "version": "3.8.10"
  },
  "orig_nbformat": 2,
  "kernelspec": {
   "name": "python3810jvsc74a57bd07d2dde933846643c70a0971eba9e216bf0ce928f2ec74020d36b05b86c71e3e9",
   "display_name": "Python 3.8.10 64-bit ('pyinfluxdb': conda)"
  },
  "metadata": {
   "interpreter": {
    "hash": "7d2dde933846643c70a0971eba9e216bf0ce928f2ec74020d36b05b86c71e3e9"
   }
  }
 },
 "nbformat": 4,
 "nbformat_minor": 2,
 "cells": [
  {
   "cell_type": "code",
   "execution_count": 1,
   "metadata": {},
   "outputs": [],
   "source": [
    "import numpy as np"
   ]
  },
  {
   "cell_type": "code",
   "execution_count": 2,
   "metadata": {},
   "outputs": [],
   "source": [
    "data = []\n",
    "with open('metrics.out', \"r\") as file:\n",
    "    n=0\n",
    "    for line in file:\n",
    "        data.append(line)\n",
    "        if n <200:\n",
    "            n += 1\n",
    "        else: break"
   ]
  },
  {
   "cell_type": "code",
   "execution_count": 5,
   "metadata": {},
   "outputs": [],
   "source": [
    "line = data[0]"
   ]
  },
  {
   "cell_type": "code",
   "execution_count": 10,
   "metadata": {},
   "outputs": [
    {
     "output_type": "execute_result",
     "data": {
      "text/plain": [
       "['Reading',\n",
       " 'Status=ok',\n",
       " 'equipRef=Campus\\\\ Energy\\\\ Centre\\\\ Campus\\\\ HW\\\\ Main\\\\ Meter',\n",
       " 'host=7cfccc9019b2',\n",
       " 'id=p:ubcv:r:205b0392-31f31280',\n",
       " 'siteRef=Campus\\\\ Energy\\\\ Centre',\n",
       " 'unit=MW measurement=7.700000286102295 1620889025000000000\\n']"
      ]
     },
     "metadata": {},
     "execution_count": 10
    }
   ],
   "source": [
    "sline = line.split(',')\n",
    "sline"
   ]
  },
  {
   "cell_type": "code",
   "execution_count": 50,
   "metadata": {},
   "outputs": [],
   "source": [
    "sline_last = sline[-1].split()"
   ]
  },
  {
   "cell_type": "code",
   "execution_count": 73,
   "metadata": {},
   "outputs": [
    {
     "output_type": "execute_result",
     "data": {
      "text/plain": [
       "['unit=MW', 'measurement=7.700000286102295', '1620889025000000000']"
      ]
     },
     "metadata": {},
     "execution_count": 73
    }
   ],
   "source": [
    "sline_last"
   ]
  },
  {
   "cell_type": "code",
   "execution_count": 72,
   "metadata": {},
   "outputs": [],
   "source": [
    "find_id = list(map(lambda x: 'id=' in x, sline))\n",
    "find_val = list(map(lambda x: 'measurement=' in x, sline_last))"
   ]
  },
  {
   "cell_type": "code",
   "execution_count": 76,
   "metadata": {},
   "outputs": [],
   "source": [
    "id_full = np.array(sline)[find_id][0]\n",
    "val_full = np.array(sline_last)[find_val][0]"
   ]
  },
  {
   "cell_type": "code",
   "execution_count": 95,
   "metadata": {},
   "outputs": [],
   "source": [
    "id_nolabel = id_full.replace('id=', '')\n",
    "val_nolabel = val_full.replace('measurement=', '')\n",
    "extract_time = sline_last[-1]"
   ]
  },
  {
   "cell_type": "code",
   "execution_count": 96,
   "metadata": {},
   "outputs": [],
   "source": [
    "output_dict = {\n",
    "    \"id\": id_nolabel,\n",
    "    \"measurement\": val_nolabel,\n",
    "    \"timestamp\": extract_time\n",
    "}"
   ]
  },
  {
   "cell_type": "code",
   "execution_count": 97,
   "metadata": {},
   "outputs": [
    {
     "output_type": "execute_result",
     "data": {
      "text/plain": [
       "{'id': 'p:ubcv:r:205b0392-31f31280',\n",
       " 'measurement': '7.700000286102295',\n",
       " 'timestamp': '1620889025000000000'}"
      ]
     },
     "metadata": {},
     "execution_count": 97
    }
   ],
   "source": [
    "output_dict"
   ]
  },
  {
   "cell_type": "code",
   "execution_count": 88,
   "metadata": {},
   "outputs": [],
   "source": [
    "predict_anomaly = True"
   ]
  },
  {
   "cell_type": "code",
   "execution_count": 89,
   "metadata": {},
   "outputs": [],
   "source": [
    "if predict_anomaly:\n",
    "    anomaly_output = 'anomaly=True'\n",
    "else:\n",
    "    anomaly_output ='anomaly=False' "
   ]
  },
  {
   "cell_type": "code",
   "execution_count": 90,
   "metadata": {},
   "outputs": [],
   "source": [
    "output = 'CHECK_ANOMALY,' + ' '.join([id_full, val_full, anomaly_output, extract_time])"
   ]
  },
  {
   "cell_type": "code",
   "execution_count": 91,
   "metadata": {},
   "outputs": [
    {
     "output_type": "stream",
     "name": "stdout",
     "text": [
      "CHECK_ANOMALY,id=p:ubcv:r:205b0392-31f31280 measurement=7.700000286102295 anomaly=True 1620889025000000000\n"
     ]
    }
   ],
   "source": [
    "print(output)"
   ]
  },
  {
   "cell_type": "code",
   "execution_count": 3,
   "metadata": {},
   "outputs": [],
   "source": [
    "import influx_predict"
   ]
  },
  {
   "cell_type": "code",
   "execution_count": 4,
   "metadata": {},
   "outputs": [],
   "source": [
    "parsed = influx_predict.extract_data(data[0])"
   ]
  },
  {
   "cell_type": "code",
   "execution_count": 5,
   "metadata": {},
   "outputs": [],
   "source": [
    "predict_test = influx_predict.predict_anomaly(parsed)"
   ]
  },
  {
   "cell_type": "code",
   "execution_count": 6,
   "metadata": {},
   "outputs": [
    {
     "output_type": "execute_result",
     "data": {
      "text/plain": [
       "True"
      ]
     },
     "metadata": {},
     "execution_count": 6
    }
   ],
   "source": [
    "predict_test"
   ]
  },
  {
   "cell_type": "code",
   "execution_count": 7,
   "metadata": {},
   "outputs": [
    {
     "output_type": "execute_result",
     "data": {
      "text/plain": [
       "'CHECK_ANOMALY,id=p:ubcv:r:205b0392-31f31280 measurement=7.700000286102295,anomaly=True 1620889025000000000'"
      ]
     },
     "metadata": {},
     "execution_count": 7
    }
   ],
   "source": [
    "influx_predict.convert_data(parsed, predict_test)"
   ]
  }
 ]
}