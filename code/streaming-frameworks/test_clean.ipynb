{
 "metadata": {
  "language_info": {
   "codemirror_mode": {
    "name": "ipython",
    "version": 3
   },
   "file_extension": ".py",
   "mimetype": "text/x-python",
   "name": "python",
   "nbconvert_exporter": "python",
   "pygments_lexer": "ipython3",
   "version": "3.8.3"
  },
  "orig_nbformat": 2,
  "kernelspec": {
   "name": "python383jvsc74a57bd0f8276c093d7ded3cd3b967974e4dc7a67e95d353506c8a69e8f4f7f803efaf80",
   "display_name": "Python 3.8.3 64-bit ('base': conda)"
  }
 },
 "nbformat": 4,
 "nbformat_minor": 2,
 "cells": [
  {
   "cell_type": "code",
   "execution_count": 1,
   "metadata": {},
   "outputs": [],
   "source": [
    "from influx_interact import *\n",
    "from clean_data import *\n",
    "import pandas as pd\n"
   ]
  },
  {
   "source": [
    "# Example of InfluxDB download."
   ],
   "cell_type": "markdown",
   "metadata": {}
  },
  {
   "cell_type": "code",
   "execution_count": 2,
   "metadata": {},
   "outputs": [],
   "source": [
    "#Define a few variables with the name of your bucket, organization, and token.\n",
    "bucket = \"SKYSPARK\"\n",
    "org = \"UBC\"\n",
    "#UDL provides public users READ access to the InfluxDB 2.0 instance via this token\n",
    "token = \"insert public token here\"\n",
    "url=\"http://206.12.92.81:8086\""
   ]
  },
  {
   "cell_type": "code",
   "execution_count": 3,
   "metadata": {},
   "outputs": [],
   "source": [
    "test = influx_class(org, url, bucket, token)\n",
    "id = [\"r:p:ubcv:r:205b0392-31f31280 Campus Energy Centre Campus HW Main Meter Power\", \"r:p:ubcv:r:205b1697-84986d73 Campus Energy Centre Campus HW Main Meter Leaving Water Temperature\", \"r:p:ubcv:r:205b0343-70d7c00c Campus Energy Centre Campus HW Main Meter Energy\", \"r:p:ubcv:r:205b03d6-b9859d31 Campus Energy Centre Campus HW Main Meter Flow\"]"
   ]
  },
  {
   "cell_type": "code",
   "execution_count": 4,
   "metadata": {},
   "outputs": [],
   "source": [
    "testdf = test.make_query(\"Campus Energy Centre\", id)"
   ]
  },
  {
   "cell_type": "code",
   "execution_count": 5,
   "metadata": {},
   "outputs": [],
   "source": [
    "# split sensor\n",
    "main_bucket = split_sensors(testdf)"
   ]
  },
  {
   "cell_type": "code",
   "execution_count": 6,
   "metadata": {},
   "outputs": [
    {
     "output_type": "execute_result",
     "data": {
      "text/plain": [
       "                   DateTime    Value navName  \\\n",
       "0 2020-06-23 01:30:00+00:00  0.50000  Energy   \n",
       "1 2020-06-23 01:45:00+00:00  0.50000  Energy   \n",
       "2 2020-06-23 02:00:00+00:00  0.59375  Energy   \n",
       "3 2020-06-23 02:15:00+00:00  0.40625  Energy   \n",
       "4 2020-06-23 02:30:00+00:00  0.59375  Energy   \n",
       "\n",
       "                                                  ID unit  \n",
       "0  r:p:ubcv:r:205b0343-70d7c00c Campus Energy Cen...  MWh  \n",
       "1  r:p:ubcv:r:205b0343-70d7c00c Campus Energy Cen...  MWh  \n",
       "2  r:p:ubcv:r:205b0343-70d7c00c Campus Energy Cen...  MWh  \n",
       "3  r:p:ubcv:r:205b0343-70d7c00c Campus Energy Cen...  MWh  \n",
       "4  r:p:ubcv:r:205b0343-70d7c00c Campus Energy Cen...  MWh  "
      ],
      "text/html": "<div>\n<style scoped>\n    .dataframe tbody tr th:only-of-type {\n        vertical-align: middle;\n    }\n\n    .dataframe tbody tr th {\n        vertical-align: top;\n    }\n\n    .dataframe thead th {\n        text-align: right;\n    }\n</style>\n<table border=\"1\" class=\"dataframe\">\n  <thead>\n    <tr style=\"text-align: right;\">\n      <th></th>\n      <th>DateTime</th>\n      <th>Value</th>\n      <th>navName</th>\n      <th>ID</th>\n      <th>unit</th>\n    </tr>\n  </thead>\n  <tbody>\n    <tr>\n      <th>0</th>\n      <td>2020-06-23 01:30:00+00:00</td>\n      <td>0.50000</td>\n      <td>Energy</td>\n      <td>r:p:ubcv:r:205b0343-70d7c00c Campus Energy Cen...</td>\n      <td>MWh</td>\n    </tr>\n    <tr>\n      <th>1</th>\n      <td>2020-06-23 01:45:00+00:00</td>\n      <td>0.50000</td>\n      <td>Energy</td>\n      <td>r:p:ubcv:r:205b0343-70d7c00c Campus Energy Cen...</td>\n      <td>MWh</td>\n    </tr>\n    <tr>\n      <th>2</th>\n      <td>2020-06-23 02:00:00+00:00</td>\n      <td>0.59375</td>\n      <td>Energy</td>\n      <td>r:p:ubcv:r:205b0343-70d7c00c Campus Energy Cen...</td>\n      <td>MWh</td>\n    </tr>\n    <tr>\n      <th>3</th>\n      <td>2020-06-23 02:15:00+00:00</td>\n      <td>0.40625</td>\n      <td>Energy</td>\n      <td>r:p:ubcv:r:205b0343-70d7c00c Campus Energy Cen...</td>\n      <td>MWh</td>\n    </tr>\n    <tr>\n      <th>4</th>\n      <td>2020-06-23 02:30:00+00:00</td>\n      <td>0.59375</td>\n      <td>Energy</td>\n      <td>r:p:ubcv:r:205b0343-70d7c00c Campus Energy Cen...</td>\n      <td>MWh</td>\n    </tr>\n  </tbody>\n</table>\n</div>"
     },
     "metadata": {},
     "execution_count": 6
    }
   ],
   "source": [
    "main_bucket[0].iloc[0:5,:]"
   ]
  },
  {
   "source": [
    "# Usng CSV Data\n",
    "\n",
    "Since we don't have trained data on the above dataframe we will be using a modified csv file for example.\n",
    "\n",
    "### Setting up Training Data\n",
    "This would be done through influx_interact"
   ],
   "cell_type": "markdown",
   "metadata": {}
  },
  {
   "cell_type": "code",
   "execution_count": 8,
   "metadata": {},
   "outputs": [],
   "source": [
    "training_data = pd.read_csv('../../data/testing-data/trained_bucket.csv')\n",
    "\n",
    "training_data = training_data.rename(columns={'Anomaly':'AH'})\n",
    "# Setup our training data to only have human labelled anomalies \n",
    "# and no machine labelled ones\n",
    "# Remember True and False on 'AH' are verified true or false\n",
    "training_data['AM'] = False"
   ]
  },
  {
   "source": [
    "### Setting up Main Bucket\n",
    "This would be done through influx_interact"
   ],
   "cell_type": "markdown",
   "metadata": {}
  },
  {
   "cell_type": "code",
   "execution_count": 9,
   "metadata": {},
   "outputs": [],
   "source": [
    "main_bucket[0] = pd.read_csv('../../data/testing-data/main_bucket.csv')\n",
    "\n"
   ]
  },
  {
   "source": [
    "### Standardize data"
   ],
   "cell_type": "markdown",
   "metadata": {}
  },
  {
   "cell_type": "code",
   "execution_count": 10,
   "metadata": {},
   "outputs": [],
   "source": [
    "for i in range(0, len(main_bucket)):\n",
    "    main_bucket[i]['Stand_Val'] = standardize_values(main_bucket[i][['Value']])"
   ]
  },
  {
   "source": [
    "### Combining Training and Main Bucket\n",
    "\n",
    "This would usually be added to the for loop for every sensor but seeing how we only have one set of training data in the example."
   ],
   "cell_type": "markdown",
   "metadata": {}
  },
  {
   "cell_type": "code",
   "execution_count": 11,
   "metadata": {},
   "outputs": [],
   "source": [
    "joined_df = add_anomalies(main_bucket[0],training_data)\n"
   ]
  },
  {
   "source": [
    "### Group Check\n",
    "\n",
    "This would look if the dataframe sensor belongs to a group and return the name of the group. Returns None if the sensor does not.  This can be modified for however we plan to set up model groups.  Need to talk to Mitch about this."
   ],
   "cell_type": "markdown",
   "metadata": {}
  },
  {
   "cell_type": "code",
   "execution_count": 12,
   "metadata": {},
   "outputs": [
    {
     "output_type": "execute_result",
     "data": {
      "text/plain": [
       "'Group A'"
      ]
     },
     "metadata": {},
     "execution_count": 12
    }
   ],
   "source": [
    "group_check(joined_df)"
   ]
  },
  {
   "source": [
    "Looking at the dataframe produced.  Just need to chat with Mitch about what he needs coming into his detection model."
   ],
   "cell_type": "markdown",
   "metadata": {}
  },
  {
   "cell_type": "code",
   "execution_count": 13,
   "metadata": {},
   "outputs": [
    {
     "output_type": "execute_result",
     "data": {
      "text/plain": [
       "    AH     AM            Datetime  \\\n",
       "0  NaN  False 2020-01-01 07:58:00   \n",
       "1  NaN  False 2020-01-01 08:00:00   \n",
       "2  NaN  False 2020-01-01 08:01:00   \n",
       "3  NaN  False 2020-01-01 08:04:00   \n",
       "4  NaN  False 2020-01-01 08:07:00   \n",
       "\n",
       "                                                ID  Stand_Val  Value  \n",
       "0  Campus Energy Centre Campus HW Main Meter Power  -0.487452    9.6  \n",
       "1  Campus Energy Centre Campus HW Main Meter Power  -0.487452    9.6  \n",
       "2  Campus Energy Centre Campus HW Main Meter Power  -0.406726   10.3  \n",
       "3  Campus Energy Centre Campus HW Main Meter Power  -0.326000   11.0  \n",
       "4  Campus Energy Centre Campus HW Main Meter Power  -0.406726   10.3  "
      ],
      "text/html": "<div>\n<style scoped>\n    .dataframe tbody tr th:only-of-type {\n        vertical-align: middle;\n    }\n\n    .dataframe tbody tr th {\n        vertical-align: top;\n    }\n\n    .dataframe thead th {\n        text-align: right;\n    }\n</style>\n<table border=\"1\" class=\"dataframe\">\n  <thead>\n    <tr style=\"text-align: right;\">\n      <th></th>\n      <th>AH</th>\n      <th>AM</th>\n      <th>Datetime</th>\n      <th>ID</th>\n      <th>Stand_Val</th>\n      <th>Value</th>\n    </tr>\n  </thead>\n  <tbody>\n    <tr>\n      <th>0</th>\n      <td>NaN</td>\n      <td>False</td>\n      <td>2020-01-01 07:58:00</td>\n      <td>Campus Energy Centre Campus HW Main Meter Power</td>\n      <td>-0.487452</td>\n      <td>9.6</td>\n    </tr>\n    <tr>\n      <th>1</th>\n      <td>NaN</td>\n      <td>False</td>\n      <td>2020-01-01 08:00:00</td>\n      <td>Campus Energy Centre Campus HW Main Meter Power</td>\n      <td>-0.487452</td>\n      <td>9.6</td>\n    </tr>\n    <tr>\n      <th>2</th>\n      <td>NaN</td>\n      <td>False</td>\n      <td>2020-01-01 08:01:00</td>\n      <td>Campus Energy Centre Campus HW Main Meter Power</td>\n      <td>-0.406726</td>\n      <td>10.3</td>\n    </tr>\n    <tr>\n      <th>3</th>\n      <td>NaN</td>\n      <td>False</td>\n      <td>2020-01-01 08:04:00</td>\n      <td>Campus Energy Centre Campus HW Main Meter Power</td>\n      <td>-0.326000</td>\n      <td>11.0</td>\n    </tr>\n    <tr>\n      <th>4</th>\n      <td>NaN</td>\n      <td>False</td>\n      <td>2020-01-01 08:07:00</td>\n      <td>Campus Energy Centre Campus HW Main Meter Power</td>\n      <td>-0.406726</td>\n      <td>10.3</td>\n    </tr>\n  </tbody>\n</table>\n</div>"
     },
     "metadata": {},
     "execution_count": 13
    }
   ],
   "source": [
    "joined_df.iloc[0:5,:]"
   ]
  }
 ]
}