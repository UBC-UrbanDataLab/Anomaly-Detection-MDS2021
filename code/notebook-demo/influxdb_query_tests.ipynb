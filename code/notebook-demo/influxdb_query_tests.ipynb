{
 "cells": [
  {
   "cell_type": "code",
   "execution_count": 1,
   "metadata": {},
   "outputs": [],
   "source": [
    "import pandas as pd\n",
    "import influxdb_client\n",
    "from datetime import timezone, datetime\n",
    "import pytz\n",
    "import matplotlib.pyplot as plt\n",
    "%matplotlib inline"
   ]
  },
  {
   "cell_type": "code",
   "execution_count": 2,
   "metadata": {},
   "outputs": [],
   "source": [
    "#Define a few variables with the name of your bucket, organization, and token.\n",
    "bucket = \"SKYSPARK\"\n",
    "org = \"UBC\"\n",
    "#UDL provides public users READ access to the InfluxDB 2.0 instance via this token\n",
    "token = \"***REMOVED***\"\n",
    "url=\"http://206.12.92.81:8086/\""
   ]
  },
  {
   "cell_type": "code",
   "execution_count": 53,
   "metadata": {},
   "outputs": [],
   "source": [
    "#Instantiate the client.\n",
    "client = influxdb_client.InfluxDBClient(url=url, token=token, org=org)\n",
    "\n",
    "#Create a Flux query.\n",
    "    #Flux documentation https://docs.influxdata.com/influxdb/v2.0/reference/flux/\n",
    "    #You can generate Flux query using the Query Builder on http://206.12.92.81:8086/\n",
    "query = '''from(bucket: \"SKYSPARK\")\n",
    "  |> range(start: 2020-01-01T00:00:00Z, stop: now())\n",
    "  |> filter(fn: (r) => r[\"_measurement\"] == \"READINGS\")\n",
    "  |> filter(fn: (r) => r[\"siteRef\"] == \"Campus Energy Centre\")\n",
    "  |> filter(fn: (r) => r[\"_field\"] == \"val_num\")'''\n",
    "\n",
    "##Instantiate the query client. Specify org and query.\n",
    "result = client.query_api().query_data_frame(org=org, query=query)"
   ]
  },
  {
   "cell_type": "code",
   "execution_count": 51,
   "metadata": {},
   "outputs": [
    {
     "output_type": "execute_result",
     "data": {
      "text/plain": [
       "array(['r:p:ubcv:r:205b0343-70d7c00c Campus Energy Centre Campus HW Main Meter Energy',\n",
       "       'r:p:ubcv:r:205b17b3-76f4a76d Campus Energy Centre Campus HW Main Meter Entering Water Temperature',\n",
       "       'r:p:ubcv:r:205b03d6-b9859d31 Campus Energy Centre Campus HW Main Meter Flow',\n",
       "       'r:p:ubcv:r:205b1697-84986d73 Campus Energy Centre Campus HW Main Meter Leaving Water Temperature',\n",
       "       'r:p:ubcv:r:205b0392-31f31280 Campus Energy Centre Campus HW Main Meter Power'],\n",
       "      dtype=object)"
      ]
     },
     "metadata": {},
     "execution_count": 51
    }
   ],
   "source": [
    "result.uniqueID.unique()"
   ]
  },
  {
   "cell_type": "code",
   "execution_count": 52,
   "metadata": {},
   "outputs": [
    {
     "output_type": "execute_result",
     "data": {
      "text/plain": [
       "         result table                    _start  \\\n",
       "0       _result     0 2020-01-01 00:00:00+00:00   \n",
       "1       _result     0 2020-01-01 00:00:00+00:00   \n",
       "2       _result     0 2020-01-01 00:00:00+00:00   \n",
       "3       _result     0 2020-01-01 00:00:00+00:00   \n",
       "4       _result     0 2020-01-01 00:00:00+00:00   \n",
       "...         ...   ...                       ...   \n",
       "146420  _result     4 2020-01-01 00:00:00+00:00   \n",
       "146421  _result     4 2020-01-01 00:00:00+00:00   \n",
       "146422  _result     4 2020-01-01 00:00:00+00:00   \n",
       "146423  _result     4 2020-01-01 00:00:00+00:00   \n",
       "146424  _result     4 2020-01-01 00:00:00+00:00   \n",
       "\n",
       "                                  _stop                     _time   _value  \\\n",
       "0      2021-05-16 16:02:25.962108+00:00 2020-06-23 01:30:00+00:00  0.50000   \n",
       "1      2021-05-16 16:02:25.962108+00:00 2020-06-23 01:45:00+00:00  0.50000   \n",
       "2      2021-05-16 16:02:25.962108+00:00 2020-06-23 02:00:00+00:00  0.59375   \n",
       "3      2021-05-16 16:02:25.962108+00:00 2020-06-23 02:15:00+00:00  0.40625   \n",
       "4      2021-05-16 16:02:25.962108+00:00 2020-06-23 02:30:00+00:00  0.59375   \n",
       "...                                 ...                       ...      ...   \n",
       "146420 2021-05-16 16:02:25.962108+00:00 2020-09-09 21:51:10+00:00  2.70000   \n",
       "146421 2021-05-16 16:02:25.962108+00:00 2020-09-09 21:52:21+00:00  2.00000   \n",
       "146422 2021-05-16 16:02:25.962108+00:00 2020-09-09 21:53:21+00:00  2.70000   \n",
       "146423 2021-05-16 16:02:25.962108+00:00 2020-09-09 21:55:53+00:00  2.00000   \n",
       "146424 2021-05-16 16:02:25.962108+00:00 2020-09-09 22:00:00+00:00  2.30000   \n",
       "\n",
       "         _field _measurement              equipRef  \\\n",
       "0       val_num     READINGS  Campus HW Main Meter   \n",
       "1       val_num     READINGS  Campus HW Main Meter   \n",
       "2       val_num     READINGS  Campus HW Main Meter   \n",
       "3       val_num     READINGS  Campus HW Main Meter   \n",
       "4       val_num     READINGS  Campus HW Main Meter   \n",
       "...         ...          ...                   ...   \n",
       "146420  val_num     READINGS  Campus HW Main Meter   \n",
       "146421  val_num     READINGS  Campus HW Main Meter   \n",
       "146422  val_num     READINGS  Campus HW Main Meter   \n",
       "146423  val_num     READINGS  Campus HW Main Meter   \n",
       "146424  val_num     READINGS  Campus HW Main Meter   \n",
       "\n",
       "                              groupRef navName               siteRef typeRef  \\\n",
       "0       Campus Energy Centre Utilities  Energy  Campus Energy Centre  Energy   \n",
       "1       Campus Energy Centre Utilities  Energy  Campus Energy Centre  Energy   \n",
       "2       Campus Energy Centre Utilities  Energy  Campus Energy Centre  Energy   \n",
       "3       Campus Energy Centre Utilities  Energy  Campus Energy Centre  Energy   \n",
       "4       Campus Energy Centre Utilities  Energy  Campus Energy Centre  Energy   \n",
       "...                                ...     ...                   ...     ...   \n",
       "146420  Campus Energy Centre Utilities   Power  Campus Energy Centre   Power   \n",
       "146421  Campus Energy Centre Utilities   Power  Campus Energy Centre   Power   \n",
       "146422  Campus Energy Centre Utilities   Power  Campus Energy Centre   Power   \n",
       "146423  Campus Energy Centre Utilities   Power  Campus Energy Centre   Power   \n",
       "146424  Campus Energy Centre Utilities   Power  Campus Energy Centre   Power   \n",
       "\n",
       "                                                 uniqueID unit  \n",
       "0       r:p:ubcv:r:205b0343-70d7c00c Campus Energy Cen...  MWh  \n",
       "1       r:p:ubcv:r:205b0343-70d7c00c Campus Energy Cen...  MWh  \n",
       "2       r:p:ubcv:r:205b0343-70d7c00c Campus Energy Cen...  MWh  \n",
       "3       r:p:ubcv:r:205b0343-70d7c00c Campus Energy Cen...  MWh  \n",
       "4       r:p:ubcv:r:205b0343-70d7c00c Campus Energy Cen...  MWh  \n",
       "...                                                   ...  ...  \n",
       "146420  r:p:ubcv:r:205b0392-31f31280 Campus Energy Cen...   MW  \n",
       "146421  r:p:ubcv:r:205b0392-31f31280 Campus Energy Cen...   MW  \n",
       "146422  r:p:ubcv:r:205b0392-31f31280 Campus Energy Cen...   MW  \n",
       "146423  r:p:ubcv:r:205b0392-31f31280 Campus Energy Cen...   MW  \n",
       "146424  r:p:ubcv:r:205b0392-31f31280 Campus Energy Cen...   MW  \n",
       "\n",
       "[146425 rows x 15 columns]"
      ],
      "text/html": "<div>\n<style scoped>\n    .dataframe tbody tr th:only-of-type {\n        vertical-align: middle;\n    }\n\n    .dataframe tbody tr th {\n        vertical-align: top;\n    }\n\n    .dataframe thead th {\n        text-align: right;\n    }\n</style>\n<table border=\"1\" class=\"dataframe\">\n  <thead>\n    <tr style=\"text-align: right;\">\n      <th></th>\n      <th>result</th>\n      <th>table</th>\n      <th>_start</th>\n      <th>_stop</th>\n      <th>_time</th>\n      <th>_value</th>\n      <th>_field</th>\n      <th>_measurement</th>\n      <th>equipRef</th>\n      <th>groupRef</th>\n      <th>navName</th>\n      <th>siteRef</th>\n      <th>typeRef</th>\n      <th>uniqueID</th>\n      <th>unit</th>\n    </tr>\n  </thead>\n  <tbody>\n    <tr>\n      <th>0</th>\n      <td>_result</td>\n      <td>0</td>\n      <td>2020-01-01 00:00:00+00:00</td>\n      <td>2021-05-16 16:02:25.962108+00:00</td>\n      <td>2020-06-23 01:30:00+00:00</td>\n      <td>0.50000</td>\n      <td>val_num</td>\n      <td>READINGS</td>\n      <td>Campus HW Main Meter</td>\n      <td>Campus Energy Centre Utilities</td>\n      <td>Energy</td>\n      <td>Campus Energy Centre</td>\n      <td>Energy</td>\n      <td>r:p:ubcv:r:205b0343-70d7c00c Campus Energy Cen...</td>\n      <td>MWh</td>\n    </tr>\n    <tr>\n      <th>1</th>\n      <td>_result</td>\n      <td>0</td>\n      <td>2020-01-01 00:00:00+00:00</td>\n      <td>2021-05-16 16:02:25.962108+00:00</td>\n      <td>2020-06-23 01:45:00+00:00</td>\n      <td>0.50000</td>\n      <td>val_num</td>\n      <td>READINGS</td>\n      <td>Campus HW Main Meter</td>\n      <td>Campus Energy Centre Utilities</td>\n      <td>Energy</td>\n      <td>Campus Energy Centre</td>\n      <td>Energy</td>\n      <td>r:p:ubcv:r:205b0343-70d7c00c Campus Energy Cen...</td>\n      <td>MWh</td>\n    </tr>\n    <tr>\n      <th>2</th>\n      <td>_result</td>\n      <td>0</td>\n      <td>2020-01-01 00:00:00+00:00</td>\n      <td>2021-05-16 16:02:25.962108+00:00</td>\n      <td>2020-06-23 02:00:00+00:00</td>\n      <td>0.59375</td>\n      <td>val_num</td>\n      <td>READINGS</td>\n      <td>Campus HW Main Meter</td>\n      <td>Campus Energy Centre Utilities</td>\n      <td>Energy</td>\n      <td>Campus Energy Centre</td>\n      <td>Energy</td>\n      <td>r:p:ubcv:r:205b0343-70d7c00c Campus Energy Cen...</td>\n      <td>MWh</td>\n    </tr>\n    <tr>\n      <th>3</th>\n      <td>_result</td>\n      <td>0</td>\n      <td>2020-01-01 00:00:00+00:00</td>\n      <td>2021-05-16 16:02:25.962108+00:00</td>\n      <td>2020-06-23 02:15:00+00:00</td>\n      <td>0.40625</td>\n      <td>val_num</td>\n      <td>READINGS</td>\n      <td>Campus HW Main Meter</td>\n      <td>Campus Energy Centre Utilities</td>\n      <td>Energy</td>\n      <td>Campus Energy Centre</td>\n      <td>Energy</td>\n      <td>r:p:ubcv:r:205b0343-70d7c00c Campus Energy Cen...</td>\n      <td>MWh</td>\n    </tr>\n    <tr>\n      <th>4</th>\n      <td>_result</td>\n      <td>0</td>\n      <td>2020-01-01 00:00:00+00:00</td>\n      <td>2021-05-16 16:02:25.962108+00:00</td>\n      <td>2020-06-23 02:30:00+00:00</td>\n      <td>0.59375</td>\n      <td>val_num</td>\n      <td>READINGS</td>\n      <td>Campus HW Main Meter</td>\n      <td>Campus Energy Centre Utilities</td>\n      <td>Energy</td>\n      <td>Campus Energy Centre</td>\n      <td>Energy</td>\n      <td>r:p:ubcv:r:205b0343-70d7c00c Campus Energy Cen...</td>\n      <td>MWh</td>\n    </tr>\n    <tr>\n      <th>...</th>\n      <td>...</td>\n      <td>...</td>\n      <td>...</td>\n      <td>...</td>\n      <td>...</td>\n      <td>...</td>\n      <td>...</td>\n      <td>...</td>\n      <td>...</td>\n      <td>...</td>\n      <td>...</td>\n      <td>...</td>\n      <td>...</td>\n      <td>...</td>\n      <td>...</td>\n    </tr>\n    <tr>\n      <th>146420</th>\n      <td>_result</td>\n      <td>4</td>\n      <td>2020-01-01 00:00:00+00:00</td>\n      <td>2021-05-16 16:02:25.962108+00:00</td>\n      <td>2020-09-09 21:51:10+00:00</td>\n      <td>2.70000</td>\n      <td>val_num</td>\n      <td>READINGS</td>\n      <td>Campus HW Main Meter</td>\n      <td>Campus Energy Centre Utilities</td>\n      <td>Power</td>\n      <td>Campus Energy Centre</td>\n      <td>Power</td>\n      <td>r:p:ubcv:r:205b0392-31f31280 Campus Energy Cen...</td>\n      <td>MW</td>\n    </tr>\n    <tr>\n      <th>146421</th>\n      <td>_result</td>\n      <td>4</td>\n      <td>2020-01-01 00:00:00+00:00</td>\n      <td>2021-05-16 16:02:25.962108+00:00</td>\n      <td>2020-09-09 21:52:21+00:00</td>\n      <td>2.00000</td>\n      <td>val_num</td>\n      <td>READINGS</td>\n      <td>Campus HW Main Meter</td>\n      <td>Campus Energy Centre Utilities</td>\n      <td>Power</td>\n      <td>Campus Energy Centre</td>\n      <td>Power</td>\n      <td>r:p:ubcv:r:205b0392-31f31280 Campus Energy Cen...</td>\n      <td>MW</td>\n    </tr>\n    <tr>\n      <th>146422</th>\n      <td>_result</td>\n      <td>4</td>\n      <td>2020-01-01 00:00:00+00:00</td>\n      <td>2021-05-16 16:02:25.962108+00:00</td>\n      <td>2020-09-09 21:53:21+00:00</td>\n      <td>2.70000</td>\n      <td>val_num</td>\n      <td>READINGS</td>\n      <td>Campus HW Main Meter</td>\n      <td>Campus Energy Centre Utilities</td>\n      <td>Power</td>\n      <td>Campus Energy Centre</td>\n      <td>Power</td>\n      <td>r:p:ubcv:r:205b0392-31f31280 Campus Energy Cen...</td>\n      <td>MW</td>\n    </tr>\n    <tr>\n      <th>146423</th>\n      <td>_result</td>\n      <td>4</td>\n      <td>2020-01-01 00:00:00+00:00</td>\n      <td>2021-05-16 16:02:25.962108+00:00</td>\n      <td>2020-09-09 21:55:53+00:00</td>\n      <td>2.00000</td>\n      <td>val_num</td>\n      <td>READINGS</td>\n      <td>Campus HW Main Meter</td>\n      <td>Campus Energy Centre Utilities</td>\n      <td>Power</td>\n      <td>Campus Energy Centre</td>\n      <td>Power</td>\n      <td>r:p:ubcv:r:205b0392-31f31280 Campus Energy Cen...</td>\n      <td>MW</td>\n    </tr>\n    <tr>\n      <th>146424</th>\n      <td>_result</td>\n      <td>4</td>\n      <td>2020-01-01 00:00:00+00:00</td>\n      <td>2021-05-16 16:02:25.962108+00:00</td>\n      <td>2020-09-09 22:00:00+00:00</td>\n      <td>2.30000</td>\n      <td>val_num</td>\n      <td>READINGS</td>\n      <td>Campus HW Main Meter</td>\n      <td>Campus Energy Centre Utilities</td>\n      <td>Power</td>\n      <td>Campus Energy Centre</td>\n      <td>Power</td>\n      <td>r:p:ubcv:r:205b0392-31f31280 Campus Energy Cen...</td>\n      <td>MW</td>\n    </tr>\n  </tbody>\n</table>\n<p>146425 rows × 15 columns</p>\n</div>"
     },
     "metadata": {},
     "execution_count": 52
    }
   ],
   "source": [
    "result"
   ]
  },
  {
   "cell_type": "code",
   "execution_count": 40,
   "metadata": {},
   "outputs": [
    {
     "output_type": "stream",
     "name": "stdout",
     "text": [
      "0 2020-06-23 01:30:00+00:00 2020-09-09 21:50:00+00:00\n0 2020-06-23 01:40:33+00:00 2020-09-09 22:00:00+00:00\n0 2020-06-23 01:40:00+00:00 2020-09-09 22:01:06+00:00\n0 2020-06-23 01:40:00+00:00 2020-09-09 21:53:52+00:00\n0 2020-06-23 01:40:00+00:00 2020-09-09 21:58:25+00:00\n"
     ]
    }
   ],
   "source": [
    "for uid,dfm in result.groupby('uniqueID'):\n",
    "    print(dfm._value.isnull().sum(), dfm._time.min(), dfm._time.max())"
   ]
  },
  {
   "cell_type": "code",
   "execution_count": 54,
   "metadata": {},
   "outputs": [],
   "source": [
    "##Instantiate the query client. Specify org and query.\n",
    "result2 = client.query_api().query(org=org, query=query)"
   ]
  },
  {
   "cell_type": "code",
   "execution_count": 55,
   "metadata": {},
   "outputs": [
    {
     "output_type": "execute_result",
     "data": {
      "text/plain": [
       "[<influxdb_client.client.flux_table.FluxTable at 0x22e7ab04790>,\n",
       " <influxdb_client.client.flux_table.FluxTable at 0x22e2f02b970>,\n",
       " <influxdb_client.client.flux_table.FluxTable at 0x22e01738430>,\n",
       " <influxdb_client.client.flux_table.FluxTable at 0x22e085bf100>,\n",
       " <influxdb_client.client.flux_table.FluxTable at 0x22e09570910>]"
      ]
     },
     "metadata": {},
     "execution_count": 55
    }
   ],
   "source": [
    "result2"
   ]
  },
  {
   "cell_type": "code",
   "execution_count": 56,
   "metadata": {},
   "outputs": [
    {
     "output_type": "stream",
     "name": "stdout",
     "text": [
      "1\n2\n3\n4\n5\n"
     ]
    }
   ],
   "source": [
    "count = 0\n",
    "for table in result2:\n",
    "    count += 1\n",
    "    print(count)"
   ]
  },
  {
   "cell_type": "code",
   "execution_count": 20,
   "metadata": {},
   "outputs": [
    {
     "output_type": "execute_result",
     "data": {
      "text/plain": [
       "<influxdb_client.client.flux_table.FluxTable at 0x22e41e5ab50>"
      ]
     },
     "metadata": {},
     "execution_count": 20
    }
   ],
   "source": [
    "table"
   ]
  },
  {
   "cell_type": "code",
   "execution_count": 21,
   "metadata": {},
   "outputs": [
    {
     "output_type": "stream",
     "name": "stdout",
     "text": [
      "FluxRecord() table: 4, {'result': '_result', 'table': 4, '_start': datetime.datetime(2020, 1, 1, 0, 0, tzinfo=tzutc()), '_stop': datetime.datetime(2021, 5, 16, 15, 20, 16, 428474, tzinfo=tzutc()), '_time': datetime.datetime(2020, 6, 23, 1, 40, 33, tzinfo=tzutc()), '_value': 2.2, '_field': 'val_num', '_measurement': 'READINGS', 'equipRef': 'Campus HW Main Meter', 'groupRef': 'Campus Energy Centre Utilities', 'navName': 'Power', 'siteRef': 'Campus Energy Centre', 'typeRef': 'Power', 'uniqueID': 'r:p:ubcv:r:205b0392-31f31280 Campus Energy Centre Campus HW Main Meter Power', 'unit': 'MW'}\n"
     ]
    }
   ],
   "source": [
    "for record in table.records:\n",
    "    print(record)\n",
    "    break"
   ]
  },
  {
   "cell_type": "code",
   "execution_count": 24,
   "metadata": {},
   "outputs": [
    {
     "output_type": "execute_result",
     "data": {
      "text/plain": [
       "                                                       0\n",
       "0      FluxRecord() table: 4, {'result': '_result', '...\n",
       "1      FluxRecord() table: 4, {'result': '_result', '...\n",
       "2      FluxRecord() table: 4, {'result': '_result', '...\n",
       "3      FluxRecord() table: 4, {'result': '_result', '...\n",
       "4      FluxRecord() table: 4, {'result': '_result', '...\n",
       "...                                                  ...\n",
       "39952  FluxRecord() table: 4, {'result': '_result', '...\n",
       "39953  FluxRecord() table: 4, {'result': '_result', '...\n",
       "39954  FluxRecord() table: 4, {'result': '_result', '...\n",
       "39955  FluxRecord() table: 4, {'result': '_result', '...\n",
       "39956  FluxRecord() table: 4, {'result': '_result', '...\n",
       "\n",
       "[39957 rows x 1 columns]"
      ],
      "text/html": "<div>\n<style scoped>\n    .dataframe tbody tr th:only-of-type {\n        vertical-align: middle;\n    }\n\n    .dataframe tbody tr th {\n        vertical-align: top;\n    }\n\n    .dataframe thead th {\n        text-align: right;\n    }\n</style>\n<table border=\"1\" class=\"dataframe\">\n  <thead>\n    <tr style=\"text-align: right;\">\n      <th></th>\n      <th>0</th>\n    </tr>\n  </thead>\n  <tbody>\n    <tr>\n      <th>0</th>\n      <td>FluxRecord() table: 4, {'result': '_result', '...</td>\n    </tr>\n    <tr>\n      <th>1</th>\n      <td>FluxRecord() table: 4, {'result': '_result', '...</td>\n    </tr>\n    <tr>\n      <th>2</th>\n      <td>FluxRecord() table: 4, {'result': '_result', '...</td>\n    </tr>\n    <tr>\n      <th>3</th>\n      <td>FluxRecord() table: 4, {'result': '_result', '...</td>\n    </tr>\n    <tr>\n      <th>4</th>\n      <td>FluxRecord() table: 4, {'result': '_result', '...</td>\n    </tr>\n    <tr>\n      <th>...</th>\n      <td>...</td>\n    </tr>\n    <tr>\n      <th>39952</th>\n      <td>FluxRecord() table: 4, {'result': '_result', '...</td>\n    </tr>\n    <tr>\n      <th>39953</th>\n      <td>FluxRecord() table: 4, {'result': '_result', '...</td>\n    </tr>\n    <tr>\n      <th>39954</th>\n      <td>FluxRecord() table: 4, {'result': '_result', '...</td>\n    </tr>\n    <tr>\n      <th>39955</th>\n      <td>FluxRecord() table: 4, {'result': '_result', '...</td>\n    </tr>\n    <tr>\n      <th>39956</th>\n      <td>FluxRecord() table: 4, {'result': '_result', '...</td>\n    </tr>\n  </tbody>\n</table>\n<p>39957 rows × 1 columns</p>\n</div>"
     },
     "metadata": {},
     "execution_count": 24
    }
   ],
   "source": [
    "pd.DataFrame(table)"
   ]
  },
  {
   "cell_type": "code",
   "execution_count": 45,
   "metadata": {},
   "outputs": [],
   "source": [
    "result3 = client.query_api().query_data_frame_stream(org=org, query=query)"
   ]
  },
  {
   "cell_type": "code",
   "execution_count": 46,
   "metadata": {},
   "outputs": [],
   "source": [
    "count = 0\n",
    "for table in result3:\n",
    "    count += 1"
   ]
  },
  {
   "cell_type": "code",
   "execution_count": 47,
   "metadata": {},
   "outputs": [
    {
     "output_type": "execute_result",
     "data": {
      "text/plain": [
       "1"
      ]
     },
     "metadata": {},
     "execution_count": 47
    }
   ],
   "source": [
    "count"
   ]
  },
  {
   "cell_type": "code",
   "execution_count": 60,
   "metadata": {},
   "outputs": [],
   "source": [
    "result4 = client.query_api().query_stream(org=org, query=query)"
   ]
  },
  {
   "cell_type": "code",
   "execution_count": 61,
   "metadata": {
    "tags": []
   },
   "outputs": [],
   "source": [
    "count = 0\n",
    "for table in result4:\n",
    "    count += 1"
   ]
  },
  {
   "cell_type": "code",
   "execution_count": 62,
   "metadata": {},
   "outputs": [
    {
     "output_type": "execute_result",
     "data": {
      "text/plain": [
       "146425"
      ]
     },
     "metadata": {},
     "execution_count": 62
    }
   ],
   "source": [
    "count"
   ]
  }
 ],
 "metadata": {
  "kernelspec": {
   "name": "python3810jvsc74a57bd07d2dde933846643c70a0971eba9e216bf0ce928f2ec74020d36b05b86c71e3e9",
   "display_name": "Python 3.8.10 64-bit ('pyinfluxdb': conda)"
  },
  "language_info": {
   "codemirror_mode": {
    "name": "ipython",
    "version": 3
   },
   "file_extension": ".py",
   "mimetype": "text/x-python",
   "name": "python",
   "nbconvert_exporter": "python",
   "pygments_lexer": "ipython3",
   "version": "3.8.10"
  },
  "metadata": {
   "interpreter": {
    "hash": "7d2dde933846643c70a0971eba9e216bf0ce928f2ec74020d36b05b86c71e3e9"
   }
  }
 },
 "nbformat": 4,
 "nbformat_minor": 4
}