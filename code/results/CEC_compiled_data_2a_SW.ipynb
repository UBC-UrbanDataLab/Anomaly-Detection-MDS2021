{
  "nbformat": 4,
  "nbformat_minor": 0,
  "metadata": {
    "kernelspec": {
      "display_name": "Python 3",
      "language": "python",
      "name": "python3"
    },
    "language_info": {
      "codemirror_mode": {
        "name": "ipython",
        "version": 3
      },
      "file_extension": ".py",
      "mimetype": "text/x-python",
      "name": "python",
      "nbconvert_exporter": "python",
      "pygments_lexer": "ipython3",
      "version": "3.7.6"
    },
    "colab": {
      "name": "CEC_compiled_data_5a.ipynb",
      "provenance": [],
      "collapsed_sections": [],
      "toc_visible": true
    },
    "accelerator": "GPU"
  },
  "cells": [
    {
      "cell_type": "markdown",
      "metadata": {
        "id": "jgBWk4l41cwA"
      },
      "source": [
        "# Explore Predictions"
      ]
    },
    {
      "cell_type": "code",
      "metadata": {
        "id": "gJam9Ma01ai4"
      },
      "source": [
        "from tensorflow import keras\n",
        "from sklearn.preprocessing import StandardScaler\n",
        "\n",
        "import plotly.graph_objects as go\n",
        "\n",
        "from tensorflow.keras.models import Sequential, load_model\n",
        "from tensorflow.keras.layers import Dense, LSTM, Dropout, RepeatVector, TimeDistributed\n",
        "\n",
        "import pandas as pd\n",
        "import numpy as np\n",
        "\n",
        "import tensorflow as tf\n",
        "\n",
        "import matplotlib.pyplot as plt\n",
        "\n",
        "import plotly.express as px\n",
        "import plotly.graph_objects as go"
      ],
      "execution_count": 46,
      "outputs": []
    },
    {
      "cell_type": "markdown",
      "metadata": {
        "id": "-n3-i0hMuWcf"
      },
      "source": [
        "## Load Data"
      ]
    },
    {
      "cell_type": "markdown",
      "metadata": {
        "id": "1zxTjhl7uWcg"
      },
      "source": [
        "Modify data name  \n",
        "Modify timesteps"
      ]
    },
    {
      "cell_type": "code",
      "metadata": {
        "id": "g4Fy3e32uWch"
      },
      "source": [
        "####\n",
        "# MODIFY the time steps as you see fit, you may want to look at the number of points in a day, and choose that \n",
        "# Or choose any other time period \n",
        "####\n",
        "\n",
        "TIMESTEP_LIST = [15, 30, 60, 120]"
      ],
      "execution_count": 47,
      "outputs": []
    },
    {
      "cell_type": "code",
      "metadata": {
        "id": "QRkJwLJ8x4da"
      },
      "source": [
        "# Two options 'PD' or 'WINDOW'\n",
        "# 'PD' for predicting next point\n",
        "# 'WINDOW' for Sliding window\n",
        "TYPE = 'WINDOW'"
      ],
      "execution_count": 48,
      "outputs": []
    },
    {
      "cell_type": "code",
      "metadata": {
        "id": "zEtHBu2EuWch"
      },
      "source": [
        "THRESHOLD_LIST = [0.05, 0.075, 0.1] # THESE ARE PERCENTAGES OF THE MAX MAE, A LOWER PERCENTAGE WILL FIND MORE ANOMALIES"
      ],
      "execution_count": 49,
      "outputs": []
    },
    {
      "cell_type": "code",
      "metadata": {
        "id": "6Po4qD3sEKHB"
      },
      "source": [
        "\n",
        "TRAIN_ON_NORMAL = False # IF TRUE THEN REMOVE ROWS THAT HAVE HUMAN FLAGGED ANOMALIES"
      ],
      "execution_count": 50,
      "outputs": []
    },
    {
      "cell_type": "code",
      "metadata": {
        "id": "ueG_TlHduWch"
      },
      "source": [
        "data_dir = \"./\"\n",
        "data_set_1_name = \"CEC_compiled_data_2a_updated.csv\"\n",
        "data_set_2_name = \"CEC_compiled_data_2b_updated.csv\""
      ],
      "execution_count": 51,
      "outputs": []
    },
    {
      "cell_type": "code",
      "metadata": {
        "colab": {
          "base_uri": "https://localhost:8080/",
          "height": 204
        },
        "id": "BxhblU-cuWci",
        "outputId": "8af9a061-27ed-4b59-f455-692b8950e672"
      },
      "source": [
        "data_without_labels = pd.read_csv(data_dir + data_set_1_name)\n",
        "data_without_labels = data_without_labels.rename(columns={'Anomaly': 'anomaly_by_human'})\n",
        "data_without_labels.head()"
      ],
      "execution_count": 52,
      "outputs": [
        {
          "output_type": "execute_result",
          "data": {
            "text/html": [
              "<div>\n",
              "<style scoped>\n",
              "    .dataframe tbody tr th:only-of-type {\n",
              "        vertical-align: middle;\n",
              "    }\n",
              "\n",
              "    .dataframe tbody tr th {\n",
              "        vertical-align: top;\n",
              "    }\n",
              "\n",
              "    .dataframe thead th {\n",
              "        text-align: right;\n",
              "    }\n",
              "</style>\n",
              "<table border=\"1\" class=\"dataframe\">\n",
              "  <thead>\n",
              "    <tr style=\"text-align: right;\">\n",
              "      <th></th>\n",
              "      <th>Datetime</th>\n",
              "      <th>Value</th>\n",
              "      <th>ID</th>\n",
              "      <th>anomaly_by_human</th>\n",
              "    </tr>\n",
              "  </thead>\n",
              "  <tbody>\n",
              "    <tr>\n",
              "      <th>0</th>\n",
              "      <td>2016-11-01 16:30:00</td>\n",
              "      <td>59.299999</td>\n",
              "      <td>Campus Energy Centre Campus HW Main Meter Ente...</td>\n",
              "      <td>False</td>\n",
              "    </tr>\n",
              "    <tr>\n",
              "      <th>1</th>\n",
              "      <td>2016-11-01 16:45:00</td>\n",
              "      <td>59.649998</td>\n",
              "      <td>Campus Energy Centre Campus HW Main Meter Ente...</td>\n",
              "      <td>False</td>\n",
              "    </tr>\n",
              "    <tr>\n",
              "      <th>2</th>\n",
              "      <td>2016-11-01 17:00:00</td>\n",
              "      <td>58.529999</td>\n",
              "      <td>Campus Energy Centre Campus HW Main Meter Ente...</td>\n",
              "      <td>False</td>\n",
              "    </tr>\n",
              "    <tr>\n",
              "      <th>3</th>\n",
              "      <td>2016-11-01 17:15:00</td>\n",
              "      <td>58.949997</td>\n",
              "      <td>Campus Energy Centre Campus HW Main Meter Ente...</td>\n",
              "      <td>False</td>\n",
              "    </tr>\n",
              "    <tr>\n",
              "      <th>4</th>\n",
              "      <td>2016-11-01 17:30:00</td>\n",
              "      <td>58.889999</td>\n",
              "      <td>Campus Energy Centre Campus HW Main Meter Ente...</td>\n",
              "      <td>False</td>\n",
              "    </tr>\n",
              "  </tbody>\n",
              "</table>\n",
              "</div>"
            ],
            "text/plain": [
              "              Datetime  ...  anomaly_by_human\n",
              "0  2016-11-01 16:30:00  ...             False\n",
              "1  2016-11-01 16:45:00  ...             False\n",
              "2  2016-11-01 17:00:00  ...             False\n",
              "3  2016-11-01 17:15:00  ...             False\n",
              "4  2016-11-01 17:30:00  ...             False\n",
              "\n",
              "[5 rows x 4 columns]"
            ]
          },
          "metadata": {
            "tags": []
          },
          "execution_count": 52
        }
      ]
    },
    {
      "cell_type": "code",
      "metadata": {
        "colab": {
          "base_uri": "https://localhost:8080/",
          "height": 204
        },
        "id": "5tG03ODruWcj",
        "outputId": "640265f9-55b0-4c82-e2f2-ac71fb73a751"
      },
      "source": [
        "data_with_labels = pd.read_csv(data_dir + data_set_2_name)\n",
        "data_with_labels = data_with_labels.rename(columns={'Anomaly': 'anomaly_by_human'})\n",
        "data_with_labels[\"anomaly_by_human\"] = data_with_labels[\"anomaly_by_human\"].apply(lambda x: str(x))\n",
        "data_with_labels.head()"
      ],
      "execution_count": 53,
      "outputs": [
        {
          "output_type": "execute_result",
          "data": {
            "text/html": [
              "<div>\n",
              "<style scoped>\n",
              "    .dataframe tbody tr th:only-of-type {\n",
              "        vertical-align: middle;\n",
              "    }\n",
              "\n",
              "    .dataframe tbody tr th {\n",
              "        vertical-align: top;\n",
              "    }\n",
              "\n",
              "    .dataframe thead th {\n",
              "        text-align: right;\n",
              "    }\n",
              "</style>\n",
              "<table border=\"1\" class=\"dataframe\">\n",
              "  <thead>\n",
              "    <tr style=\"text-align: right;\">\n",
              "      <th></th>\n",
              "      <th>Datetime</th>\n",
              "      <th>Value</th>\n",
              "      <th>ID</th>\n",
              "      <th>anomaly_by_human</th>\n",
              "    </tr>\n",
              "  </thead>\n",
              "  <tbody>\n",
              "    <tr>\n",
              "      <th>0</th>\n",
              "      <td>2016-11-01 16:30:00</td>\n",
              "      <td>59.299999</td>\n",
              "      <td>Campus Energy Centre Campus HW Main Meter Ente...</td>\n",
              "      <td>False</td>\n",
              "    </tr>\n",
              "    <tr>\n",
              "      <th>1</th>\n",
              "      <td>2016-11-01 16:45:00</td>\n",
              "      <td>59.649998</td>\n",
              "      <td>Campus Energy Centre Campus HW Main Meter Ente...</td>\n",
              "      <td>False</td>\n",
              "    </tr>\n",
              "    <tr>\n",
              "      <th>2</th>\n",
              "      <td>2016-11-01 17:00:00</td>\n",
              "      <td>58.529999</td>\n",
              "      <td>Campus Energy Centre Campus HW Main Meter Ente...</td>\n",
              "      <td>False</td>\n",
              "    </tr>\n",
              "    <tr>\n",
              "      <th>3</th>\n",
              "      <td>2016-11-01 17:15:00</td>\n",
              "      <td>58.949997</td>\n",
              "      <td>Campus Energy Centre Campus HW Main Meter Ente...</td>\n",
              "      <td>False</td>\n",
              "    </tr>\n",
              "    <tr>\n",
              "      <th>4</th>\n",
              "      <td>2016-11-01 17:30:00</td>\n",
              "      <td>58.889999</td>\n",
              "      <td>Campus Energy Centre Campus HW Main Meter Ente...</td>\n",
              "      <td>False</td>\n",
              "    </tr>\n",
              "  </tbody>\n",
              "</table>\n",
              "</div>"
            ],
            "text/plain": [
              "              Datetime  ...  anomaly_by_human\n",
              "0  2016-11-01 16:30:00  ...             False\n",
              "1  2016-11-01 16:45:00  ...             False\n",
              "2  2016-11-01 17:00:00  ...             False\n",
              "3  2016-11-01 17:15:00  ...             False\n",
              "4  2016-11-01 17:30:00  ...             False\n",
              "\n",
              "[5 rows x 4 columns]"
            ]
          },
          "metadata": {
            "tags": []
          },
          "execution_count": 53
        }
      ]
    },
    {
      "cell_type": "markdown",
      "metadata": {
        "id": "o_Cw0_TVuWcj"
      },
      "source": [
        "Some datasets have 3 versions (i.e seasonal anomalies not counted)  \n",
        "Another `pd.read_csv()` call will need to be done here"
      ]
    },
    {
      "cell_type": "markdown",
      "metadata": {
        "id": "b0lgXW3HuWcj"
      },
      "source": [
        "# Split data into 60-40 train test split"
      ]
    },
    {
      "cell_type": "code",
      "metadata": {
        "id": "3KCF1zreuWcj"
      },
      "source": [
        "PERCENT_TRAIN = 0.6\n",
        "train_split_number = int(len(data_with_labels) * PERCENT_TRAIN)\n",
        "\n",
        "test = data_with_labels.tail(len(data_with_labels) - train_split_number)\n",
        "if TRAIN_ON_NORMAL:\n",
        "  train = data_with_labels.head(train_split_number)\n",
        "  train = train[train[\"anomaly_by_human\"] == \"False\"]\n",
        "else:\n",
        "  train = data_without_labels.head(train_split_number)"
      ],
      "execution_count": 54,
      "outputs": []
    },
    {
      "cell_type": "markdown",
      "metadata": {
        "id": "VlfWnWIZuWck"
      },
      "source": [
        "# Create sequences of time steps"
      ]
    },
    {
      "cell_type": "code",
      "metadata": {
        "colab": {
          "base_uri": "https://localhost:8080/"
        },
        "id": "fEoZu7mguWck",
        "outputId": "e2fa96ef-d08b-492b-ebb0-c2a7aa95a2eb"
      },
      "source": [
        "train[\"raw_value\"] = train[\"Value\"]\n",
        "test[\"raw_value\"] = test[\"Value\"]\n",
        "\n",
        "#test_raw = test[\"Value\"].copy(deep=True)\n",
        "\n",
        "scaler = StandardScaler()\n",
        "scaler = scaler.fit(train[['Value']])\n",
        "\n",
        "train['Value'] = scaler.transform(train[['Value']])\n",
        "test['Value'] = scaler.transform(test[['Value']])"
      ],
      "execution_count": 55,
      "outputs": [
        {
          "output_type": "stream",
          "text": [
            "/usr/local/lib/python3.7/dist-packages/ipykernel_launcher.py:1: SettingWithCopyWarning:\n",
            "\n",
            "\n",
            "A value is trying to be set on a copy of a slice from a DataFrame.\n",
            "Try using .loc[row_indexer,col_indexer] = value instead\n",
            "\n",
            "See the caveats in the documentation: https://pandas.pydata.org/pandas-docs/stable/user_guide/indexing.html#returning-a-view-versus-a-copy\n",
            "\n",
            "/usr/local/lib/python3.7/dist-packages/ipykernel_launcher.py:2: SettingWithCopyWarning:\n",
            "\n",
            "\n",
            "A value is trying to be set on a copy of a slice from a DataFrame.\n",
            "Try using .loc[row_indexer,col_indexer] = value instead\n",
            "\n",
            "See the caveats in the documentation: https://pandas.pydata.org/pandas-docs/stable/user_guide/indexing.html#returning-a-view-versus-a-copy\n",
            "\n",
            "/usr/local/lib/python3.7/dist-packages/ipykernel_launcher.py:9: SettingWithCopyWarning:\n",
            "\n",
            "\n",
            "A value is trying to be set on a copy of a slice from a DataFrame.\n",
            "Try using .loc[row_indexer,col_indexer] = value instead\n",
            "\n",
            "See the caveats in the documentation: https://pandas.pydata.org/pandas-docs/stable/user_guide/indexing.html#returning-a-view-versus-a-copy\n",
            "\n",
            "/usr/local/lib/python3.7/dist-packages/ipykernel_launcher.py:10: SettingWithCopyWarning:\n",
            "\n",
            "\n",
            "A value is trying to be set on a copy of a slice from a DataFrame.\n",
            "Try using .loc[row_indexer,col_indexer] = value instead\n",
            "\n",
            "See the caveats in the documentation: https://pandas.pydata.org/pandas-docs/stable/user_guide/indexing.html#returning-a-view-versus-a-copy\n",
            "\n"
          ],
          "name": "stderr"
        }
      ]
    },
    {
      "cell_type": "code",
      "metadata": {
        "id": "Z51wh2avuWck"
      },
      "source": [
        "def create_sequences(X, y, time_steps=30, window=1):\n",
        "    Xs, ys = [], []\n",
        "    for i in range(0,len(X)-time_steps, window):\n",
        "        Xs.append(X.iloc[i:(i+time_steps)].values)\n",
        "        ys.append(y.iloc[i+time_steps])\n",
        "    \n",
        "    return np.array(Xs), np.array(ys)"
      ],
      "execution_count": 56,
      "outputs": []
    },
    {
      "cell_type": "code",
      "metadata": {
        "id": "PQni9jYjuWck"
      },
      "source": [
        "data_dict = {}\n",
        "\n",
        "# If 0 then using predict\n",
        "# If 1 then using reconstruction sliding window\n",
        "if TYPE=='PD':\n",
        "  on = 0\n",
        "else:\n",
        "  on = 1\n",
        "\n",
        "for timestep in TIMESTEP_LIST:\n",
        "    X_train, y_train = create_sequences(train[['Value']], train['Value'], time_steps=timestep, window=timestep**on)\n",
        "    X_train_eval, y_train_eval =create_sequences(train[['Value']], train['Value'], time_steps=timestep)\n",
        "    X_test, y_test = create_sequences(test[['Value']], test['Value'], time_steps=timestep)\n",
        "    data_timestepped = {}\n",
        "    data_timestepped[\"x_train\"] = X_train\n",
        "    data_timestepped[\"y_train\"] = y_train\n",
        "    data_timestepped[\"x_train_eval\"] = X_train_eval\n",
        "    data_timestepped[\"y_train_eval\"] = y_train_eval\n",
        "    data_timestepped[\"x_test\"] = X_test\n",
        "    data_timestepped[\"y_test\"] = y_test\n",
        "    data_dict[timestep] = data_timestepped\n"
      ],
      "execution_count": 57,
      "outputs": []
    },
    {
      "cell_type": "code",
      "metadata": {
        "colab": {
          "base_uri": "https://localhost:8080/"
        },
        "id": "FMumBGzcuWcl",
        "outputId": "46e8924e-2b06-492e-f0d4-6cc213a3eb92"
      },
      "source": [
        "for ts in data_dict.keys():\n",
        "    print(\"time step size\", ts)\n",
        "    for _, data_set in data_dict[ts].items():\n",
        "      print(data_set.shape)\n",
        "    print(\"\\n\")"
      ],
      "execution_count": 58,
      "outputs": [
        {
          "output_type": "stream",
          "text": [
            "time step size 15\n",
            "(13121, 15, 1)\n",
            "(13121,)\n",
            "(196810, 15, 1)\n",
            "(196810,)\n",
            "(131202, 15, 1)\n",
            "(131202,)\n",
            "\n",
            "\n",
            "time step size 30\n",
            "(6560, 30, 1)\n",
            "(6560,)\n",
            "(196795, 30, 1)\n",
            "(196795,)\n",
            "(131187, 30, 1)\n",
            "(131187,)\n",
            "\n",
            "\n",
            "time step size 60\n",
            "(3280, 60, 1)\n",
            "(3280,)\n",
            "(196765, 60, 1)\n",
            "(196765,)\n",
            "(131157, 60, 1)\n",
            "(131157,)\n",
            "\n",
            "\n",
            "time step size 120\n",
            "(1640, 120, 1)\n",
            "(1640,)\n",
            "(196705, 120, 1)\n",
            "(196705,)\n",
            "(131097, 120, 1)\n",
            "(131097,)\n",
            "\n",
            "\n"
          ],
          "name": "stdout"
        }
      ]
    },
    {
      "cell_type": "code",
      "metadata": {
        "colab": {
          "base_uri": "https://localhost:8080/",
          "height": 204
        },
        "id": "x2mllFCnixg-",
        "outputId": "99db6dcd-bba1-4ba1-e5f1-0698d8b20672"
      },
      "source": [
        "test.head()"
      ],
      "execution_count": 59,
      "outputs": [
        {
          "output_type": "execute_result",
          "data": {
            "text/html": [
              "<div>\n",
              "<style scoped>\n",
              "    .dataframe tbody tr th:only-of-type {\n",
              "        vertical-align: middle;\n",
              "    }\n",
              "\n",
              "    .dataframe tbody tr th {\n",
              "        vertical-align: top;\n",
              "    }\n",
              "\n",
              "    .dataframe thead th {\n",
              "        text-align: right;\n",
              "    }\n",
              "</style>\n",
              "<table border=\"1\" class=\"dataframe\">\n",
              "  <thead>\n",
              "    <tr style=\"text-align: right;\">\n",
              "      <th></th>\n",
              "      <th>Datetime</th>\n",
              "      <th>Value</th>\n",
              "      <th>ID</th>\n",
              "      <th>anomaly_by_human</th>\n",
              "      <th>raw_value</th>\n",
              "    </tr>\n",
              "  </thead>\n",
              "  <tbody>\n",
              "    <tr>\n",
              "      <th>196825</th>\n",
              "      <td>2020-05-15 00:35:23</td>\n",
              "      <td>0.336066</td>\n",
              "      <td>Campus Energy Centre Campus HW Main Meter Ente...</td>\n",
              "      <td>False</td>\n",
              "      <td>68.570000</td>\n",
              "    </tr>\n",
              "    <tr>\n",
              "      <th>196826</th>\n",
              "      <td>2020-05-15 00:40:00</td>\n",
              "      <td>0.332706</td>\n",
              "      <td>Campus Energy Centre Campus HW Main Meter Ente...</td>\n",
              "      <td>False</td>\n",
              "      <td>68.540001</td>\n",
              "    </tr>\n",
              "    <tr>\n",
              "      <th>196827</th>\n",
              "      <td>2020-05-15 00:47:26</td>\n",
              "      <td>0.388710</td>\n",
              "      <td>Campus Energy Centre Campus HW Main Meter Ente...</td>\n",
              "      <td>False</td>\n",
              "      <td>69.040001</td>\n",
              "    </tr>\n",
              "    <tr>\n",
              "      <th>196828</th>\n",
              "      <td>2020-05-15 00:50:00</td>\n",
              "      <td>0.357348</td>\n",
              "      <td>Campus Energy Centre Campus HW Main Meter Ente...</td>\n",
              "      <td>False</td>\n",
              "      <td>68.760002</td>\n",
              "    </tr>\n",
              "    <tr>\n",
              "      <th>196829</th>\n",
              "      <td>2020-05-15 00:52:59</td>\n",
              "      <td>0.297983</td>\n",
              "      <td>Campus Energy Centre Campus HW Main Meter Ente...</td>\n",
              "      <td>False</td>\n",
              "      <td>68.229996</td>\n",
              "    </tr>\n",
              "  </tbody>\n",
              "</table>\n",
              "</div>"
            ],
            "text/plain": [
              "                   Datetime     Value  ... anomaly_by_human  raw_value\n",
              "196825  2020-05-15 00:35:23  0.336066  ...            False  68.570000\n",
              "196826  2020-05-15 00:40:00  0.332706  ...            False  68.540001\n",
              "196827  2020-05-15 00:47:26  0.388710  ...            False  69.040001\n",
              "196828  2020-05-15 00:50:00  0.357348  ...            False  68.760002\n",
              "196829  2020-05-15 00:52:59  0.297983  ...            False  68.229996\n",
              "\n",
              "[5 rows x 5 columns]"
            ]
          },
          "metadata": {
            "tags": []
          },
          "execution_count": 59
        }
      ]
    },
    {
      "cell_type": "markdown",
      "metadata": {
        "id": "ztpOUI09uWcl"
      },
      "source": [
        "# Step up model"
      ]
    },
    {
      "cell_type": "code",
      "metadata": {
        "id": "9Tnml1SyuWcl"
      },
      "source": [
        "def create_model(x_input, switch):\n",
        "  model = Sequential()\n",
        "  model.add(LSTM(128, input_shape=(x_input.shape[1], x_input.shape[2])))\n",
        "  model.add(Dropout(rate=0.2))\n",
        "  model.add(RepeatVector(x_input.shape[1]**switch))\n",
        "  model.add(LSTM(128, return_sequences=True))\n",
        "  model.add(Dropout(rate=0.2))\n",
        "  model.add(TimeDistributed(Dense(x_input.shape[2])))\n",
        "  model.compile(optimizer='adam', loss='mae')\n",
        "  model.summary()\n",
        "  return model"
      ],
      "execution_count": 60,
      "outputs": []
    },
    {
      "cell_type": "markdown",
      "metadata": {
        "id": "gK9XQv64uWcl"
      },
      "source": [
        "# Train a Model for Each timestep"
      ]
    },
    {
      "cell_type": "code",
      "metadata": {
        "colab": {
          "base_uri": "https://localhost:8080/"
        },
        "id": "TqdN4TiDuWcm",
        "outputId": "7a833cb6-77c8-405c-817c-de031972dacd"
      },
      "source": [
        "# if \"x_train\" reconstruction of window\n",
        "# if \"y_train\" prediciting following value\n",
        "if on == 1:\n",
        "  y_val = \"x_train\"\n",
        "else:\n",
        "  y_val = \"y_train\"\n",
        "\n",
        "for key, inner_data in data_dict.items():\n",
        "    x_train = inner_data[\"x_train\"]\n",
        "    y_train = inner_data[y_val]\n",
        "    print(x_train.shape)\n",
        "    print(y_train.shape)\n",
        "    model = create_model(x_train, on)\n",
        "    history = model.fit(x_train, y_train, epochs=100, batch_size=32*4, validation_split=0.1,\n",
        "                        callbacks=[keras.callbacks.EarlyStopping(monitor='val_loss', patience=10, mode='min')], shuffle=False)\n",
        "    inner_data[\"history\"] = history\n",
        "    inner_data[\"model\"] = model\n",
        "    model = None"
      ],
      "execution_count": 61,
      "outputs": [
        {
          "output_type": "stream",
          "text": [
            "(13121, 15, 1)\n",
            "(13121, 15, 1)\n",
            "Model: \"sequential_3\"\n",
            "_________________________________________________________________\n",
            "Layer (type)                 Output Shape              Param #   \n",
            "=================================================================\n",
            "lstm_6 (LSTM)                (None, 128)               66560     \n",
            "_________________________________________________________________\n",
            "dropout_6 (Dropout)          (None, 128)               0         \n",
            "_________________________________________________________________\n",
            "repeat_vector_3 (RepeatVecto (None, 15, 128)           0         \n",
            "_________________________________________________________________\n",
            "lstm_7 (LSTM)                (None, 15, 128)           131584    \n",
            "_________________________________________________________________\n",
            "dropout_7 (Dropout)          (None, 15, 128)           0         \n",
            "_________________________________________________________________\n",
            "time_distributed_3 (TimeDist (None, 15, 1)             129       \n",
            "=================================================================\n",
            "Total params: 198,273\n",
            "Trainable params: 198,273\n",
            "Non-trainable params: 0\n",
            "_________________________________________________________________\n",
            "Epoch 1/100\n",
            "93/93 [==============================] - 15s 119ms/step - loss: 0.2321 - val_loss: 0.0947\n",
            "Epoch 2/100\n",
            "93/93 [==============================] - 10s 110ms/step - loss: 0.2046 - val_loss: 0.0952\n",
            "Epoch 3/100\n",
            "93/93 [==============================] - 10s 111ms/step - loss: 0.1787 - val_loss: 0.0933\n",
            "Epoch 4/100\n",
            "93/93 [==============================] - 10s 111ms/step - loss: 0.1673 - val_loss: 0.0917\n",
            "Epoch 5/100\n",
            "93/93 [==============================] - 10s 112ms/step - loss: 0.1571 - val_loss: 0.0896\n",
            "Epoch 6/100\n",
            "93/93 [==============================] - 10s 112ms/step - loss: 0.1497 - val_loss: 0.0920\n",
            "Epoch 7/100\n",
            "93/93 [==============================] - 11s 113ms/step - loss: 0.1463 - val_loss: 0.0870\n",
            "Epoch 8/100\n",
            "93/93 [==============================] - 10s 112ms/step - loss: 0.1394 - val_loss: 0.0831\n",
            "Epoch 9/100\n",
            "93/93 [==============================] - 10s 112ms/step - loss: 0.1425 - val_loss: 0.0847\n",
            "Epoch 10/100\n",
            "93/93 [==============================] - 10s 113ms/step - loss: 0.1662 - val_loss: 0.0858\n",
            "Epoch 11/100\n",
            "93/93 [==============================] - 10s 112ms/step - loss: 0.1442 - val_loss: 0.0879\n",
            "Epoch 12/100\n",
            "93/93 [==============================] - 10s 111ms/step - loss: 0.1477 - val_loss: 0.0872\n",
            "Epoch 13/100\n",
            "93/93 [==============================] - 10s 112ms/step - loss: 0.1372 - val_loss: 0.0834\n",
            "Epoch 14/100\n",
            "93/93 [==============================] - 10s 111ms/step - loss: 0.1380 - val_loss: 0.0820\n",
            "Epoch 15/100\n",
            "93/93 [==============================] - 10s 110ms/step - loss: 0.1311 - val_loss: 0.0800\n",
            "Epoch 16/100\n",
            "93/93 [==============================] - 10s 112ms/step - loss: 0.1341 - val_loss: 0.0774\n",
            "Epoch 17/100\n",
            "93/93 [==============================] - 10s 112ms/step - loss: 0.1404 - val_loss: 0.0867\n",
            "Epoch 18/100\n",
            "93/93 [==============================] - 10s 112ms/step - loss: 0.1276 - val_loss: 0.0793\n",
            "Epoch 19/100\n",
            "93/93 [==============================] - 11s 113ms/step - loss: 0.1445 - val_loss: 0.0829\n",
            "Epoch 20/100\n",
            "93/93 [==============================] - 10s 112ms/step - loss: 0.1262 - val_loss: 0.0781\n",
            "Epoch 21/100\n",
            "93/93 [==============================] - 10s 112ms/step - loss: 0.1300 - val_loss: 0.0767\n",
            "Epoch 22/100\n",
            "93/93 [==============================] - 10s 112ms/step - loss: 0.1212 - val_loss: 0.0692\n",
            "Epoch 23/100\n",
            "93/93 [==============================] - 10s 112ms/step - loss: 0.1215 - val_loss: 0.0783\n",
            "Epoch 24/100\n",
            "93/93 [==============================] - 10s 113ms/step - loss: 0.1306 - val_loss: 0.0653\n",
            "Epoch 25/100\n",
            "93/93 [==============================] - 11s 114ms/step - loss: 0.1170 - val_loss: 0.0613\n",
            "Epoch 26/100\n",
            "93/93 [==============================] - 10s 113ms/step - loss: 0.1139 - val_loss: 0.0560\n",
            "Epoch 27/100\n",
            "93/93 [==============================] - 11s 114ms/step - loss: 0.1170 - val_loss: 0.0532\n",
            "Epoch 28/100\n",
            "93/93 [==============================] - 10s 112ms/step - loss: 0.1101 - val_loss: 0.0510\n",
            "Epoch 29/100\n",
            "93/93 [==============================] - 10s 112ms/step - loss: 0.1107 - val_loss: 0.0531\n",
            "Epoch 30/100\n",
            "93/93 [==============================] - 10s 112ms/step - loss: 0.1094 - val_loss: 0.0463\n",
            "Epoch 31/100\n",
            "93/93 [==============================] - 10s 113ms/step - loss: 0.0953 - val_loss: 0.0460\n",
            "Epoch 32/100\n",
            "93/93 [==============================] - 10s 111ms/step - loss: 0.1061 - val_loss: 0.0477\n",
            "Epoch 33/100\n",
            "93/93 [==============================] - 10s 112ms/step - loss: 0.0978 - val_loss: 0.0426\n",
            "Epoch 34/100\n",
            "93/93 [==============================] - 10s 112ms/step - loss: 0.0866 - val_loss: 0.0428\n",
            "Epoch 35/100\n",
            "93/93 [==============================] - 11s 114ms/step - loss: 0.0835 - val_loss: 0.0408\n",
            "Epoch 36/100\n",
            "93/93 [==============================] - 10s 113ms/step - loss: 0.0815 - val_loss: 0.0407\n",
            "Epoch 37/100\n",
            "93/93 [==============================] - 11s 113ms/step - loss: 0.0871 - val_loss: 0.0491\n",
            "Epoch 38/100\n",
            "93/93 [==============================] - 10s 112ms/step - loss: 0.1023 - val_loss: 0.0500\n",
            "Epoch 39/100\n",
            "93/93 [==============================] - 11s 114ms/step - loss: 0.1040 - val_loss: 0.0430\n",
            "Epoch 40/100\n",
            "93/93 [==============================] - 11s 114ms/step - loss: 0.0962 - val_loss: 0.0477\n",
            "Epoch 41/100\n",
            "93/93 [==============================] - 10s 111ms/step - loss: 0.1135 - val_loss: 0.0443\n",
            "Epoch 42/100\n",
            "93/93 [==============================] - 10s 111ms/step - loss: 0.0958 - val_loss: 0.0409\n",
            "Epoch 43/100\n",
            "93/93 [==============================] - 10s 112ms/step - loss: 0.0836 - val_loss: 0.0433\n",
            "Epoch 44/100\n",
            "93/93 [==============================] - 10s 112ms/step - loss: 0.0974 - val_loss: 0.0485\n",
            "Epoch 45/100\n",
            "93/93 [==============================] - 10s 113ms/step - loss: 0.0984 - val_loss: 0.0424\n",
            "Epoch 46/100\n",
            "93/93 [==============================] - 10s 112ms/step - loss: 0.0976 - val_loss: 0.0455\n",
            "(6560, 30, 1)\n",
            "(6560, 30, 1)\n",
            "Model: \"sequential_4\"\n",
            "_________________________________________________________________\n",
            "Layer (type)                 Output Shape              Param #   \n",
            "=================================================================\n",
            "lstm_8 (LSTM)                (None, 128)               66560     \n",
            "_________________________________________________________________\n",
            "dropout_8 (Dropout)          (None, 128)               0         \n",
            "_________________________________________________________________\n",
            "repeat_vector_4 (RepeatVecto (None, 30, 128)           0         \n",
            "_________________________________________________________________\n",
            "lstm_9 (LSTM)                (None, 30, 128)           131584    \n",
            "_________________________________________________________________\n",
            "dropout_9 (Dropout)          (None, 30, 128)           0         \n",
            "_________________________________________________________________\n",
            "time_distributed_4 (TimeDist (None, 30, 1)             129       \n",
            "=================================================================\n",
            "Total params: 198,273\n",
            "Trainable params: 198,273\n",
            "Non-trainable params: 0\n",
            "_________________________________________________________________\n",
            "Epoch 1/100\n",
            "47/47 [==============================] - 13s 220ms/step - loss: 0.2613 - val_loss: 0.1161\n",
            "Epoch 2/100\n",
            "47/47 [==============================] - 10s 204ms/step - loss: 0.2109 - val_loss: 0.1141\n",
            "Epoch 3/100\n",
            "47/47 [==============================] - 10s 204ms/step - loss: 0.2429 - val_loss: 0.1116\n",
            "Epoch 4/100\n",
            "47/47 [==============================] - 10s 212ms/step - loss: 0.2002 - val_loss: 0.1110\n",
            "Epoch 5/100\n",
            "47/47 [==============================] - 12s 259ms/step - loss: 0.2234 - val_loss: 0.1167\n",
            "Epoch 6/100\n",
            "47/47 [==============================] - 10s 218ms/step - loss: 0.2024 - val_loss: 0.1140\n",
            "Epoch 7/100\n",
            "47/47 [==============================] - 10s 203ms/step - loss: 0.2190 - val_loss: 0.1136\n",
            "Epoch 8/100\n",
            "47/47 [==============================] - 10s 204ms/step - loss: 0.1961 - val_loss: 0.1147\n",
            "Epoch 9/100\n",
            "47/47 [==============================] - 10s 205ms/step - loss: 0.2247 - val_loss: 0.1129\n",
            "Epoch 10/100\n",
            "47/47 [==============================] - 10s 204ms/step - loss: 0.1871 - val_loss: 0.1115\n",
            "Epoch 11/100\n",
            "47/47 [==============================] - 10s 204ms/step - loss: 0.2215 - val_loss: 0.1129\n",
            "Epoch 12/100\n",
            "47/47 [==============================] - 10s 204ms/step - loss: 0.2000 - val_loss: 0.1094\n",
            "Epoch 13/100\n",
            "47/47 [==============================] - 10s 205ms/step - loss: 0.1883 - val_loss: 0.1055\n",
            "Epoch 14/100\n",
            "47/47 [==============================] - 10s 205ms/step - loss: 0.1653 - val_loss: 0.1051\n",
            "Epoch 15/100\n",
            "47/47 [==============================] - 10s 205ms/step - loss: 0.1800 - val_loss: 0.1126\n",
            "Epoch 16/100\n",
            "47/47 [==============================] - 10s 207ms/step - loss: 0.2465 - val_loss: 0.1163\n",
            "Epoch 17/100\n",
            "47/47 [==============================] - 10s 205ms/step - loss: 0.1846 - val_loss: 0.1093\n",
            "Epoch 18/100\n",
            "47/47 [==============================] - 10s 204ms/step - loss: 0.2188 - val_loss: 0.1134\n",
            "Epoch 19/100\n",
            "47/47 [==============================] - 10s 204ms/step - loss: 0.2118 - val_loss: 0.1100\n",
            "Epoch 20/100\n",
            "47/47 [==============================] - 10s 204ms/step - loss: 0.1742 - val_loss: 0.1116\n",
            "Epoch 21/100\n",
            "47/47 [==============================] - 10s 203ms/step - loss: 0.1776 - val_loss: 0.1061\n",
            "Epoch 22/100\n",
            "47/47 [==============================] - 10s 203ms/step - loss: 0.1721 - val_loss: 0.1070\n",
            "Epoch 23/100\n",
            "47/47 [==============================] - 10s 204ms/step - loss: 0.1853 - val_loss: 0.1022\n",
            "Epoch 24/100\n",
            "47/47 [==============================] - 10s 204ms/step - loss: 0.1636 - val_loss: 0.0983\n",
            "Epoch 25/100\n",
            "47/47 [==============================] - 10s 204ms/step - loss: 0.1680 - val_loss: 0.1048\n",
            "Epoch 26/100\n",
            "47/47 [==============================] - 10s 205ms/step - loss: 0.2085 - val_loss: 0.1154\n",
            "Epoch 27/100\n",
            "47/47 [==============================] - 10s 204ms/step - loss: 0.1976 - val_loss: 0.1054\n",
            "Epoch 28/100\n",
            "47/47 [==============================] - 10s 204ms/step - loss: 0.1967 - val_loss: 0.1085\n",
            "Epoch 29/100\n",
            "47/47 [==============================] - 10s 204ms/step - loss: 0.2072 - val_loss: 0.1107\n",
            "Epoch 30/100\n",
            "47/47 [==============================] - 10s 206ms/step - loss: 0.2127 - val_loss: 0.1061\n",
            "Epoch 31/100\n",
            "47/47 [==============================] - 10s 205ms/step - loss: 0.1700 - val_loss: 0.0960\n",
            "Epoch 32/100\n",
            "47/47 [==============================] - 10s 206ms/step - loss: 0.1526 - val_loss: 0.0964\n",
            "Epoch 33/100\n",
            "47/47 [==============================] - 10s 205ms/step - loss: 0.2067 - val_loss: 0.1113\n",
            "Epoch 34/100\n",
            "47/47 [==============================] - 10s 205ms/step - loss: 0.1743 - val_loss: 0.1034\n",
            "Epoch 35/100\n",
            "47/47 [==============================] - 10s 205ms/step - loss: 0.1904 - val_loss: 0.1081\n",
            "Epoch 36/100\n",
            "47/47 [==============================] - 10s 210ms/step - loss: 0.1768 - val_loss: 0.1005\n",
            "Epoch 37/100\n",
            "47/47 [==============================] - 10s 209ms/step - loss: 0.1677 - val_loss: 0.0975\n",
            "Epoch 38/100\n",
            "47/47 [==============================] - 10s 208ms/step - loss: 0.1519 - val_loss: 0.0937\n",
            "Epoch 39/100\n",
            "47/47 [==============================] - 10s 204ms/step - loss: 0.1877 - val_loss: 0.0990\n",
            "Epoch 40/100\n",
            "47/47 [==============================] - 10s 204ms/step - loss: 0.1566 - val_loss: 0.0937\n",
            "Epoch 41/100\n",
            "47/47 [==============================] - 10s 205ms/step - loss: 0.1797 - val_loss: 0.0998\n",
            "Epoch 42/100\n",
            "47/47 [==============================] - 10s 205ms/step - loss: 0.1804 - val_loss: 0.0954\n",
            "Epoch 43/100\n",
            "47/47 [==============================] - 10s 205ms/step - loss: 0.1687 - val_loss: 0.1017\n",
            "Epoch 44/100\n",
            "47/47 [==============================] - 10s 204ms/step - loss: 0.1665 - val_loss: 0.0962\n",
            "Epoch 45/100\n",
            "47/47 [==============================] - 10s 204ms/step - loss: 0.1637 - val_loss: 0.0949\n",
            "Epoch 46/100\n",
            "47/47 [==============================] - 10s 205ms/step - loss: 0.1710 - val_loss: 0.0980\n",
            "Epoch 47/100\n",
            "47/47 [==============================] - 10s 205ms/step - loss: 0.1634 - val_loss: 0.0949\n",
            "Epoch 48/100\n",
            "47/47 [==============================] - 10s 204ms/step - loss: 0.1728 - val_loss: 0.0929\n",
            "Epoch 49/100\n",
            "47/47 [==============================] - 10s 204ms/step - loss: 0.1471 - val_loss: 0.0921\n",
            "Epoch 50/100\n",
            "47/47 [==============================] - 10s 203ms/step - loss: 0.1435 - val_loss: 0.0925\n",
            "Epoch 51/100\n",
            "47/47 [==============================] - 10s 204ms/step - loss: 0.1639 - val_loss: 0.0988\n",
            "Epoch 52/100\n",
            "47/47 [==============================] - 10s 204ms/step - loss: 0.1947 - val_loss: 0.1001\n",
            "Epoch 53/100\n",
            "47/47 [==============================] - 10s 203ms/step - loss: 0.1656 - val_loss: 0.1042\n",
            "Epoch 54/100\n",
            "47/47 [==============================] - 10s 204ms/step - loss: 0.1500 - val_loss: 0.0957\n",
            "Epoch 55/100\n",
            "47/47 [==============================] - 10s 203ms/step - loss: 0.1625 - val_loss: 0.0973\n",
            "Epoch 56/100\n",
            "47/47 [==============================] - 10s 204ms/step - loss: 0.1896 - val_loss: 0.0945\n",
            "Epoch 57/100\n",
            "47/47 [==============================] - 10s 203ms/step - loss: 0.1599 - val_loss: 0.0945\n",
            "Epoch 58/100\n",
            "47/47 [==============================] - 10s 204ms/step - loss: 0.1571 - val_loss: 0.0951\n",
            "Epoch 59/100\n",
            "47/47 [==============================] - 10s 204ms/step - loss: 0.1548 - val_loss: 0.0907\n",
            "Epoch 60/100\n",
            "47/47 [==============================] - 10s 204ms/step - loss: 0.1703 - val_loss: 0.0986\n",
            "Epoch 61/100\n",
            "47/47 [==============================] - 10s 204ms/step - loss: 0.1568 - val_loss: 0.0901\n",
            "Epoch 62/100\n",
            "47/47 [==============================] - 10s 204ms/step - loss: 0.1467 - val_loss: 0.0810\n",
            "Epoch 63/100\n",
            "47/47 [==============================] - 10s 206ms/step - loss: 0.1732 - val_loss: 0.1050\n",
            "Epoch 64/100\n",
            "47/47 [==============================] - 10s 207ms/step - loss: 0.1445 - val_loss: 0.0809\n",
            "Epoch 65/100\n",
            "47/47 [==============================] - 10s 204ms/step - loss: 0.1637 - val_loss: 0.0820\n",
            "Epoch 66/100\n",
            "47/47 [==============================] - 10s 204ms/step - loss: 0.1281 - val_loss: 0.0759\n",
            "Epoch 67/100\n",
            "47/47 [==============================] - 10s 205ms/step - loss: 0.1584 - val_loss: 0.0886\n",
            "Epoch 68/100\n",
            "47/47 [==============================] - 10s 203ms/step - loss: 0.1449 - val_loss: 0.0838\n",
            "Epoch 69/100\n",
            "47/47 [==============================] - 10s 204ms/step - loss: 0.1714 - val_loss: 0.0879\n",
            "Epoch 70/100\n",
            "47/47 [==============================] - 10s 205ms/step - loss: 0.1691 - val_loss: 0.0863\n",
            "Epoch 71/100\n",
            "47/47 [==============================] - 10s 206ms/step - loss: 0.1489 - val_loss: 0.0794\n",
            "Epoch 72/100\n",
            "47/47 [==============================] - 10s 206ms/step - loss: 0.1767 - val_loss: 0.1000\n",
            "Epoch 73/100\n",
            "47/47 [==============================] - 10s 205ms/step - loss: 0.1624 - val_loss: 0.0964\n",
            "Epoch 74/100\n",
            "47/47 [==============================] - 10s 205ms/step - loss: 0.1308 - val_loss: 0.0756\n",
            "Epoch 75/100\n",
            "47/47 [==============================] - 10s 205ms/step - loss: 0.1198 - val_loss: 0.0725\n",
            "Epoch 76/100\n",
            "47/47 [==============================] - 10s 204ms/step - loss: 0.1185 - val_loss: 0.0722\n",
            "Epoch 77/100\n",
            "47/47 [==============================] - 10s 207ms/step - loss: 0.1216 - val_loss: 0.0740\n",
            "Epoch 78/100\n",
            "47/47 [==============================] - 10s 205ms/step - loss: 0.1116 - val_loss: 0.0710\n",
            "Epoch 79/100\n",
            "47/47 [==============================] - 10s 207ms/step - loss: 0.1300 - val_loss: 0.0773\n",
            "Epoch 80/100\n",
            "47/47 [==============================] - 10s 205ms/step - loss: 0.1515 - val_loss: 0.0821\n",
            "Epoch 81/100\n",
            "47/47 [==============================] - 10s 203ms/step - loss: 0.2029 - val_loss: 0.1083\n",
            "Epoch 82/100\n",
            "47/47 [==============================] - 10s 205ms/step - loss: 0.1674 - val_loss: 0.0999\n",
            "Epoch 83/100\n",
            "47/47 [==============================] - 10s 204ms/step - loss: 0.1803 - val_loss: 0.1017\n",
            "Epoch 84/100\n",
            "47/47 [==============================] - 10s 205ms/step - loss: 0.1559 - val_loss: 0.0948\n",
            "Epoch 85/100\n",
            "47/47 [==============================] - 10s 206ms/step - loss: 0.1549 - val_loss: 0.0928\n",
            "Epoch 86/100\n",
            "47/47 [==============================] - 10s 204ms/step - loss: 0.1619 - val_loss: 0.0937\n",
            "Epoch 87/100\n",
            "47/47 [==============================] - 10s 205ms/step - loss: 0.1395 - val_loss: 0.0834\n",
            "Epoch 88/100\n",
            "47/47 [==============================] - 10s 204ms/step - loss: 0.1329 - val_loss: 0.0787\n",
            "(3280, 60, 1)\n",
            "(3280, 60, 1)\n",
            "Model: \"sequential_5\"\n",
            "_________________________________________________________________\n",
            "Layer (type)                 Output Shape              Param #   \n",
            "=================================================================\n",
            "lstm_10 (LSTM)               (None, 128)               66560     \n",
            "_________________________________________________________________\n",
            "dropout_10 (Dropout)         (None, 128)               0         \n",
            "_________________________________________________________________\n",
            "repeat_vector_5 (RepeatVecto (None, 60, 128)           0         \n",
            "_________________________________________________________________\n",
            "lstm_11 (LSTM)               (None, 60, 128)           131584    \n",
            "_________________________________________________________________\n",
            "dropout_11 (Dropout)         (None, 60, 128)           0         \n",
            "_________________________________________________________________\n",
            "time_distributed_5 (TimeDist (None, 60, 1)             129       \n",
            "=================================================================\n",
            "Total params: 198,273\n",
            "Trainable params: 198,273\n",
            "Non-trainable params: 0\n",
            "_________________________________________________________________\n",
            "Epoch 1/100\n",
            "24/24 [==============================] - 14s 416ms/step - loss: 0.3527 - val_loss: 0.1584\n",
            "Epoch 2/100\n",
            "24/24 [==============================] - 9s 383ms/step - loss: 0.2661 - val_loss: 0.1396\n",
            "Epoch 3/100\n",
            "24/24 [==============================] - 9s 384ms/step - loss: 0.2826 - val_loss: 0.1459\n",
            "Epoch 4/100\n",
            "24/24 [==============================] - 9s 385ms/step - loss: 0.3381 - val_loss: 0.1396\n",
            "Epoch 5/100\n",
            "24/24 [==============================] - 9s 382ms/step - loss: 0.2752 - val_loss: 0.1422\n",
            "Epoch 6/100\n",
            "24/24 [==============================] - 9s 384ms/step - loss: 0.2760 - val_loss: 0.1450\n",
            "Epoch 7/100\n",
            "24/24 [==============================] - 9s 384ms/step - loss: 0.2758 - val_loss: 0.1375\n",
            "Epoch 8/100\n",
            "24/24 [==============================] - 9s 387ms/step - loss: 0.2663 - val_loss: 0.1409\n",
            "Epoch 9/100\n",
            "24/24 [==============================] - 9s 389ms/step - loss: 0.2756 - val_loss: 0.1434\n",
            "Epoch 10/100\n",
            "24/24 [==============================] - 9s 384ms/step - loss: 0.2793 - val_loss: 0.1358\n",
            "Epoch 11/100\n",
            "24/24 [==============================] - 9s 383ms/step - loss: 0.2776 - val_loss: 0.1548\n",
            "Epoch 12/100\n",
            "24/24 [==============================] - 9s 383ms/step - loss: 0.3078 - val_loss: 0.1691\n",
            "Epoch 13/100\n",
            "24/24 [==============================] - 9s 382ms/step - loss: 0.2922 - val_loss: 0.1508\n",
            "Epoch 14/100\n",
            "24/24 [==============================] - 9s 382ms/step - loss: 0.2504 - val_loss: 0.1441\n",
            "Epoch 15/100\n",
            "24/24 [==============================] - 9s 388ms/step - loss: 0.2597 - val_loss: 0.1342\n",
            "Epoch 16/100\n",
            "24/24 [==============================] - 9s 386ms/step - loss: 0.2653 - val_loss: 0.1409\n",
            "Epoch 17/100\n",
            "24/24 [==============================] - 9s 384ms/step - loss: 0.2602 - val_loss: 0.1333\n",
            "Epoch 18/100\n",
            "24/24 [==============================] - 9s 384ms/step - loss: 0.2509 - val_loss: 0.1356\n",
            "Epoch 19/100\n",
            "24/24 [==============================] - 9s 384ms/step - loss: 0.2578 - val_loss: 0.1379\n",
            "Epoch 20/100\n",
            "24/24 [==============================] - 9s 385ms/step - loss: 0.2450 - val_loss: 0.1279\n",
            "Epoch 21/100\n",
            "24/24 [==============================] - 9s 386ms/step - loss: 0.2497 - val_loss: 0.1306\n",
            "Epoch 22/100\n",
            "24/24 [==============================] - 9s 385ms/step - loss: 0.2302 - val_loss: 0.1281\n",
            "Epoch 23/100\n",
            "24/24 [==============================] - 9s 384ms/step - loss: 0.2472 - val_loss: 0.1427\n",
            "Epoch 24/100\n",
            "24/24 [==============================] - 9s 383ms/step - loss: 0.2575 - val_loss: 0.1319\n",
            "Epoch 25/100\n",
            "24/24 [==============================] - 9s 384ms/step - loss: 0.2622 - val_loss: 0.1546\n",
            "Epoch 26/100\n",
            "24/24 [==============================] - 9s 382ms/step - loss: 0.2752 - val_loss: 0.1353\n",
            "Epoch 27/100\n",
            "24/24 [==============================] - 9s 383ms/step - loss: 0.2526 - val_loss: 0.1353\n",
            "Epoch 28/100\n",
            "24/24 [==============================] - 9s 383ms/step - loss: 0.2579 - val_loss: 0.1361\n",
            "Epoch 29/100\n",
            "24/24 [==============================] - 9s 382ms/step - loss: 0.2387 - val_loss: 0.1237\n",
            "Epoch 30/100\n",
            "24/24 [==============================] - 9s 384ms/step - loss: 0.2584 - val_loss: 0.1334\n",
            "Epoch 31/100\n",
            "24/24 [==============================] - 9s 383ms/step - loss: 0.2458 - val_loss: 0.1354\n",
            "Epoch 32/100\n",
            "24/24 [==============================] - 9s 385ms/step - loss: 0.2610 - val_loss: 0.1416\n",
            "Epoch 33/100\n",
            "24/24 [==============================] - 9s 385ms/step - loss: 0.2378 - val_loss: 0.1280\n",
            "Epoch 34/100\n",
            "24/24 [==============================] - 9s 383ms/step - loss: 0.2473 - val_loss: 0.1244\n",
            "Epoch 35/100\n",
            "24/24 [==============================] - 9s 382ms/step - loss: 0.2496 - val_loss: 0.1482\n",
            "Epoch 36/100\n",
            "24/24 [==============================] - 9s 382ms/step - loss: 0.2673 - val_loss: 0.1381\n",
            "Epoch 37/100\n",
            "24/24 [==============================] - 9s 381ms/step - loss: 0.2421 - val_loss: 0.1238\n",
            "Epoch 38/100\n",
            "24/24 [==============================] - 9s 383ms/step - loss: 0.2379 - val_loss: 0.1238\n",
            "Epoch 39/100\n",
            "24/24 [==============================] - 9s 383ms/step - loss: 0.2338 - val_loss: 0.1322\n",
            "(1640, 120, 1)\n",
            "(1640, 120, 1)\n",
            "Model: \"sequential_6\"\n",
            "_________________________________________________________________\n",
            "Layer (type)                 Output Shape              Param #   \n",
            "=================================================================\n",
            "lstm_12 (LSTM)               (None, 128)               66560     \n",
            "_________________________________________________________________\n",
            "dropout_12 (Dropout)         (None, 128)               0         \n",
            "_________________________________________________________________\n",
            "repeat_vector_6 (RepeatVecto (None, 120, 128)          0         \n",
            "_________________________________________________________________\n",
            "lstm_13 (LSTM)               (None, 120, 128)          131584    \n",
            "_________________________________________________________________\n",
            "dropout_13 (Dropout)         (None, 120, 128)          0         \n",
            "_________________________________________________________________\n",
            "time_distributed_6 (TimeDist (None, 120, 1)            129       \n",
            "=================================================================\n",
            "Total params: 198,273\n",
            "Trainable params: 198,273\n",
            "Non-trainable params: 0\n",
            "_________________________________________________________________\n",
            "Epoch 1/100\n",
            "12/12 [==============================] - 13s 814ms/step - loss: 0.4316 - val_loss: 0.2028\n",
            "Epoch 2/100\n",
            "12/12 [==============================] - 9s 749ms/step - loss: 0.3623 - val_loss: 0.1826\n",
            "Epoch 3/100\n",
            "12/12 [==============================] - 9s 755ms/step - loss: 0.3163 - val_loss: 0.1772\n",
            "Epoch 4/100\n",
            "12/12 [==============================] - 9s 748ms/step - loss: 0.3105 - val_loss: 0.1736\n",
            "Epoch 5/100\n",
            "12/12 [==============================] - 9s 745ms/step - loss: 0.3143 - val_loss: 0.1738\n",
            "Epoch 6/100\n",
            "12/12 [==============================] - 9s 746ms/step - loss: 0.3176 - val_loss: 0.1854\n",
            "Epoch 7/100\n",
            "12/12 [==============================] - 9s 761ms/step - loss: 0.3115 - val_loss: 0.1727\n",
            "Epoch 8/100\n",
            "12/12 [==============================] - 9s 751ms/step - loss: 0.3033 - val_loss: 0.1650\n",
            "Epoch 9/100\n",
            "12/12 [==============================] - 9s 741ms/step - loss: 0.3191 - val_loss: 0.1613\n",
            "Epoch 10/100\n",
            "12/12 [==============================] - 9s 749ms/step - loss: 0.3175 - val_loss: 0.1792\n",
            "Epoch 11/100\n",
            "12/12 [==============================] - 9s 744ms/step - loss: 0.3021 - val_loss: 0.1723\n",
            "Epoch 12/100\n",
            "12/12 [==============================] - 9s 745ms/step - loss: 0.3070 - val_loss: 0.1774\n",
            "Epoch 13/100\n",
            "12/12 [==============================] - 9s 752ms/step - loss: 0.2886 - val_loss: 0.1590\n",
            "Epoch 14/100\n",
            "12/12 [==============================] - 9s 747ms/step - loss: 0.2922 - val_loss: 0.1585\n",
            "Epoch 15/100\n",
            "12/12 [==============================] - 9s 746ms/step - loss: 0.2943 - val_loss: 0.1609\n",
            "Epoch 16/100\n",
            "12/12 [==============================] - 9s 749ms/step - loss: 0.3486 - val_loss: 0.1959\n",
            "Epoch 17/100\n",
            "12/12 [==============================] - 9s 752ms/step - loss: 0.3808 - val_loss: 0.1958\n",
            "Epoch 18/100\n",
            "12/12 [==============================] - 9s 751ms/step - loss: 0.3096 - val_loss: 0.1717\n",
            "Epoch 19/100\n",
            "12/12 [==============================] - 9s 746ms/step - loss: 0.3006 - val_loss: 0.1715\n",
            "Epoch 20/100\n",
            "12/12 [==============================] - 9s 751ms/step - loss: 0.2931 - val_loss: 0.1628\n",
            "Epoch 21/100\n",
            "12/12 [==============================] - 9s 747ms/step - loss: 0.2934 - val_loss: 0.1665\n",
            "Epoch 22/100\n",
            "12/12 [==============================] - 9s 745ms/step - loss: 0.2929 - val_loss: 0.1582\n",
            "Epoch 23/100\n",
            "12/12 [==============================] - 9s 750ms/step - loss: 0.2883 - val_loss: 0.1606\n",
            "Epoch 24/100\n",
            "12/12 [==============================] - 9s 744ms/step - loss: 0.2787 - val_loss: 0.1452\n",
            "Epoch 25/100\n",
            "12/12 [==============================] - 9s 745ms/step - loss: 0.2831 - val_loss: 0.1471\n",
            "Epoch 26/100\n",
            "12/12 [==============================] - 9s 748ms/step - loss: 0.2896 - val_loss: 0.1749\n",
            "Epoch 27/100\n",
            "12/12 [==============================] - 9s 744ms/step - loss: 0.3010 - val_loss: 0.1578\n",
            "Epoch 28/100\n",
            "12/12 [==============================] - 9s 750ms/step - loss: 0.2919 - val_loss: 0.1525\n",
            "Epoch 29/100\n",
            "12/12 [==============================] - 9s 748ms/step - loss: 0.2702 - val_loss: 0.1477\n",
            "Epoch 30/100\n",
            "12/12 [==============================] - 9s 746ms/step - loss: 0.2540 - val_loss: 0.1447\n",
            "Epoch 31/100\n",
            "12/12 [==============================] - 9s 742ms/step - loss: 0.2677 - val_loss: 0.1545\n",
            "Epoch 32/100\n",
            "12/12 [==============================] - 9s 746ms/step - loss: 0.2872 - val_loss: 0.1442\n",
            "Epoch 33/100\n",
            "12/12 [==============================] - 9s 747ms/step - loss: 0.2668 - val_loss: 0.1475\n",
            "Epoch 34/100\n",
            "12/12 [==============================] - 9s 748ms/step - loss: 0.2583 - val_loss: 0.1458\n",
            "Epoch 35/100\n",
            "12/12 [==============================] - 9s 742ms/step - loss: 0.2893 - val_loss: 0.1561\n",
            "Epoch 36/100\n",
            "12/12 [==============================] - 9s 753ms/step - loss: 0.2901 - val_loss: 0.1660\n",
            "Epoch 37/100\n",
            "12/12 [==============================] - 9s 750ms/step - loss: 0.2714 - val_loss: 0.1530\n",
            "Epoch 38/100\n",
            "12/12 [==============================] - 9s 750ms/step - loss: 0.2607 - val_loss: 0.1357\n",
            "Epoch 39/100\n",
            "12/12 [==============================] - 9s 747ms/step - loss: 0.2569 - val_loss: 0.1316\n",
            "Epoch 40/100\n",
            "12/12 [==============================] - 9s 746ms/step - loss: 0.2551 - val_loss: 0.1326\n",
            "Epoch 41/100\n",
            "12/12 [==============================] - 9s 743ms/step - loss: 0.2536 - val_loss: 0.1352\n",
            "Epoch 42/100\n",
            "12/12 [==============================] - 9s 747ms/step - loss: 0.2656 - val_loss: 0.1548\n",
            "Epoch 43/100\n",
            "12/12 [==============================] - 9s 748ms/step - loss: 0.3004 - val_loss: 0.1512\n",
            "Epoch 44/100\n",
            "12/12 [==============================] - 9s 762ms/step - loss: 0.2940 - val_loss: 0.1514\n",
            "Epoch 45/100\n",
            "12/12 [==============================] - 9s 745ms/step - loss: 0.2745 - val_loss: 0.1486\n",
            "Epoch 46/100\n",
            "12/12 [==============================] - 9s 747ms/step - loss: 0.2620 - val_loss: 0.1405\n",
            "Epoch 47/100\n",
            "12/12 [==============================] - 9s 752ms/step - loss: 0.2468 - val_loss: 0.1481\n",
            "Epoch 48/100\n",
            "12/12 [==============================] - 9s 752ms/step - loss: 0.2645 - val_loss: 0.1413\n",
            "Epoch 49/100\n",
            "12/12 [==============================] - 9s 747ms/step - loss: 0.2690 - val_loss: 0.1433\n"
          ],
          "name": "stdout"
        }
      ]
    },
    {
      "cell_type": "code",
      "metadata": {
        "id": "hhqQi8vNNKcf"
      },
      "source": [
        "inner_data[\"history\"] = history\n",
        "inner_data[\"model\"] = model"
      ],
      "execution_count": 62,
      "outputs": []
    },
    {
      "cell_type": "code",
      "metadata": {
        "id": "lU1TsrpyuWcm",
        "colab": {
          "base_uri": "https://localhost:8080/",
          "height": 1000
        },
        "outputId": "120ba4a9-b17c-4a22-be43-2aadef5db132"
      },
      "source": [
        "for ts in data_dict.keys():\n",
        "  history = data_dict[ts][\"history\"]\n",
        "  plt.plot(history.history['loss'], label='Training loss')\n",
        "  plt.plot(history.history['val_loss'], label='Validation loss')\n",
        "  plt.title(\"Timesteps {}\".format(ts))\n",
        "  plt.legend();\n",
        "  plt.show()"
      ],
      "execution_count": 63,
      "outputs": [
        {
          "output_type": "display_data",
          "data": {
            "image/png": "[encoded data removed]",
            "text/plain": [
              "<Figure size 432x288 with 1 Axes>"
            ]
          },
          "metadata": {
            "tags": [],
            "needs_background": "light"
          }
        },
        {
          "output_type": "display_data",
          "data": {
            "image/png": "[encoded data removed]",
            "text/plain": [
              "<Figure size 432x288 with 1 Axes>"
            ]
          },
          "metadata": {
            "tags": [],
            "needs_background": "light"
          }
        },
        {
          "output_type": "display_data",
          "data": {
            "image/png": "[encoded data removed]",
            "text/plain": [
              "<Figure size 432x288 with 1 Axes>"
            ]
          },
          "metadata": {
            "tags": [],
            "needs_background": "light"
          }
        },
        {
          "output_type": "display_data",
          "data": {
            "image/png": "[encoded data removed]",
            "text/plain": [
              "<Figure size 432x288 with 1 Axes>"
            ]
          },
          "metadata": {
            "tags": [],
            "needs_background": "light"
          }
        }
      ]
    },
    {
      "cell_type": "code",
      "metadata": {
        "id": "4uSPKN_duWcm",
        "colab": {
          "base_uri": "https://localhost:8080/",
          "height": 367
        },
        "outputId": "fb0df298-2e96-45d3-85ca-af98118cfb45"
      },
      "source": [
        "for ts in data_dict.keys():\n",
        "  print(\"evaluating for timestep: {}\".format(ts))\n",
        "  x_test = data_dict[ts][\"x_test\"]\n",
        "  y_test = data_dict[ts][\"y_test\"]\n",
        "  model = data_dict[ts][\"model\"]\n",
        "  print(model.evaluate(x_test, y_test))"
      ],
      "execution_count": 64,
      "outputs": [
        {
          "output_type": "stream",
          "text": [
            "evaluating for timestep: 15\n",
            "4101/4101 [==============================] - 54s 13ms/step - loss: 0.1054\n",
            "0.10542652010917664\n",
            "evaluating for timestep: 30\n",
            "4100/4100 [==============================] - 96s 23ms/step - loss: 0.1166\n",
            "0.11664965748786926\n",
            "evaluating for timestep: 60\n",
            "4099/4099 [==============================] - 176s 43ms/step - loss: 0.1120\n",
            "0.11204204708337784\n",
            "evaluating for timestep: 120\n"
          ],
          "name": "stdout"
        },
        {
          "output_type": "error",
          "ename": "AttributeError",
          "evalue": "ignored",
          "traceback": [
            "\u001b[0;31m---------------------------------------------------------------------------\u001b[0m",
            "\u001b[0;31mAttributeError\u001b[0m                            Traceback (most recent call last)",
            "\u001b[0;32m<ipython-input-64-0c601c1d91cf>\u001b[0m in \u001b[0;36m<module>\u001b[0;34m()\u001b[0m\n\u001b[1;32m      4\u001b[0m   \u001b[0my_test\u001b[0m \u001b[0;34m=\u001b[0m \u001b[0mdata_dict\u001b[0m\u001b[0;34m[\u001b[0m\u001b[0mts\u001b[0m\u001b[0;34m]\u001b[0m\u001b[0;34m[\u001b[0m\u001b[0;34m\"y_test\"\u001b[0m\u001b[0;34m]\u001b[0m\u001b[0;34m\u001b[0m\u001b[0;34m\u001b[0m\u001b[0m\n\u001b[1;32m      5\u001b[0m   \u001b[0mmodel\u001b[0m \u001b[0;34m=\u001b[0m \u001b[0mdata_dict\u001b[0m\u001b[0;34m[\u001b[0m\u001b[0mts\u001b[0m\u001b[0;34m]\u001b[0m\u001b[0;34m[\u001b[0m\u001b[0;34m\"model\"\u001b[0m\u001b[0;34m]\u001b[0m\u001b[0;34m\u001b[0m\u001b[0;34m\u001b[0m\u001b[0m\n\u001b[0;32m----> 6\u001b[0;31m   \u001b[0mprint\u001b[0m\u001b[0;34m(\u001b[0m\u001b[0mmodel\u001b[0m\u001b[0;34m.\u001b[0m\u001b[0mevaluate\u001b[0m\u001b[0;34m(\u001b[0m\u001b[0mx_test\u001b[0m\u001b[0;34m,\u001b[0m \u001b[0my_test\u001b[0m\u001b[0;34m)\u001b[0m\u001b[0;34m)\u001b[0m\u001b[0;34m\u001b[0m\u001b[0;34m\u001b[0m\u001b[0m\n\u001b[0m",
            "\u001b[0;31mAttributeError\u001b[0m: 'NoneType' object has no attribute 'evaluate'"
          ]
        }
      ]
    },
    {
      "cell_type": "code",
      "metadata": {
        "id": "flhlE_qyuWcn"
      },
      "source": [
        "for ts in data_dict.keys():\n",
        "  print(\"computing info for {}\".format(ts))\n",
        "  model = data_dict[ts][\"model\"]\n",
        "  x_train = data_dict[ts][\"x_train_eval\"]\n",
        "  y_train = data_dict[ts][\"y_train_eval\"]\n",
        "  x_test = data_dict[ts][\"x_test\"]\n",
        "  y_test = data_dict[ts][\"y_test\"]\n",
        "\n",
        "\n",
        "  x_train_pred = model.predict(x_train, verbose=0)\n",
        "  train_mae_loss = np.mean(np.abs(x_train_pred - x_train), axis=1)\n",
        "  train_score_df = pd.DataFrame(train[ts:])\n",
        "  train_score_df['loss'] = train_mae_loss\n",
        "  train_score_df['Value'] = train[ts:]['Value']\n",
        "  data_dict[ts][\"train_score_df\"] = train_score_df\n",
        "\n",
        "  x_test_pred = model.predict(x_test, verbose=0)\n",
        "  if on == 1:\n",
        "    test_mae_loss = np.mean(np.abs(x_test_pred-x_test), axis=1)\n",
        "    test_score_df = pd.DataFrame(test[ts-1:-1])\n",
        "    test_score_df['loss'] = test_mae_loss\n",
        "    test_score_df['Value'] = test[ts-1:-1]['Value']\n",
        "  else:\n",
        "    test_mae_loss = np.abs(x_test_pred.flatten()-y_test)\n",
        "    test_score_df = pd.DataFrame(test[ts:])\n",
        "    test_score_df['loss'] = test_mae_loss\n",
        "    test_score_df['Value'] = test[ts:]['Value']\n",
        "  data_dict[ts][\"test_score_df\"] = test_score_df"
      ],
      "execution_count": null,
      "outputs": []
    },
    {
      "cell_type": "code",
      "metadata": {
        "id": "Du13HRKMDpwp"
      },
      "source": [
        "#np.mean(np.abs(x_test_pred-x_test), axis=1)[0:5]\n",
        "#np.abs(x_test_pred-x_test)[0:2]\n",
        "np.abs(np.concatenate(list(zip(*x_test))[-1])-np.concatenate(list(zip(*x_test_pred))[-1], axis=0))"
      ],
      "execution_count": null,
      "outputs": []
    },
    {
      "cell_type": "markdown",
      "metadata": {
        "id": "GEopnZEnQPiB"
      },
      "source": [
        "Calculates anomalies based on different thresholds, If you want to try different values change `THRESHOLD_LIST` at the top of the notebook, or define it again here with new values"
      ]
    },
    {
      "cell_type": "code",
      "metadata": {
        "id": "p-ViKmz3FmPd"
      },
      "source": [
        "for ts in data_dict.keys():\n",
        "  for thresh in THRESHOLD_LIST:\n",
        "\n",
        "    test_score_df = data_dict[ts][\"test_score_df\"]\n",
        "    #test_score_df = data_dict[ts][\"test_score_df\"].copy(deep=True)\n",
        "    max_error = train_score_df[\"loss\"].max()\n",
        "    threshold = max_error * thresh\n",
        "    \n",
        "    test_score_df['threshold'] = threshold\n",
        "    test_score_df['anomaly_by_machine'] = test_score_df['loss'] > test_score_df['threshold']\n",
        "\n",
        "    anomalies = test_score_df.loc[test_score_df['anomaly_by_machine'] == True]\n",
        "    num_anomalies = anomalies.shape[0]\n",
        "\n",
        "    plt.plot(test_score_df['threshold'], label='Threshold')\n",
        "    plt.plot(test_score_df['loss'], label='Validation loss')\n",
        "    plt.title(\"Timesteps:{}, Threshold:{}, num_anomalies:{}\".format(ts, thresh, num_anomalies))\n",
        "    plt.legend();\n",
        "    plt.show()"
      ],
      "execution_count": null,
      "outputs": []
    },
    {
      "cell_type": "code",
      "metadata": {
        "id": "1j5RlVw07RoY"
      },
      "source": [
        ""
      ],
      "execution_count": null,
      "outputs": []
    },
    {
      "cell_type": "code",
      "metadata": {
        "id": "oA90HfLCuWcn"
      },
      "source": [
        "for ts in data_dict.keys():\n",
        "  for thresh in THRESHOLD_LIST[0:2]:\n",
        "    test_score_df = data_dict[ts][\"test_score_df\"]\n",
        "    #test_score_df = data_dict[ts][\"test_score_df\"].copy(deep=True)\n",
        "    max_error = train_score_df[\"loss\"].max()\n",
        "    threshold = max_error * thresh\n",
        "   \n",
        "    test_score_df['threshold'] = threshold\n",
        "    test_score_df['anomaly_by_machine'] = test_score_df['loss'] > test_score_df['threshold']\n",
        "    test_score_df[\"raw_value\"] = test[\"raw_value\"][ts:]\n",
        "    test_score_df[\"anomaly_by_machine_int\"] = test_score_df['anomaly_by_machine'].apply(lambda x: str(x))\n",
        "\n",
        "    test_score_df[\"year_month\"] = test_score_df[\"Datetime\"].apply(lambda x: \"-\".join(x.split(\"-\")[0:2]))\n",
        "\n",
        "    \n",
        "    fig = px.scatter(test_score_df, x=\"Datetime\", y=\"raw_value\", color=\"anomaly_by_machine_int\", \n",
        "                     title=\"Anomalies Detected for Timestep:{}, Threshold:{}\".format(ts, thresh))\n",
        "    \n",
        "    human_anomalies = test[test[\"anomaly_by_human\"] == \"True\"]\n",
        "   \n",
        "    fig.add_trace(go.Scatter(x=human_anomalies[\"Datetime\"], y=human_anomalies[\"raw_value\"], mode=\"markers\",\n",
        "                marker=dict(size=10, color=\"Black\"),\n",
        "                name=\"anomaly_by_human=True\"))\n",
        "\n",
        "    fig.show()\n"
      ],
      "execution_count": null,
      "outputs": []
    },
    {
      "cell_type": "code",
      "metadata": {
        "id": "BQ8-NBPgkCJr"
      },
      "source": [
        "# for thresh in THRESHOLD_LIST:\n",
        "#   for ts in data_dict.keys():\n",
        "\n",
        "#     test_score_df = data_dict[ts][\"test_score_df\"]\n",
        "#     #test_score_df = data_dict[ts][\"test_score_df\"].copy(deep=True)\n",
        "#     max_error = train_score_df[\"loss\"].max()\n",
        "#     threshold = max_error * thresh\n",
        "    \n",
        "#     test_score_df['threshold'] = threshold\n",
        "#     test_score_df['anomaly_by_machine'] = test_score_df['loss'] > test_score_df['threshold']\n",
        "#     test_score_df[\"raw_value\"] = test[\"raw_value\"][ts-on:]\n",
        "#     test_score_df[\"anomaly_by_machine_int\"] = test_score_df['anomaly_by_machine'].apply(lambda x: str(x))\n",
        "\n",
        "#     test_score_df[\"year_month\"] = test_score_df[\"Datetime\"].apply(lambda x: \"-\".join(x.split(\"-\")[0:2]))\n",
        "\n",
        "    \n",
        "#     fig = px.scatter(test_score_df, x=\"Datetime\", y=\"raw_value\", color=\"anomaly_by_machine_int\", \n",
        "#                      title=\"Anomalies Detected for Timestep:{}, Threshold:{}\".format(ts, thresh))\n",
        "    \n",
        "#     human_anomalies = test[test[\"anomaly_by_human\"] == \"True\"]\n",
        "    \n",
        "#     fig.add_trace(go.Scatter(x=human_anomalies[\"Datetime\"], y=human_anomalies[\"raw_value\"], mode=\"markers\",\n",
        "#                 marker=dict(size=10, color=\"Black\"),\n",
        "#                 name=\"anomaly_by_human=True\"))\n",
        "\n",
        "#     fig.show()"
      ],
      "execution_count": null,
      "outputs": []
    }
  ]
}