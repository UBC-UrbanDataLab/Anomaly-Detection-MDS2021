{
  "nbformat": 4,
  "nbformat_minor": 0,
  "metadata": {
    "kernelspec": {
      "name": "python3810jvsc74a57bd07d2dde933846643c70a0971eba9e216bf0ce928f2ec74020d36b05b86c71e3e9",
      "display_name": "Python 3.8.10 64-bit ('pyinfluxdb': conda)"
    },
    "language_info": {
      "codemirror_mode": {
        "name": "ipython",
        "version": 3
      },
      "file_extension": ".py",
      "mimetype": "text/x-python",
      "name": "python",
      "nbconvert_exporter": "python",
      "pygments_lexer": "ipython3",
      "version": "3.8.10"
    },
    "colab": {
      "name": "CEC_compiled_data_3a.ipynb",
      "provenance": [],
      "collapsed_sections": [],
      "toc_visible": true
    },
    "accelerator": "GPU",
    "metadata": {
      "interpreter": {
        "hash": "7d2dde933846643c70a0971eba9e216bf0ce928f2ec74020d36b05b86c71e3e9"
      }
    }
  },
  "cells": [
    {
      "cell_type": "markdown",
      "metadata": {
        "id": "jgBWk4l41cwA"
      },
      "source": [
        "# Explore Predictions"
      ]
    },
    {
      "cell_type": "code",
      "metadata": {
        "id": "gJam9Ma01ai4"
      },
      "source": [
        "from tensorflow import keras\n",
        "from sklearn.preprocessing import StandardScaler\n",
        "\n",
        "import plotly.graph_objects as go\n",
        "\n",
        "from tensorflow.keras.models import Sequential, load_model\n",
        "from tensorflow.keras.layers import Dense, LSTM, Dropout, RepeatVector, TimeDistributed\n",
        "\n",
        "import pandas as pd\n",
        "import numpy as np\n",
        "\n",
        "import tensorflow as tf\n",
        "\n",
        "import matplotlib.pyplot as plt\n",
        "\n",
        "import plotly.express as px\n",
        "import plotly.graph_objects as go"
      ],
      "execution_count": 1,
      "outputs": []
    },
    {
      "cell_type": "markdown",
      "metadata": {
        "id": "-n3-i0hMuWcf"
      },
      "source": [
        "## Load Data"
      ]
    },
    {
      "cell_type": "markdown",
      "metadata": {
        "id": "1zxTjhl7uWcg"
      },
      "source": [
        "Modify data name  \n",
        "Modify timesteps"
      ]
    },
    {
      "cell_type": "code",
      "metadata": {
        "id": "g4Fy3e32uWch"
      },
      "source": [
        "####\n",
        "# MODIFY the time steps as you see fit, you may want to look at the number of points in a day, and choose that \n",
        "# Or choose any other time period \n",
        "####\n",
        "\n",
        "TIMESTEP_LIST = [720]"
      ],
      "execution_count": 2,
      "outputs": []
    },
    {
      "cell_type": "code",
      "metadata": {
        "id": "zEtHBu2EuWch"
      },
      "source": [
        "THRESHOLD_LIST = [0.15,0.2,0.3] # THESE ARE PERCENTAGES OF THE MAX MAE, A LOWER PERCENTAGE WILL FIND MORE ANOMALIES"
      ],
      "execution_count": 3,
      "outputs": []
    },
    {
      "cell_type": "code",
      "metadata": {
        "id": "ueG_TlHduWch"
      },
      "source": [
        "data_dir = \"./\"\n",
        "data_set_1_name = \"CEC_compiled_data_3a_updated.csv\"\n",
        "data_set_2_name = \"CEC_compiled_data_3b_updated.csv\""
      ],
      "execution_count": 4,
      "outputs": []
    },
    {
      "cell_type": "code",
      "metadata": {
        "colab": {
          "base_uri": "https://localhost:8080/",
          "height": 204
        },
        "id": "BxhblU-cuWci",
        "outputId": "7d4e93b0-5765-4229-cc0a-de1ccc2016dd"
      },
      "source": [
        "data_without_labels = pd.read_csv(data_dir + data_set_1_name)\n",
        "data_without_labels = data_without_labels.rename(columns={'Anomaly': 'anomaly_by_human'})\n",
        "data_without_labels.head()"
      ],
      "execution_count": 7,
      "outputs": [
        {
          "output_type": "execute_result",
          "data": {
            "text/html": [
              "<div>\n",
              "<style scoped>\n",
              "    .dataframe tbody tr th:only-of-type {\n",
              "        vertical-align: middle;\n",
              "    }\n",
              "\n",
              "    .dataframe tbody tr th {\n",
              "        vertical-align: top;\n",
              "    }\n",
              "\n",
              "    .dataframe thead th {\n",
              "        text-align: right;\n",
              "    }\n",
              "</style>\n",
              "<table border=\"1\" class=\"dataframe\">\n",
              "  <thead>\n",
              "    <tr style=\"text-align: right;\">\n",
              "      <th></th>\n",
              "      <th>Datetime</th>\n",
              "      <th>Value</th>\n",
              "      <th>ID</th>\n",
              "      <th>anomaly_by_human</th>\n",
              "    </tr>\n",
              "  </thead>\n",
              "  <tbody>\n",
              "    <tr>\n",
              "      <th>0</th>\n",
              "      <td>2019-12-29 07:59:03</td>\n",
              "      <td>105.0</td>\n",
              "      <td>Campus Energy Centre Campus HW Main Meter Flow</td>\n",
              "      <td>False</td>\n",
              "    </tr>\n",
              "    <tr>\n",
              "      <th>1</th>\n",
              "      <td>2019-12-29 08:00:00</td>\n",
              "      <td>110.0</td>\n",
              "      <td>Campus Energy Centre Campus HW Main Meter Flow</td>\n",
              "      <td>False</td>\n",
              "    </tr>\n",
              "    <tr>\n",
              "      <th>2</th>\n",
              "      <td>2019-12-29 08:01:55</td>\n",
              "      <td>105.0</td>\n",
              "      <td>Campus Energy Centre Campus HW Main Meter Flow</td>\n",
              "      <td>False</td>\n",
              "    </tr>\n",
              "    <tr>\n",
              "      <th>3</th>\n",
              "      <td>2019-12-29 08:02:55</td>\n",
              "      <td>110.0</td>\n",
              "      <td>Campus Energy Centre Campus HW Main Meter Flow</td>\n",
              "      <td>False</td>\n",
              "    </tr>\n",
              "    <tr>\n",
              "      <th>4</th>\n",
              "      <td>2019-12-29 08:05:47</td>\n",
              "      <td>115.0</td>\n",
              "      <td>Campus Energy Centre Campus HW Main Meter Flow</td>\n",
              "      <td>False</td>\n",
              "    </tr>\n",
              "  </tbody>\n",
              "</table>\n",
              "</div>"
            ],
            "text/plain": [
              "              Datetime  ...  anomaly_by_human\n",
              "0  2019-12-29 07:59:03  ...             False\n",
              "1  2019-12-29 08:00:00  ...             False\n",
              "2  2019-12-29 08:01:55  ...             False\n",
              "3  2019-12-29 08:02:55  ...             False\n",
              "4  2019-12-29 08:05:47  ...             False\n",
              "\n",
              "[5 rows x 4 columns]"
            ]
          },
          "metadata": {
            "tags": []
          },
          "execution_count": 7
        }
      ]
    },
    {
      "cell_type": "code",
      "metadata": {
        "colab": {
          "base_uri": "https://localhost:8080/",
          "height": 204
        },
        "id": "5tG03ODruWcj",
        "outputId": "1011a58c-5128-4289-a82c-7d1988c0deef"
      },
      "source": [
        "data_with_labels = pd.read_csv(data_dir + data_set_2_name)\n",
        "data_with_labels = data_with_labels.rename(columns={'Anomaly': 'anomaly_by_human'})\n",
        "data_with_labels[\"anomaly_by_human\"] = data_with_labels[\"anomaly_by_human\"].apply(lambda x: str(x))\n",
        "data_with_labels.head()"
      ],
      "execution_count": 8,
      "outputs": [
        {
          "output_type": "execute_result",
          "data": {
            "text/html": [
              "<div>\n",
              "<style scoped>\n",
              "    .dataframe tbody tr th:only-of-type {\n",
              "        vertical-align: middle;\n",
              "    }\n",
              "\n",
              "    .dataframe tbody tr th {\n",
              "        vertical-align: top;\n",
              "    }\n",
              "\n",
              "    .dataframe thead th {\n",
              "        text-align: right;\n",
              "    }\n",
              "</style>\n",
              "<table border=\"1\" class=\"dataframe\">\n",
              "  <thead>\n",
              "    <tr style=\"text-align: right;\">\n",
              "      <th></th>\n",
              "      <th>Datetime</th>\n",
              "      <th>Value</th>\n",
              "      <th>ID</th>\n",
              "      <th>anomaly_by_human</th>\n",
              "    </tr>\n",
              "  </thead>\n",
              "  <tbody>\n",
              "    <tr>\n",
              "      <th>0</th>\n",
              "      <td>2019-12-29 07:59:03</td>\n",
              "      <td>105.0</td>\n",
              "      <td>Campus Energy Centre Campus HW Main Meter Flow</td>\n",
              "      <td>False</td>\n",
              "    </tr>\n",
              "    <tr>\n",
              "      <th>1</th>\n",
              "      <td>2019-12-29 08:00:00</td>\n",
              "      <td>110.0</td>\n",
              "      <td>Campus Energy Centre Campus HW Main Meter Flow</td>\n",
              "      <td>False</td>\n",
              "    </tr>\n",
              "    <tr>\n",
              "      <th>2</th>\n",
              "      <td>2019-12-29 08:01:55</td>\n",
              "      <td>105.0</td>\n",
              "      <td>Campus Energy Centre Campus HW Main Meter Flow</td>\n",
              "      <td>False</td>\n",
              "    </tr>\n",
              "    <tr>\n",
              "      <th>3</th>\n",
              "      <td>2019-12-29 08:02:55</td>\n",
              "      <td>110.0</td>\n",
              "      <td>Campus Energy Centre Campus HW Main Meter Flow</td>\n",
              "      <td>False</td>\n",
              "    </tr>\n",
              "    <tr>\n",
              "      <th>4</th>\n",
              "      <td>2019-12-29 08:05:47</td>\n",
              "      <td>115.0</td>\n",
              "      <td>Campus Energy Centre Campus HW Main Meter Flow</td>\n",
              "      <td>False</td>\n",
              "    </tr>\n",
              "  </tbody>\n",
              "</table>\n",
              "</div>"
            ],
            "text/plain": [
              "              Datetime  ...  anomaly_by_human\n",
              "0  2019-12-29 07:59:03  ...             False\n",
              "1  2019-12-29 08:00:00  ...             False\n",
              "2  2019-12-29 08:01:55  ...             False\n",
              "3  2019-12-29 08:02:55  ...             False\n",
              "4  2019-12-29 08:05:47  ...             False\n",
              "\n",
              "[5 rows x 4 columns]"
            ]
          },
          "metadata": {
            "tags": []
          },
          "execution_count": 8
        }
      ]
    },
    {
      "cell_type": "markdown",
      "metadata": {
        "id": "o_Cw0_TVuWcj"
      },
      "source": [
        "Some datasets have 3 versions (i.e seasonal anomalies not counted)  \n",
        "Another `pd.read_csv()` call will need to be done here"
      ]
    },
    {
      "cell_type": "markdown",
      "metadata": {
        "id": "b0lgXW3HuWcj"
      },
      "source": [
        "# Split data into 80-20 train test split"
      ]
    },
    {
      "cell_type": "code",
      "metadata": {
        "id": "YF3Wr9bft397"
      },
      "source": [
        "data_with_labels = data_with_labels[:int(len(data_with_labels)/2)]\n",
        "data_without_labels = data_without_labels[:int(len(data_without_labels)/2)]"
      ],
      "execution_count": 11,
      "outputs": []
    },
    {
      "cell_type": "code",
      "metadata": {
        "id": "3KCF1zreuWcj"
      },
      "source": [
        "train_split_number = int(len(data_with_labels) * .8)\n",
        "train = data_with_labels.head(train_split_number)\n",
        "test = data_with_labels.tail(len(data_with_labels) - train_split_number)"
      ],
      "execution_count": 12,
      "outputs": []
    },
    {
      "cell_type": "markdown",
      "metadata": {
        "id": "VlfWnWIZuWck"
      },
      "source": [
        "# Create sequences of time steps"
      ]
    },
    {
      "cell_type": "code",
      "metadata": {
        "colab": {
          "base_uri": "https://localhost:8080/"
        },
        "id": "fEoZu7mguWck",
        "outputId": "ae7509cd-dbab-47d2-ac5a-d5292f934d96"
      },
      "source": [
        "train_raw = train[\"Value\"].copy(deep=True)\n",
        "test_raw = test[\"Value\"].copy(deep=True)\n",
        "\n",
        "train[\"raw_value\"] = train[\"Value\"]\n",
        "test[\"raw_value\"] = test[\"Value\"]\n",
        "\n",
        "scaler = StandardScaler()\n",
        "scaler = scaler.fit(train[['Value']])\n",
        "\n",
        "train['Value'] = scaler.transform(train[['Value']])\n",
        "test['Value'] = scaler.transform(test[['Value']])"
      ],
      "execution_count": 13,
      "outputs": [
        {
          "output_type": "stream",
          "text": [
            "/usr/local/lib/python3.7/dist-packages/ipykernel_launcher.py:4: SettingWithCopyWarning:\n",
            "\n",
            "\n",
            "A value is trying to be set on a copy of a slice from a DataFrame.\n",
            "Try using .loc[row_indexer,col_indexer] = value instead\n",
            "\n",
            "See the caveats in the documentation: https://pandas.pydata.org/pandas-docs/stable/user_guide/indexing.html#returning-a-view-versus-a-copy\n",
            "\n",
            "/usr/local/lib/python3.7/dist-packages/ipykernel_launcher.py:5: SettingWithCopyWarning:\n",
            "\n",
            "\n",
            "A value is trying to be set on a copy of a slice from a DataFrame.\n",
            "Try using .loc[row_indexer,col_indexer] = value instead\n",
            "\n",
            "See the caveats in the documentation: https://pandas.pydata.org/pandas-docs/stable/user_guide/indexing.html#returning-a-view-versus-a-copy\n",
            "\n",
            "/usr/local/lib/python3.7/dist-packages/ipykernel_launcher.py:10: SettingWithCopyWarning:\n",
            "\n",
            "\n",
            "A value is trying to be set on a copy of a slice from a DataFrame.\n",
            "Try using .loc[row_indexer,col_indexer] = value instead\n",
            "\n",
            "See the caveats in the documentation: https://pandas.pydata.org/pandas-docs/stable/user_guide/indexing.html#returning-a-view-versus-a-copy\n",
            "\n",
            "/usr/local/lib/python3.7/dist-packages/ipykernel_launcher.py:11: SettingWithCopyWarning:\n",
            "\n",
            "\n",
            "A value is trying to be set on a copy of a slice from a DataFrame.\n",
            "Try using .loc[row_indexer,col_indexer] = value instead\n",
            "\n",
            "See the caveats in the documentation: https://pandas.pydata.org/pandas-docs/stable/user_guide/indexing.html#returning-a-view-versus-a-copy\n",
            "\n"
          ],
          "name": "stderr"
        }
      ]
    },
    {
      "cell_type": "code",
      "metadata": {
        "id": "Z51wh2avuWck"
      },
      "source": [
        "def create_sequences(X, y, time_steps=30):\n",
        "    Xs, ys = [], []\n",
        "    for i in range(len(X)-time_steps):\n",
        "        Xs.append(X.iloc[i:(i+time_steps)].values)\n",
        "        ys.append(y.iloc[i+time_steps])\n",
        "    \n",
        "    return np.array(Xs), np.array(ys)"
      ],
      "execution_count": 14,
      "outputs": []
    },
    {
      "cell_type": "code",
      "metadata": {
        "id": "PQni9jYjuWck"
      },
      "source": [
        "data_dict = {}\n",
        "\n",
        "for timestep in TIMESTEP_LIST:\n",
        "    X_train, y_train = create_sequences(train[['Value']], train['Value'], time_steps=timestep)\n",
        "    X_test, y_test = create_sequences(test[['Value']], test['Value'], time_steps=timestep)\n",
        "    data_timestepped = {}\n",
        "    data_timestepped[\"x_train\"] = X_train\n",
        "    data_timestepped[\"y_train\"] = y_train\n",
        "    data_timestepped[\"x_test\"] = X_test\n",
        "    data_timestepped[\"y_test\"] = y_test\n",
        "    data_dict[timestep] = data_timestepped\n"
      ],
      "execution_count": 15,
      "outputs": []
    },
    {
      "cell_type": "code",
      "metadata": {
        "colab": {
          "base_uri": "https://localhost:8080/"
        },
        "id": "FMumBGzcuWcl",
        "outputId": "e1867a23-efda-4f81-a3ef-bd25114e08bc"
      },
      "source": [
        "for ts in data_dict.keys():\n",
        "    print(\"time step size\", ts)\n",
        "    for _, data_set in data_dict[ts].items():\n",
        "      print(data_set.shape)\n",
        "    print(\"\\n\")"
      ],
      "execution_count": 16,
      "outputs": [
        {
          "output_type": "stream",
          "text": [
            "time step size 720\n",
            "(261838, 720, 1)\n",
            "(261838,)\n",
            "(64920, 720, 1)\n",
            "(64920,)\n",
            "\n",
            "\n"
          ],
          "name": "stdout"
        }
      ]
    },
    {
      "cell_type": "code",
      "metadata": {
        "colab": {
          "base_uri": "https://localhost:8080/",
          "height": 204
        },
        "id": "x2mllFCnixg-",
        "outputId": "0a7ff9c5-71af-4a58-b2dd-dda8d1043216"
      },
      "source": [
        "test.head()"
      ],
      "execution_count": 17,
      "outputs": [
        {
          "output_type": "execute_result",
          "data": {
            "text/html": [
              "<div>\n",
              "<style scoped>\n",
              "    .dataframe tbody tr th:only-of-type {\n",
              "        vertical-align: middle;\n",
              "    }\n",
              "\n",
              "    .dataframe tbody tr th {\n",
              "        vertical-align: top;\n",
              "    }\n",
              "\n",
              "    .dataframe thead th {\n",
              "        text-align: right;\n",
              "    }\n",
              "</style>\n",
              "<table border=\"1\" class=\"dataframe\">\n",
              "  <thead>\n",
              "    <tr style=\"text-align: right;\">\n",
              "      <th></th>\n",
              "      <th>Datetime</th>\n",
              "      <th>Value</th>\n",
              "      <th>ID</th>\n",
              "      <th>anomaly_by_human</th>\n",
              "      <th>raw_value</th>\n",
              "    </tr>\n",
              "  </thead>\n",
              "  <tbody>\n",
              "    <tr>\n",
              "      <th>262558</th>\n",
              "      <td>2020-07-20 16:49:37</td>\n",
              "      <td>-0.930298</td>\n",
              "      <td>Campus Energy Centre Campus HW Main Meter Flow</td>\n",
              "      <td>False</td>\n",
              "      <td>50.0</td>\n",
              "    </tr>\n",
              "    <tr>\n",
              "      <th>262559</th>\n",
              "      <td>2020-07-20 16:50:00</td>\n",
              "      <td>-1.022019</td>\n",
              "      <td>Campus Energy Centre Campus HW Main Meter Flow</td>\n",
              "      <td>False</td>\n",
              "      <td>45.0</td>\n",
              "    </tr>\n",
              "    <tr>\n",
              "      <th>262560</th>\n",
              "      <td>2020-07-20 16:51:00</td>\n",
              "      <td>-0.930298</td>\n",
              "      <td>Campus Energy Centre Campus HW Main Meter Flow</td>\n",
              "      <td>False</td>\n",
              "      <td>50.0</td>\n",
              "    </tr>\n",
              "    <tr>\n",
              "      <th>262561</th>\n",
              "      <td>2020-07-20 16:52:00</td>\n",
              "      <td>-1.022019</td>\n",
              "      <td>Campus Energy Centre Campus HW Main Meter Flow</td>\n",
              "      <td>False</td>\n",
              "      <td>45.0</td>\n",
              "    </tr>\n",
              "    <tr>\n",
              "      <th>262562</th>\n",
              "      <td>2020-07-20 16:53:00</td>\n",
              "      <td>-0.930298</td>\n",
              "      <td>Campus Energy Centre Campus HW Main Meter Flow</td>\n",
              "      <td>False</td>\n",
              "      <td>50.0</td>\n",
              "    </tr>\n",
              "  </tbody>\n",
              "</table>\n",
              "</div>"
            ],
            "text/plain": [
              "                   Datetime     Value  ... anomaly_by_human raw_value\n",
              "262558  2020-07-20 16:49:37 -0.930298  ...            False      50.0\n",
              "262559  2020-07-20 16:50:00 -1.022019  ...            False      45.0\n",
              "262560  2020-07-20 16:51:00 -0.930298  ...            False      50.0\n",
              "262561  2020-07-20 16:52:00 -1.022019  ...            False      45.0\n",
              "262562  2020-07-20 16:53:00 -0.930298  ...            False      50.0\n",
              "\n",
              "[5 rows x 5 columns]"
            ]
          },
          "metadata": {
            "tags": []
          },
          "execution_count": 17
        }
      ]
    },
    {
      "cell_type": "markdown",
      "metadata": {
        "id": "ztpOUI09uWcl"
      },
      "source": [
        "# Step up model"
      ]
    },
    {
      "cell_type": "code",
      "metadata": {
        "id": "9Tnml1SyuWcl"
      },
      "source": [
        "def create_model(x_input):\n",
        "  model = Sequential()\n",
        "  model.add(LSTM(128, input_shape=(x_input.shape[1], x_input.shape[2])))\n",
        "  model.add(Dropout(rate=0.2))\n",
        "  model.add(RepeatVector(x_input.shape[1]))\n",
        "  model.add(LSTM(128, return_sequences=True))\n",
        "  model.add(Dropout(rate=0.2))\n",
        "  model.add(TimeDistributed(Dense(x_input.shape[2])))\n",
        "  model.compile(optimizer='adam', loss='mae')\n",
        "  model.summary()\n",
        "  return model"
      ],
      "execution_count": 18,
      "outputs": []
    },
    {
      "cell_type": "markdown",
      "metadata": {
        "id": "gK9XQv64uWcl"
      },
      "source": [
        "# Train a Model for Each timestep"
      ]
    },
    {
      "cell_type": "code",
      "metadata": {
        "colab": {
          "base_uri": "https://localhost:8080/"
        },
        "id": "TqdN4TiDuWcm",
        "outputId": "a46e1295-ba90-47fa-aac3-f466e1663ecc"
      },
      "source": [
        "for key, inner_data in data_dict.items():\n",
        "    x_train = inner_data[\"x_train\"]\n",
        "    y_train = inner_data[\"y_train\"]\n",
        "    print(x_train.shape)\n",
        "    print(y_train.shape)\n",
        "    model = create_model(x_train)\n",
        "    history = model.fit(x_train, y_train, epochs=100, batch_size=32*4, validation_split=0.1,\n",
        "                        callbacks=[keras.callbacks.EarlyStopping(monitor='val_loss', patience=5, mode='min')], shuffle=False)\n",
        "    inner_data[\"history\"] = history\n",
        "    inner_data[\"model\"] = model\n",
        "    model = None"
      ],
      "execution_count": 19,
      "outputs": [
        {
          "output_type": "stream",
          "text": [
            "(261838, 720, 1)\n",
            "(261838,)\n",
            "Model: \"sequential\"\n",
            "_________________________________________________________________\n",
            "Layer (type)                 Output Shape              Param #   \n",
            "=================================================================\n",
            "lstm (LSTM)                  (None, 128)               66560     \n",
            "_________________________________________________________________\n",
            "dropout (Dropout)            (None, 128)               0         \n",
            "_________________________________________________________________\n",
            "repeat_vector (RepeatVector) (None, 720, 128)          0         \n",
            "_________________________________________________________________\n",
            "lstm_1 (LSTM)                (None, 720, 128)          131584    \n",
            "_________________________________________________________________\n",
            "dropout_1 (Dropout)          (None, 720, 128)          0         \n",
            "_________________________________________________________________\n",
            "time_distributed (TimeDistri (None, 720, 1)            129       \n",
            "=================================================================\n",
            "Total params: 198,273\n",
            "Trainable params: 198,273\n",
            "Non-trainable params: 0\n",
            "_________________________________________________________________\n",
            "Epoch 1/100\n",
            "1842/1842 [==============================] - 203s 106ms/step - loss: 0.1057 - val_loss: 0.0715\n",
            "Epoch 2/100\n",
            "1842/1842 [==============================] - 197s 107ms/step - loss: 0.0926 - val_loss: 0.0689\n",
            "Epoch 3/100\n",
            "1842/1842 [==============================] - 195s 106ms/step - loss: 0.0945 - val_loss: 0.0684\n",
            "Epoch 4/100\n",
            "1842/1842 [==============================] - 198s 107ms/step - loss: 0.0880 - val_loss: 0.0650\n",
            "Epoch 5/100\n",
            "1842/1842 [==============================] - 196s 107ms/step - loss: 0.0875 - val_loss: 0.0645\n",
            "Epoch 6/100\n",
            "1842/1842 [==============================] - 195s 106ms/step - loss: 0.0857 - val_loss: 0.0675\n",
            "Epoch 7/100\n",
            "1842/1842 [==============================] - 195s 106ms/step - loss: 0.0837 - val_loss: 0.0648\n",
            "Epoch 8/100\n",
            "1842/1842 [==============================] - 197s 107ms/step - loss: 0.0821 - val_loss: 0.0646\n",
            "Epoch 9/100\n",
            "1842/1842 [==============================] - 195s 106ms/step - loss: 0.0821 - val_loss: 0.0670\n",
            "Epoch 10/100\n",
            "1842/1842 [==============================] - 196s 107ms/step - loss: 0.0806 - val_loss: 0.0641\n",
            "Epoch 11/100\n",
            "1842/1842 [==============================] - 197s 107ms/step - loss: 0.0826 - val_loss: 0.0639\n",
            "Epoch 12/100\n",
            "1842/1842 [==============================] - 196s 106ms/step - loss: 0.0788 - val_loss: 0.0641\n",
            "Epoch 13/100\n",
            "1842/1842 [==============================] - 197s 107ms/step - loss: 0.0795 - val_loss: 0.0639\n",
            "Epoch 14/100\n",
            "1842/1842 [==============================] - 195s 106ms/step - loss: 0.0801 - val_loss: 0.0640\n",
            "Epoch 15/100\n",
            "1842/1842 [==============================] - 197s 107ms/step - loss: 0.0796 - val_loss: 0.0640\n",
            "Epoch 16/100\n",
            "1842/1842 [==============================] - 195s 106ms/step - loss: 0.0785 - val_loss: 0.0642\n",
            "Epoch 17/100\n",
            "1842/1842 [==============================] - 196s 107ms/step - loss: 0.0785 - val_loss: 0.0642\n",
            "Epoch 18/100\n",
            "1842/1842 [==============================] - 195s 106ms/step - loss: 0.0785 - val_loss: 0.0646\n"
          ],
          "name": "stdout"
        }
      ]
    },
    {
      "cell_type": "code",
      "metadata": {
        "id": "ZFzSqjhwuWcm"
      },
      "source": [],
      "execution_count": null,
      "outputs": []
    },
    {
      "cell_type": "code",
      "metadata": {
        "colab": {
          "base_uri": "https://localhost:8080/",
          "height": 281
        },
        "id": "lU1TsrpyuWcm",
        "outputId": "7736efc9-9a4d-4080-bb97-b1533024a97a"
      },
      "source": [
        "for ts in data_dict.keys():\n",
        "  history = data_dict[ts][\"history\"]\n",
        "  plt.plot(history.history['loss'], label='Training loss')\n",
        "  plt.plot(history.history['val_loss'], label='Validation loss')\n",
        "  plt.title(\"Timesteps {}\".format(ts))\n",
        "  plt.legend();\n",
        "  plt.show()"
      ],
      "execution_count": 20,
      "outputs": [
        {
          "output_type": "display_data",
          "data": {
            "image/png": "[encoded data removed]",
            "text/plain": [
              "<Figure size 432x288 with 1 Axes>"
            ]
          },
          "metadata": {
            "tags": [],
            "needs_background": "light"
          }
        }
      ]
    },
    {
      "cell_type": "code",
      "metadata": {
        "colab": {
          "base_uri": "https://localhost:8080/"
        },
        "id": "4uSPKN_duWcm",
        "outputId": "78b3af94-0c57-49d5-b5f9-5c0be8d02924"
      },
      "source": [
        "for ts in data_dict.keys():\n",
        "  print(\"evaluating for timestep: {}\".format(ts))\n",
        "  x_test = data_dict[ts][\"x_test\"]\n",
        "  y_test = data_dict[ts][\"y_test\"]\n",
        "  model = data_dict[ts][\"model\"]\n",
        "  print(model.evaluate(x_test, y_test))"
      ],
      "execution_count": 21,
      "outputs": [
        {
          "output_type": "stream",
          "text": [
            "evaluating for timestep: 720\n",
            "2029/2029 [==============================] - 52s 25ms/step - loss: 0.0607\n",
            "0.06066851690411568\n"
          ],
          "name": "stdout"
        }
      ]
    },
    {
      "cell_type": "code",
      "metadata": {
        "colab": {
          "base_uri": "https://localhost:8080/"
        },
        "id": "flhlE_qyuWcn",
        "outputId": "4728aa39-59bf-4124-d211-8a2b96e0d32e"
      },
      "source": [
        "for ts in data_dict.keys():\n",
        "  print(\"computing info for {}\".format(ts))\n",
        "  model = data_dict[ts][\"model\"]\n",
        "  x_train = data_dict[ts][\"x_train\"]\n",
        "  y_train = data_dict[ts][\"y_train\"]\n",
        "  x_test = data_dict[ts][\"x_test\"]\n",
        "  y_test = data_dict[ts][\"y_test\"]\n",
        "\n",
        "\n",
        "  x_train_pred = model.predict(x_train, verbose=0)\n",
        "  train_mae_loss = np.mean(np.abs(x_train_pred - x_train), axis=1)\n",
        "  train_score_df = pd.DataFrame(train[ts:])\n",
        "  train_score_df['loss'] = train_mae_loss\n",
        "  train_score_df['Value'] = train[ts:]['Value']\n",
        "  data_dict[ts][\"train_score_df\"] = train_score_df\n",
        "\n",
        "  x_test_pred = model.predict(x_test, verbose=0)\n",
        "  test_mae_loss = np.mean(np.abs(x_test_pred-x_test), axis=1)\n",
        "  test_score_df = pd.DataFrame(test[ts:])\n",
        "  test_score_df['loss'] = test_mae_loss\n",
        "  test_score_df['Value'] = test[ts:]['Value']\n",
        "  data_dict[ts][\"test_score_df\"] = test_score_df"
      ],
      "execution_count": 22,
      "outputs": [
        {
          "output_type": "stream",
          "text": [
            "computing info for 720\n"
          ],
          "name": "stdout"
        }
      ]
    },
    {
      "cell_type": "markdown",
      "metadata": {
        "id": "GEopnZEnQPiB"
      },
      "source": [
        "Calculates anomalies based on different thresholds, If you want to try different values change `THRESHOLD_LIST` at the top of the notebook, or define it again here with new values"
      ]
    },
    {
      "cell_type": "code",
      "metadata": {
        "colab": {
          "base_uri": "https://localhost:8080/",
          "height": 809
        },
        "id": "p-ViKmz3FmPd",
        "outputId": "a081c478-8a11-49e3-cc47-72aef58ff780"
      },
      "source": [
        "for ts in data_dict.keys():\n",
        "  for thresh in THRESHOLD_LIST:\n",
        "\n",
        "    train_score_df = data_dict[ts][\"train_score_df\"].copy(deep=True)\n",
        "    max_error = train_score_df[\"loss\"].max()\n",
        "    threshold = max_error * thresh\n",
        "\n",
        "    test_score_df = data_dict[ts][\"test_score_df\"].copy(deep=True)\n",
        "    test_score_df['threshold'] = threshold\n",
        "    test_score_df['anomaly_by_machine'] = test_score_df['loss'] > test_score_df['threshold']\n",
        "\n",
        "    anomalies = test_score_df.loc[test_score_df['anomaly_by_machine'] == True]\n",
        "    num_anomalies = anomalies.shape[0]\n",
        "\n",
        "    plt.plot(test_score_df['threshold'], label='Threshold')\n",
        "    plt.plot(test_score_df['loss'], label='Validation loss')\n",
        "    plt.title(\"Timesteps:{}, Threshold:{}, num_anomalies:{}\".format(ts, thresh, num_anomalies))\n",
        "    plt.legend();\n",
        "    plt.show()"
      ],
      "execution_count": 23,
      "outputs": [
        {
          "output_type": "display_data",
          "data": {
            "image/png": "[encoded data removed]",
            "text/plain": [
              "<Figure size 432x288 with 1 Axes>"
            ]
          },
          "metadata": {
            "tags": [],
            "needs_background": "light"
          }
        },
        {
          "output_type": "display_data",
          "data": {
            "image/png": "[encoded data removed]",
            "text/plain": [
              "<Figure size 432x288 with 1 Axes>"
            ]
          },
          "metadata": {
            "tags": [],
            "needs_background": "light"
          }
        },
        {
          "output_type": "display_data",
          "data": {
            "image/png": "[encoded data removed]",
            "text/plain": [
              "<Figure size 432x288 with 1 Axes>"
            ]
          },
          "metadata": {
            "tags": [],
            "needs_background": "light"
          }
        }
      ]
    },
    {
      "source": [
        "The following code is commented as the plots are very large, images of the data were taken and the corresponding plots are shown in the following cells. The plots show the testing data."
      ],
      "cell_type": "markdown",
      "metadata": {
        "id": "1j5RlVw07RoY"
      }
    },
    {
      "cell_type": "code",
      "metadata": {
        "id": "oA90HfLCuWcn",
        "colab": {
          "base_uri": "https://localhost:8080/",
          "height": 1000
        },
        "outputId": "ad1aaf78-df0d-4a12-bc2a-0ec449bb5bf9"
      },
      "source": [
        "# for ts in data_dict.keys():\n",
        "#   for thresh in THRESHOLD_LIST[0:3]:\n",
        "\n",
        "#     train_score_df = data_dict[ts][\"train_score_df\"].copy(deep=True)\n",
        "#     max_error = train_score_df[\"loss\"].max()\n",
        "#     threshold = max_error * thresh\n",
        "\n",
        "#     test_score_df = data_dict[ts][\"test_score_df\"].copy(deep=True)\n",
        "#     test_score_df['threshold'] = threshold\n",
        "#     test_score_df['anomaly_by_machine'] = test_score_df['loss'] > test_score_df['threshold']\n",
        "#     test_score_df[\"raw_value\"] = test_raw[ts:]\n",
        "#     test_score_df[\"anomaly_by_machine_int\"] = test_score_df['anomaly_by_machine'].apply(lambda x: str(x))\n",
        "\n",
        "#     test_score_df[\"year_month\"] = test_score_df[\"Datetime\"].apply(lambda x: \"-\".join(x.split(\"-\")[0:2]))\n",
        "\n",
        "    \n",
        "#     fig = px.scatter(test_score_df, x=\"Datetime\", y=\"raw_value\", color=\"anomaly_by_machine_int\", \n",
        "#                      title=\"Anomalies Detected for Timestep:{}, Threshold:{}\".format(ts, thresh))\n",
        "    \n",
        "#     human_anomalies = test[test[\"anomaly_by_human\"] == \"True\"]\n",
        "    \n",
        "#     fig.add_trace(go.Scatter(x=human_anomalies[\"Datetime\"], y=human_anomalies[\"raw_value\"], mode=\"markers\",\n",
        "#                 marker=dict(size=10, color=\"Black\"),\n",
        "#                 name=\"anomaly_by_human=True\"))\n",
        "\n",
        "#     fig.show()\n"
      ],
      "execution_count": 1,
      "outputs": []
    },
    {
      "source": [
        "![](images/CEC_compiled_data_3a_720pts_image1.png)\n",
        "\n",
        "![](images/CEC_compiled_data_3a_720pts_image2.png)\n",
        "\n",
        "![](images/CEC_compiled_data_3a_720pts_image3.png)"
      ],
      "cell_type": "markdown",
      "metadata": {}
    },
    {
      "cell_type": "code",
      "metadata": {
        "id": "BQ8-NBPgkCJr"
      },
      "source": [
        "# for thresh in THRESHOLD_LIST:\n",
        "#   for ts in data_dict.keys():\n",
        "\n",
        "#     train_score_df = data_dict[ts][\"train_score_df\"].copy(deep=True)\n",
        "#     max_error = train_score_df[\"loss\"].max()\n",
        "#     threshold = max_error * thresh\n",
        "    \n",
        "#      test_score_df = data_dict[ts][\"test_score_df\"].copy(deep=True)\n",
        "#     test_score_df['threshold'] = threshold\n",
        "#     test_score_df['anomaly_by_machine'] = test_score_df['loss'] > test_score_df['threshold']\n",
        "#     test_score_df[\"raw_value\"] = test_raw[ts:]\n",
        "#     test_score_df[\"anomaly_by_machine_int\"] = test_score_df['anomaly_by_machine'].apply(lambda x: str(x))\n",
        "\n",
        "#     test_score_df[\"year_month\"] = test_score_df[\"Datetime\"].apply(lambda x: \"-\".join(x.split(\"-\")[0:2]))\n",
        "\n",
        "    \n",
        "#     fig = px.scatter(test_score_df, x=\"Datetime\", y=\"raw_value\", color=\"anomaly_by_machine_int\", \n",
        "#                      title=\"Anomalies Detected for Timestep:{}, Threshold:{}\".format(ts, thresh))\n",
        "    \n",
        "#     human_anomalies = test[test[\"anomaly_by_human\"] == \"True\"]\n",
        "    \n",
        "#     fig.add_trace(go.Scatter(x=human_anomalies[\"Datetime\"], y=human_anomalies[\"raw_value\"], mode=\"markers\",\n",
        "#                 marker=dict(size=10, color=\"Black\"),\n",
        "#                 name=\"anomaly_by_human=True\"))\n",
        "\n",
        "#     fig.show()"
      ],
      "execution_count": 2,
      "outputs": []
    },
    {
      "cell_type": "code",
      "metadata": {
        "id": "oSWbLW8SuWcr",
        "colab": {
          "base_uri": "https://localhost:8080/",
          "height": 1000
        },
        "outputId": "9e0ac854-6636-4cfc-d2e1-062c8bc2016c"
      },
      "source": [
        "# for ts in data_dict.keys():\n",
        "#   for thresh in THRESHOLD_LIST[0:3]:\n",
        "\n",
        "#     train_score_df = data_dict[ts][\"train_score_df\"].copy(deep=True)\n",
        "#     max_error = train_score_df[\"loss\"].max()\n",
        "#     threshold = max_error * thresh\n",
        "    \n",
        "#     train_score_df['threshold'] = threshold\n",
        "#     train_score_df['anomaly_by_machine'] = train_score_df['loss'] > train_score_df['threshold']\n",
        "#     train_score_df[\"raw_value\"] = train_raw[ts:]\n",
        "#     train_score_df[\"anomaly_by_machine_int\"] = train_score_df['anomaly_by_machine'].apply(lambda x: str(x))\n",
        "\n",
        "#     train_score_df[\"year_month\"] = train_score_df[\"Datetime\"].apply(lambda x: \"-\".join(x.split(\"-\")[0:2]))\n",
        "\n",
        "    \n",
        "#     fig = px.scatter(train_score_df, x=\"Datetime\", y=\"raw_value\", color=\"anomaly_by_machine_int\", \n",
        "#                      title=\"Anomalies Detected for Timestep:{}, Threshold:{}\".format(ts, thresh))\n",
        "    \n",
        "#     human_anomalies = train[train[\"anomaly_by_human\"] == \"True\"]\n",
        "    \n",
        "#     fig.add_trace(go.Scatter(x=human_anomalies[\"Datetime\"], y=human_anomalies[\"raw_value\"], mode=\"markers\",\n",
        "#                 marker=dict(size=10, color=\"Black\"),\n",
        "#                 name=\"anomaly_by_human=True\"))\n",
        "\n",
        "#     fig.show()\n"
      ],
      "execution_count": 3,
      "outputs": []
    },
    {
      "source": [
        "![](images/CEC_compiled_data_3a_720pts_image4.png)\n",
        "\n",
        "![](images/CEC_compiled_data_3a_720pts_image5.png)\n",
        "\n",
        "![](images/CEC_compiled_data_3a_720pts_image6.png)"
      ],
      "cell_type": "markdown",
      "metadata": {}
    }
  ]
}