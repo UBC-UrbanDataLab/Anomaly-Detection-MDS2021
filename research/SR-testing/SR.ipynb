{
 "metadata": {
  "language_info": {
   "codemirror_mode": {
    "name": "ipython",
    "version": 3
   },
   "file_extension": ".py",
   "mimetype": "text/x-python",
   "name": "python",
   "nbconvert_exporter": "python",
   "pygments_lexer": "ipython3",
   "version": "3.8.10"
  },
  "orig_nbformat": 2,
  "kernelspec": {
   "name": "python3810jvsc74a57bd07d2dde933846643c70a0971eba9e216bf0ce928f2ec74020d36b05b86c71e3e9",
   "display_name": "Python 3.8.10 64-bit ('pyinfluxdb': conda)"
  },
  "metadata": {
   "interpreter": {
    "hash": "7d2dde933846643c70a0971eba9e216bf0ce928f2ec74020d36b05b86c71e3e9"
   }
  }
 },
 "nbformat": 4,
 "nbformat_minor": 2,
 "cells": [
  {
   "cell_type": "code",
   "execution_count": 31,
   "metadata": {},
   "outputs": [],
   "source": [
    "import pandas as pd\n",
    "import numpy as np\n",
    "import datetime\n",
    "from sklearn.preprocessing import scale"
   ]
  },
  {
   "cell_type": "code",
   "execution_count": 63,
   "metadata": {},
   "outputs": [],
   "source": [
    "def convert_SR(file_in):\n",
    "    data = pd.read_csv('../../data/labelled-skyspark-data/' + file_in + '.csv', parse_dates = ['Datetime'])\n",
    "    data_scaled = scale(data.Value)\n",
    "    A = np.fft.fft(data_scaled)\n",
    "    L = np.log(abs(A))\n",
    "    P = np.angle(A)\n",
    "    h = np.ones((7,),np.float32)/7\n",
    "    A_L = np.convolve(L, h, 'same')\n",
    "    R = L - A_L\n",
    "    S = np.square(abs(np.fft.ifft(np.exp(R + 1j*P))))\n",
    "\n",
    "    data_out = data.copy()\n",
    "    data_out['Value'] = S\n",
    "    data_out.to_csv(file_in + '_SR.csv', index = False)\n"
   ]
  },
  {
   "cell_type": "code",
   "execution_count": 65,
   "metadata": {},
   "outputs": [],
   "source": [
    "convert_SR('CEC_compiled_data_1b_updated')\n",
    "convert_SR('CEC_compiled_data_2b_updated')\n",
    "convert_SR('CEC_compiled_data_3b_updated')\n",
    "convert_SR('CEC_compiled_data_4b_updated')\n",
    "convert_SR('CEC_compiled_data_5b_updated')"
   ]
  }
 ]
}