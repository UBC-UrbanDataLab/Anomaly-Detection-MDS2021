{
 "cells": [
  {
   "cell_type": "code",
   "execution_count": 1,
   "metadata": {},
   "outputs": [],
   "source": [
    "from tensorflow import keras\n",
    "from sklearn.preprocessing import StandardScaler\n",
    "\n",
    "import plotly.graph_objects as go\n",
    "\n",
    "from tensorflow.keras.models import Sequential\n",
    "from tensorflow.keras.layers import Dense, LSTM, Dropout, RepeatVector, TimeDistributed\n",
    "\n",
    "import pandas as pd\n",
    "import numpy as np\n",
    "\n",
    "import tensorflow as tf\n",
    "\n",
    "import matplotlib.pyplot as plt\n",
    "\n",
    "import altair as alt\n",
    "from altair import *"
   ]
  },
  {
   "cell_type": "code",
   "execution_count": 2,
   "metadata": {},
   "outputs": [],
   "source": [
    "data_dir = \"../../data/labelled-skyspark-data/\""
   ]
  },
  {
   "cell_type": "code",
   "execution_count": 12,
   "metadata": {},
   "outputs": [],
   "source": [
    "data_without_labels = pd.read_csv(data_dir + \"CEC_compiled_data_1a_updated.csv\")"
   ]
  },
  {
   "cell_type": "code",
   "execution_count": 13,
   "metadata": {},
   "outputs": [
    {
     "data": {
      "text/html": [
       "<div>\n",
       "<style scoped>\n",
       "    .dataframe tbody tr th:only-of-type {\n",
       "        vertical-align: middle;\n",
       "    }\n",
       "\n",
       "    .dataframe tbody tr th {\n",
       "        vertical-align: top;\n",
       "    }\n",
       "\n",
       "    .dataframe thead th {\n",
       "        text-align: right;\n",
       "    }\n",
       "</style>\n",
       "<table border=\"1\" class=\"dataframe\">\n",
       "  <thead>\n",
       "    <tr style=\"text-align: right;\">\n",
       "      <th></th>\n",
       "      <th>Datetime</th>\n",
       "      <th>Value</th>\n",
       "      <th>ID</th>\n",
       "      <th>Anomaly</th>\n",
       "    </tr>\n",
       "  </thead>\n",
       "  <tbody>\n",
       "    <tr>\n",
       "      <th>0</th>\n",
       "      <td>2020-01-01 07:58:52</td>\n",
       "      <td>9.6</td>\n",
       "      <td>Campus Energy Centre Campus HW Main Meter Power</td>\n",
       "      <td>False</td>\n",
       "    </tr>\n",
       "    <tr>\n",
       "      <th>1</th>\n",
       "      <td>2020-01-01 08:00:00</td>\n",
       "      <td>9.6</td>\n",
       "      <td>Campus Energy Centre Campus HW Main Meter Power</td>\n",
       "      <td>False</td>\n",
       "    </tr>\n",
       "    <tr>\n",
       "      <th>2</th>\n",
       "      <td>2020-01-01 08:01:34</td>\n",
       "      <td>10.3</td>\n",
       "      <td>Campus Energy Centre Campus HW Main Meter Power</td>\n",
       "      <td>False</td>\n",
       "    </tr>\n",
       "    <tr>\n",
       "      <th>3</th>\n",
       "      <td>2020-01-01 08:04:15</td>\n",
       "      <td>11.0</td>\n",
       "      <td>Campus Energy Centre Campus HW Main Meter Power</td>\n",
       "      <td>False</td>\n",
       "    </tr>\n",
       "    <tr>\n",
       "      <th>4</th>\n",
       "      <td>2020-01-01 08:07:36</td>\n",
       "      <td>10.3</td>\n",
       "      <td>Campus Energy Centre Campus HW Main Meter Power</td>\n",
       "      <td>False</td>\n",
       "    </tr>\n",
       "  </tbody>\n",
       "</table>\n",
       "</div>"
      ],
      "text/plain": [
       "              Datetime  Value  \\\n",
       "0  2020-01-01 07:58:52    9.6   \n",
       "1  2020-01-01 08:00:00    9.6   \n",
       "2  2020-01-01 08:01:34   10.3   \n",
       "3  2020-01-01 08:04:15   11.0   \n",
       "4  2020-01-01 08:07:36   10.3   \n",
       "\n",
       "                                                ID  Anomaly  \n",
       "0  Campus Energy Centre Campus HW Main Meter Power    False  \n",
       "1  Campus Energy Centre Campus HW Main Meter Power    False  \n",
       "2  Campus Energy Centre Campus HW Main Meter Power    False  \n",
       "3  Campus Energy Centre Campus HW Main Meter Power    False  \n",
       "4  Campus Energy Centre Campus HW Main Meter Power    False  "
      ]
     },
     "execution_count": 13,
     "metadata": {},
     "output_type": "execute_result"
    }
   ],
   "source": [
    "data_without_labels.head()"
   ]
  },
  {
   "cell_type": "code",
   "execution_count": 14,
   "metadata": {},
   "outputs": [
    {
     "data": {
      "text/html": [
       "<div>\n",
       "<style scoped>\n",
       "    .dataframe tbody tr th:only-of-type {\n",
       "        vertical-align: middle;\n",
       "    }\n",
       "\n",
       "    .dataframe tbody tr th {\n",
       "        vertical-align: top;\n",
       "    }\n",
       "\n",
       "    .dataframe thead th {\n",
       "        text-align: right;\n",
       "    }\n",
       "</style>\n",
       "<table border=\"1\" class=\"dataframe\">\n",
       "  <thead>\n",
       "    <tr style=\"text-align: right;\">\n",
       "      <th></th>\n",
       "      <th>Datetime</th>\n",
       "      <th>Value</th>\n",
       "      <th>ID</th>\n",
       "      <th>Anomaly</th>\n",
       "    </tr>\n",
       "  </thead>\n",
       "  <tbody>\n",
       "    <tr>\n",
       "      <th>0</th>\n",
       "      <td>2020-01-01 07:58:52</td>\n",
       "      <td>9.6</td>\n",
       "      <td>Campus Energy Centre Campus HW Main Meter Power</td>\n",
       "      <td>False</td>\n",
       "    </tr>\n",
       "    <tr>\n",
       "      <th>1</th>\n",
       "      <td>2020-01-01 08:00:00</td>\n",
       "      <td>9.6</td>\n",
       "      <td>Campus Energy Centre Campus HW Main Meter Power</td>\n",
       "      <td>False</td>\n",
       "    </tr>\n",
       "    <tr>\n",
       "      <th>2</th>\n",
       "      <td>2020-01-01 08:01:34</td>\n",
       "      <td>10.3</td>\n",
       "      <td>Campus Energy Centre Campus HW Main Meter Power</td>\n",
       "      <td>False</td>\n",
       "    </tr>\n",
       "    <tr>\n",
       "      <th>3</th>\n",
       "      <td>2020-01-01 08:04:15</td>\n",
       "      <td>11.0</td>\n",
       "      <td>Campus Energy Centre Campus HW Main Meter Power</td>\n",
       "      <td>False</td>\n",
       "    </tr>\n",
       "    <tr>\n",
       "      <th>4</th>\n",
       "      <td>2020-01-01 08:07:36</td>\n",
       "      <td>10.3</td>\n",
       "      <td>Campus Energy Centre Campus HW Main Meter Power</td>\n",
       "      <td>False</td>\n",
       "    </tr>\n",
       "  </tbody>\n",
       "</table>\n",
       "</div>"
      ],
      "text/plain": [
       "              Datetime  Value  \\\n",
       "0  2020-01-01 07:58:52    9.6   \n",
       "1  2020-01-01 08:00:00    9.6   \n",
       "2  2020-01-01 08:01:34   10.3   \n",
       "3  2020-01-01 08:04:15   11.0   \n",
       "4  2020-01-01 08:07:36   10.3   \n",
       "\n",
       "                                                ID  Anomaly  \n",
       "0  Campus Energy Centre Campus HW Main Meter Power    False  \n",
       "1  Campus Energy Centre Campus HW Main Meter Power    False  \n",
       "2  Campus Energy Centre Campus HW Main Meter Power    False  \n",
       "3  Campus Energy Centre Campus HW Main Meter Power    False  \n",
       "4  Campus Energy Centre Campus HW Main Meter Power    False  "
      ]
     },
     "execution_count": 14,
     "metadata": {},
     "output_type": "execute_result"
    }
   ],
   "source": [
    "data_with_labels = pd.read_csv(data_dir + \"CEC_compiled_data_1b_updated.csv\")\n",
    "data_with_labels.head()"
   ]
  },
  {
   "cell_type": "code",
   "execution_count": 15,
   "metadata": {},
   "outputs": [
    {
     "data": {
      "text/plain": [
       "array([False,  True])"
      ]
     },
     "execution_count": 15,
     "metadata": {},
     "output_type": "execute_result"
    }
   ],
   "source": [
    "data_with_labels[\"Anomaly\"].unique()"
   ]
  },
  {
   "cell_type": "code",
   "execution_count": 16,
   "metadata": {},
   "outputs": [
    {
     "data": {
      "text/plain": [
       "array([False])"
      ]
     },
     "execution_count": 16,
     "metadata": {},
     "output_type": "execute_result"
    }
   ],
   "source": [
    "data_without_labels[\"Anomaly\"].unique()"
   ]
  },
  {
   "cell_type": "code",
   "execution_count": 18,
   "metadata": {},
   "outputs": [
    {
     "data": {
      "text/plain": [
       "Datetime     object\n",
       "Value       float64\n",
       "ID           object\n",
       "Anomaly        bool\n",
       "dtype: object"
      ]
     },
     "execution_count": 18,
     "metadata": {},
     "output_type": "execute_result"
    }
   ],
   "source": [
    "data_with_labels.dtypes"
   ]
  },
  {
   "cell_type": "code",
   "execution_count": 20,
   "metadata": {},
   "outputs": [
    {
     "data": {
      "text/plain": [
       "(379846, 4)"
      ]
     },
     "execution_count": 20,
     "metadata": {},
     "output_type": "execute_result"
    }
   ],
   "source": [
    "data_with_labels.shape"
   ]
  },
  {
   "cell_type": "code",
   "execution_count": 22,
   "metadata": {},
   "outputs": [
    {
     "data": {
      "text/html": [
       "<div>\n",
       "<style scoped>\n",
       "    .dataframe tbody tr th:only-of-type {\n",
       "        vertical-align: middle;\n",
       "    }\n",
       "\n",
       "    .dataframe tbody tr th {\n",
       "        vertical-align: top;\n",
       "    }\n",
       "\n",
       "    .dataframe thead th {\n",
       "        text-align: right;\n",
       "    }\n",
       "</style>\n",
       "<table border=\"1\" class=\"dataframe\">\n",
       "  <thead>\n",
       "    <tr style=\"text-align: right;\">\n",
       "      <th></th>\n",
       "      <th>Datetime</th>\n",
       "      <th>Value</th>\n",
       "      <th>ID</th>\n",
       "    </tr>\n",
       "    <tr>\n",
       "      <th>Anomaly</th>\n",
       "      <th></th>\n",
       "      <th></th>\n",
       "      <th></th>\n",
       "    </tr>\n",
       "  </thead>\n",
       "  <tbody>\n",
       "    <tr>\n",
       "      <th>False</th>\n",
       "      <td>379286</td>\n",
       "      <td>379286</td>\n",
       "      <td>379286</td>\n",
       "    </tr>\n",
       "    <tr>\n",
       "      <th>True</th>\n",
       "      <td>560</td>\n",
       "      <td>560</td>\n",
       "      <td>560</td>\n",
       "    </tr>\n",
       "  </tbody>\n",
       "</table>\n",
       "</div>"
      ],
      "text/plain": [
       "         Datetime   Value      ID\n",
       "Anomaly                          \n",
       "False      379286  379286  379286\n",
       "True          560     560     560"
      ]
     },
     "execution_count": 22,
     "metadata": {},
     "output_type": "execute_result"
    }
   ],
   "source": [
    "data_with_labels.groupby(\"Anomaly\").count()"
   ]
  },
  {
   "cell_type": "code",
   "execution_count": 27,
   "metadata": {},
   "outputs": [
    {
     "name": "stdout",
     "output_type": "stream",
     "text": [
      "0.14764583981480994 %\n"
     ]
    }
   ],
   "source": [
    "print(100*560/379286., \"%\")"
   ]
  },
  {
   "cell_type": "code",
   "execution_count": 33,
   "metadata": {},
   "outputs": [],
   "source": [
    "# 80 - 20 train test split\n",
    "train_split_number = int(len(data_with_labels) * .8)\n",
    "train = data_with_labels.head(train_split_number)\n",
    "test = data_with_labels.tail(len(data_with_labels) - train_split_number)"
   ]
  },
  {
   "cell_type": "markdown",
   "metadata": {},
   "source": [
    "# Experiment 1\n",
    "#### Train on anomalous data and score against human labels\n",
    "##### Includes data standardization"
   ]
  },
  {
   "cell_type": "code",
   "execution_count": 35,
   "metadata": {},
   "outputs": [
    {
     "name": "stderr",
     "output_type": "stream",
     "text": [
      "<ipython-input-35-f6f3514dcb7c>:4: SettingWithCopyWarning: \n",
      "A value is trying to be set on a copy of a slice from a DataFrame.\n",
      "Try using .loc[row_indexer,col_indexer] = value instead\n",
      "\n",
      "See the caveats in the documentation: https://pandas.pydata.org/pandas-docs/stable/user_guide/indexing.html#returning-a-view-versus-a-copy\n",
      "  train['Value'] = scaler.transform(train[['Value']])\n",
      "<ipython-input-35-f6f3514dcb7c>:5: SettingWithCopyWarning: \n",
      "A value is trying to be set on a copy of a slice from a DataFrame.\n",
      "Try using .loc[row_indexer,col_indexer] = value instead\n",
      "\n",
      "See the caveats in the documentation: https://pandas.pydata.org/pandas-docs/stable/user_guide/indexing.html#returning-a-view-versus-a-copy\n",
      "  test['Value'] = scaler.transform(test[['Value']])\n"
     ]
    }
   ],
   "source": [
    "scaler = StandardScaler()\n",
    "scaler = scaler.fit(train[['Value']])\n",
    "\n",
    "train['Value'] = scaler.transform(train[['Value']])\n",
    "test['Value'] = scaler.transform(test[['Value']])"
   ]
  },
  {
   "cell_type": "code",
   "execution_count": 37,
   "metadata": {},
   "outputs": [
    {
     "name": "stdout",
     "output_type": "stream",
     "text": [
      "Training shape: (303861, 15, 1)\n",
      "Testing shape: (75955, 15, 1)\n"
     ]
    }
   ],
   "source": [
    "TIME_STEPS=15\n",
    "\n",
    "def create_sequences(X, y, time_steps=TIME_STEPS):\n",
    "    Xs, ys = [], []\n",
    "    for i in range(len(X)-time_steps):\n",
    "        Xs.append(X.iloc[i:(i+time_steps)].values)\n",
    "        ys.append(y.iloc[i+time_steps])\n",
    "    \n",
    "    return np.array(Xs), np.array(ys)\n",
    "\n",
    "X_train, y_train = create_sequences(train[['Value']], train['Value'])\n",
    "X_test, y_test = create_sequences(test[['Value']], test['Value'])\n",
    "\n",
    "print(f'Training shape: {X_train.shape}')\n",
    "print(f'Testing shape: {X_test.shape}')"
   ]
  },
  {
   "cell_type": "code",
   "execution_count": 39,
   "metadata": {},
   "outputs": [
    {
     "name": "stdout",
     "output_type": "stream",
     "text": [
      "Model: \"sequential\"\n",
      "_________________________________________________________________\n",
      "Layer (type)                 Output Shape              Param #   \n",
      "=================================================================\n",
      "lstm (LSTM)                  (None, 128)               66560     \n",
      "_________________________________________________________________\n",
      "dropout (Dropout)            (None, 128)               0         \n",
      "_________________________________________________________________\n",
      "repeat_vector (RepeatVector) (None, 15, 128)           0         \n",
      "_________________________________________________________________\n",
      "lstm_1 (LSTM)                (None, 15, 128)           131584    \n",
      "_________________________________________________________________\n",
      "dropout_1 (Dropout)          (None, 15, 128)           0         \n",
      "_________________________________________________________________\n",
      "time_distributed (TimeDistri (None, 15, 1)             129       \n",
      "=================================================================\n",
      "Total params: 198,273\n",
      "Trainable params: 198,273\n",
      "Non-trainable params: 0\n",
      "_________________________________________________________________\n"
     ]
    }
   ],
   "source": [
    "# Architecture found on https://towardsdatascience.com/time-series-of-price-anomaly-detection-with-lstm-11a12ba4f6d9\n",
    "model = Sequential()\n",
    "model.add(LSTM(128, input_shape=(X_train.shape[1], X_train.shape[2])))\n",
    "model.add(Dropout(rate=0.2))\n",
    "model.add(RepeatVector(X_train.shape[1]))\n",
    "model.add(LSTM(128, return_sequences=True))\n",
    "model.add(Dropout(rate=0.2))\n",
    "model.add(TimeDistributed(Dense(X_train.shape[2])))\n",
    "model.compile(optimizer='adam', loss='mae')\n",
    "model.summary()"
   ]
  },
  {
   "cell_type": "code",
   "execution_count": 40,
   "metadata": {},
   "outputs": [
    {
     "name": "stdout",
     "output_type": "stream",
     "text": [
      "Epoch 1/100\n",
      "8547/8547 [==============================] - 155s 18ms/step - loss: 0.1011 - val_loss: 0.0901\n",
      "Epoch 2/100\n",
      "8547/8547 [==============================] - 153s 18ms/step - loss: 0.0860 - val_loss: 0.0872\n",
      "Epoch 3/100\n",
      "8547/8547 [==============================] - 157s 18ms/step - loss: 0.0818 - val_loss: 0.0907\n",
      "Epoch 4/100\n",
      "8547/8547 [==============================] - 158s 19ms/step - loss: 0.0790 - val_loss: 0.0915\n",
      "Epoch 5/100\n",
      "8547/8547 [==============================] - 138s 16ms/step - loss: 0.0772 - val_loss: 0.0890\n",
      "Epoch 6/100\n",
      "8547/8547 [==============================] - 154s 18ms/step - loss: 0.0760 - val_loss: 0.0848\n",
      "Epoch 7/100\n",
      "8547/8547 [==============================] - 159s 19ms/step - loss: 0.0757 - val_loss: 0.0861\n",
      "Epoch 8/100\n",
      "8547/8547 [==============================] - 164s 19ms/step - loss: 0.0747 - val_loss: 0.0844\n",
      "Epoch 9/100\n",
      "8547/8547 [==============================] - 164s 19ms/step - loss: 0.0739 - val_loss: 0.0883\n",
      "Epoch 10/100\n",
      "8547/8547 [==============================] - 167s 20ms/step - loss: 0.0735 - val_loss: 0.0874\n",
      "Epoch 11/100\n",
      "8547/8547 [==============================] - 163s 19ms/step - loss: 0.0729 - val_loss: 0.0904\n",
      "Epoch 12/100\n",
      "8547/8547 [==============================] - 164s 19ms/step - loss: 0.0727 - val_loss: 0.0973\n",
      "Epoch 13/100\n",
      "8547/8547 [==============================] - 165s 19ms/step - loss: 0.0721 - val_loss: 0.0909\n",
      "Epoch 14/100\n",
      "8547/8547 [==============================] - 163s 19ms/step - loss: 0.0718 - val_loss: 0.0981\n",
      "Epoch 15/100\n",
      "8547/8547 [==============================] - 141s 17ms/step - loss: 0.0716 - val_loss: 0.0914\n",
      "Epoch 16/100\n",
      "8547/8547 [==============================] - 151s 18ms/step - loss: 0.0713 - val_loss: 0.0914\n",
      "Epoch 17/100\n",
      "8547/8547 [==============================] - 144s 17ms/step - loss: 0.0713 - val_loss: 0.0871\n",
      "Epoch 18/100\n",
      "8547/8547 [==============================] - 149s 17ms/step - loss: 0.0710 - val_loss: 0.0919\n"
     ]
    }
   ],
   "source": [
    "history = model.fit(X_train, y_train, epochs=100, batch_size=32, validation_split=0.1,\n",
    "                    callbacks=[keras.callbacks.EarlyStopping(monitor='val_loss', patience=10, mode='min')], shuffle=False)\n"
   ]
  },
  {
   "cell_type": "code",
   "execution_count": 41,
   "metadata": {},
   "outputs": [
    {
     "data": {
      "image/png": "[encoded data removed]",
      "text/plain": [
       "<Figure size 432x288 with 1 Axes>"
      ]
     },
     "metadata": {
      "needs_background": "light"
     },
     "output_type": "display_data"
    }
   ],
   "source": [
    "plt.plot(history.history['loss'], label='Training loss')\n",
    "plt.plot(history.history['val_loss'], label='Validation loss')\n",
    "plt.legend();"
   ]
  },
  {
   "cell_type": "code",
   "execution_count": 42,
   "metadata": {},
   "outputs": [
    {
     "name": "stdout",
     "output_type": "stream",
     "text": [
      "2374/2374 [==============================] - 16s 7ms/step - loss: 0.1089\n"
     ]
    },
    {
     "data": {
      "text/plain": [
       "0.10889608412981033"
      ]
     },
     "execution_count": 42,
     "metadata": {},
     "output_type": "execute_result"
    }
   ],
   "source": [
    "model.evaluate(X_test, y_test)"
   ]
  },
  {
   "cell_type": "code",
   "execution_count": 86,
   "metadata": {},
   "outputs": [
    {
     "name": "stdout",
     "output_type": "stream",
     "text": [
      "Reconstruction error threshold: 0.8937847562103379\n"
     ]
    },
    {
     "data": {
      "image/png": "[encoded data removed]",
      "text/plain": [
       "<Figure size 432x288 with 1 Axes>"
      ]
     },
     "metadata": {
      "needs_background": "light"
     },
     "output_type": "display_data"
    }
   ],
   "source": [
    "X_train_pred = model.predict(X_train, verbose=0)\n",
    "train_mae_loss = np.mean(np.abs(X_train_pred - X_train), axis=1)\n",
    "\n",
    "plt.hist(train_mae_loss, bins=50)\n",
    "plt.xlabel('Train MAE loss')\n",
    "plt.ylabel('Number of Samples');\n",
    "\n",
    "# threshold = np.max(train_mae_loss) / 3.0\n",
    "# threshold = 0.75\n",
    "print(f'Reconstruction error threshold: {threshold}')"
   ]
  },
  {
   "cell_type": "code",
   "execution_count": 87,
   "metadata": {},
   "outputs": [
    {
     "data": {
      "image/png": "[encoded data removed]",
      "text/plain": [
       "<Figure size 432x288 with 1 Axes>"
      ]
     },
     "metadata": {
      "needs_background": "light"
     },
     "output_type": "display_data"
    }
   ],
   "source": [
    "\n",
    "X_test_pred = model.predict(X_test, verbose=0)\n",
    "test_mae_loss = np.mean(np.abs(X_test_pred-X_test), axis=1)\n",
    "\n",
    "plt.hist(test_mae_loss, bins=50)\n",
    "plt.xlabel('Test MAE loss')\n",
    "plt.ylabel('Number of samples');"
   ]
  },
  {
   "cell_type": "code",
   "execution_count": 88,
   "metadata": {},
   "outputs": [
    {
     "data": {
      "image/png": "[encoded data removed]",
      "text/plain": [
       "<Figure size 432x288 with 1 Axes>"
      ]
     },
     "metadata": {
      "needs_background": "light"
     },
     "output_type": "display_data"
    }
   ],
   "source": [
    "test_score_df = pd.DataFrame(test[TIME_STEPS:])\n",
    "test_score_df['loss'] = test_mae_loss\n",
    "test_score_df['threshold'] = threshold\n",
    "test_score_df['anomaly_by_machine'] = test_score_df['loss'] > test_score_df['threshold']\n",
    "test_score_df['Value'] = test[TIME_STEPS:]['Value']\n",
    "\n",
    "\n",
    "plt.plot(test_score_df['threshold'], label='Threshold')\n",
    "plt.plot(test_score_df['loss'], label='Validation loss')\n",
    "plt.legend();"
   ]
  },
  {
   "cell_type": "code",
   "execution_count": 89,
   "metadata": {},
   "outputs": [
    {
     "data": {
      "text/plain": [
       "(180, 7)"
      ]
     },
     "execution_count": 89,
     "metadata": {},
     "output_type": "execute_result"
    }
   ],
   "source": [
    "anomalies = test_score_df.loc[test_score_df['anomaly_by_machine'] == True]\n",
    "anomalies.shape"
   ]
  },
  {
   "cell_type": "code",
   "execution_count": 90,
   "metadata": {},
   "outputs": [
    {
     "data": {
      "text/html": [
       "<div>\n",
       "<style scoped>\n",
       "    .dataframe tbody tr th:only-of-type {\n",
       "        vertical-align: middle;\n",
       "    }\n",
       "\n",
       "    .dataframe tbody tr th {\n",
       "        vertical-align: top;\n",
       "    }\n",
       "\n",
       "    .dataframe thead th {\n",
       "        text-align: right;\n",
       "    }\n",
       "</style>\n",
       "<table border=\"1\" class=\"dataframe\">\n",
       "  <thead>\n",
       "    <tr style=\"text-align: right;\">\n",
       "      <th></th>\n",
       "      <th>Datetime</th>\n",
       "      <th>Value</th>\n",
       "      <th>ID</th>\n",
       "      <th>Anomaly</th>\n",
       "      <th>loss</th>\n",
       "      <th>threshold</th>\n",
       "      <th>anomaly_by_machine</th>\n",
       "    </tr>\n",
       "  </thead>\n",
       "  <tbody>\n",
       "    <tr>\n",
       "      <th>306013</th>\n",
       "      <td>2021-02-03 21:30:00</td>\n",
       "      <td>-0.129121</td>\n",
       "      <td>Campus Energy Centre Campus HW Main Meter Power</td>\n",
       "      <td>True</td>\n",
       "      <td>2.116775</td>\n",
       "      <td>0.893785</td>\n",
       "      <td>True</td>\n",
       "    </tr>\n",
       "    <tr>\n",
       "      <th>306015</th>\n",
       "      <td>2021-02-03 21:32:04</td>\n",
       "      <td>-0.246443</td>\n",
       "      <td>Campus Energy Centre Campus HW Main Meter Power</td>\n",
       "      <td>True</td>\n",
       "      <td>1.847186</td>\n",
       "      <td>0.893785</td>\n",
       "      <td>True</td>\n",
       "    </tr>\n",
       "    <tr>\n",
       "      <th>306016</th>\n",
       "      <td>2021-02-03 21:33:04</td>\n",
       "      <td>2.440222</td>\n",
       "      <td>Campus Energy Centre Campus HW Main Meter Power</td>\n",
       "      <td>True</td>\n",
       "      <td>1.819675</td>\n",
       "      <td>0.893785</td>\n",
       "      <td>True</td>\n",
       "    </tr>\n",
       "    <tr>\n",
       "      <th>306017</th>\n",
       "      <td>2021-02-03 21:34:04</td>\n",
       "      <td>1.912275</td>\n",
       "      <td>Campus Energy Centre Campus HW Main Meter Power</td>\n",
       "      <td>True</td>\n",
       "      <td>1.672256</td>\n",
       "      <td>0.893785</td>\n",
       "      <td>True</td>\n",
       "    </tr>\n",
       "    <tr>\n",
       "      <th>306018</th>\n",
       "      <td>2021-02-03 21:35:04</td>\n",
       "      <td>1.184881</td>\n",
       "      <td>Campus Energy Centre Campus HW Main Meter Power</td>\n",
       "      <td>True</td>\n",
       "      <td>1.020842</td>\n",
       "      <td>0.893785</td>\n",
       "      <td>True</td>\n",
       "    </tr>\n",
       "  </tbody>\n",
       "</table>\n",
       "</div>"
      ],
      "text/plain": [
       "                   Datetime     Value  \\\n",
       "306013  2021-02-03 21:30:00 -0.129121   \n",
       "306015  2021-02-03 21:32:04 -0.246443   \n",
       "306016  2021-02-03 21:33:04  2.440222   \n",
       "306017  2021-02-03 21:34:04  1.912275   \n",
       "306018  2021-02-03 21:35:04  1.184881   \n",
       "\n",
       "                                                     ID  Anomaly      loss  \\\n",
       "306013  Campus Energy Centre Campus HW Main Meter Power     True  2.116775   \n",
       "306015  Campus Energy Centre Campus HW Main Meter Power     True  1.847186   \n",
       "306016  Campus Energy Centre Campus HW Main Meter Power     True  1.819675   \n",
       "306017  Campus Energy Centre Campus HW Main Meter Power     True  1.672256   \n",
       "306018  Campus Energy Centre Campus HW Main Meter Power     True  1.020842   \n",
       "\n",
       "        threshold  anomaly_by_machine  \n",
       "306013   0.893785                True  \n",
       "306015   0.893785                True  \n",
       "306016   0.893785                True  \n",
       "306017   0.893785                True  \n",
       "306018   0.893785                True  "
      ]
     },
     "execution_count": 90,
     "metadata": {},
     "output_type": "execute_result"
    }
   ],
   "source": [
    "anomalies.head()"
   ]
  },
  {
   "cell_type": "code",
   "execution_count": 91,
   "metadata": {},
   "outputs": [
    {
     "data": {
      "text/plain": [
       "75955"
      ]
     },
     "execution_count": 91,
     "metadata": {},
     "output_type": "execute_result"
    }
   ],
   "source": [
    "len(test_score_df)"
   ]
  },
  {
   "cell_type": "code",
   "execution_count": 92,
   "metadata": {},
   "outputs": [
    {
     "data": {
      "text/html": [
       "<div>\n",
       "<style scoped>\n",
       "    .dataframe tbody tr th:only-of-type {\n",
       "        vertical-align: middle;\n",
       "    }\n",
       "\n",
       "    .dataframe tbody tr th {\n",
       "        vertical-align: top;\n",
       "    }\n",
       "\n",
       "    .dataframe thead th {\n",
       "        text-align: right;\n",
       "    }\n",
       "</style>\n",
       "<table border=\"1\" class=\"dataframe\">\n",
       "  <thead>\n",
       "    <tr style=\"text-align: right;\">\n",
       "      <th></th>\n",
       "      <th>Datetime</th>\n",
       "      <th>Value</th>\n",
       "      <th>ID</th>\n",
       "      <th>Anomaly</th>\n",
       "      <th>loss</th>\n",
       "      <th>threshold</th>\n",
       "      <th>anomaly_by_machine</th>\n",
       "    </tr>\n",
       "  </thead>\n",
       "  <tbody>\n",
       "    <tr>\n",
       "      <th>303891</th>\n",
       "      <td>2021-01-31 23:13:20</td>\n",
       "      <td>1.044095</td>\n",
       "      <td>Campus Energy Centre Campus HW Main Meter Power</td>\n",
       "      <td>False</td>\n",
       "      <td>0.097690</td>\n",
       "      <td>0.893785</td>\n",
       "      <td>False</td>\n",
       "    </tr>\n",
       "    <tr>\n",
       "      <th>303892</th>\n",
       "      <td>2021-01-31 23:14:50</td>\n",
       "      <td>0.774255</td>\n",
       "      <td>Campus Energy Centre Campus HW Main Meter Power</td>\n",
       "      <td>False</td>\n",
       "      <td>0.111584</td>\n",
       "      <td>0.893785</td>\n",
       "      <td>False</td>\n",
       "    </tr>\n",
       "    <tr>\n",
       "      <th>303893</th>\n",
       "      <td>2021-01-31 23:16:41</td>\n",
       "      <td>0.961970</td>\n",
       "      <td>Campus Energy Centre Campus HW Main Meter Power</td>\n",
       "      <td>False</td>\n",
       "      <td>0.124663</td>\n",
       "      <td>0.893785</td>\n",
       "      <td>False</td>\n",
       "    </tr>\n",
       "    <tr>\n",
       "      <th>303894</th>\n",
       "      <td>2021-01-31 23:20:00</td>\n",
       "      <td>1.032363</td>\n",
       "      <td>Campus Energy Centre Campus HW Main Meter Power</td>\n",
       "      <td>False</td>\n",
       "      <td>0.092545</td>\n",
       "      <td>0.893785</td>\n",
       "      <td>False</td>\n",
       "    </tr>\n",
       "    <tr>\n",
       "      <th>303895</th>\n",
       "      <td>2021-01-31 23:24:56</td>\n",
       "      <td>0.785987</td>\n",
       "      <td>Campus Energy Centre Campus HW Main Meter Power</td>\n",
       "      <td>False</td>\n",
       "      <td>0.119458</td>\n",
       "      <td>0.893785</td>\n",
       "      <td>False</td>\n",
       "    </tr>\n",
       "  </tbody>\n",
       "</table>\n",
       "</div>"
      ],
      "text/plain": [
       "                   Datetime     Value  \\\n",
       "303891  2021-01-31 23:13:20  1.044095   \n",
       "303892  2021-01-31 23:14:50  0.774255   \n",
       "303893  2021-01-31 23:16:41  0.961970   \n",
       "303894  2021-01-31 23:20:00  1.032363   \n",
       "303895  2021-01-31 23:24:56  0.785987   \n",
       "\n",
       "                                                     ID  Anomaly      loss  \\\n",
       "303891  Campus Energy Centre Campus HW Main Meter Power    False  0.097690   \n",
       "303892  Campus Energy Centre Campus HW Main Meter Power    False  0.111584   \n",
       "303893  Campus Energy Centre Campus HW Main Meter Power    False  0.124663   \n",
       "303894  Campus Energy Centre Campus HW Main Meter Power    False  0.092545   \n",
       "303895  Campus Energy Centre Campus HW Main Meter Power    False  0.119458   \n",
       "\n",
       "        threshold  anomaly_by_machine  \n",
       "303891   0.893785               False  \n",
       "303892   0.893785               False  \n",
       "303893   0.893785               False  \n",
       "303894   0.893785               False  \n",
       "303895   0.893785               False  "
      ]
     },
     "execution_count": 92,
     "metadata": {},
     "output_type": "execute_result"
    }
   ],
   "source": [
    "test_score_df.head()"
   ]
  },
  {
   "cell_type": "code",
   "execution_count": 93,
   "metadata": {},
   "outputs": [],
   "source": [
    "from sklearn.metrics import f1_score"
   ]
  },
  {
   "cell_type": "code",
   "execution_count": 94,
   "metadata": {},
   "outputs": [],
   "source": [
    "y_true = test_score_df[\"Anomaly\"]"
   ]
  },
  {
   "cell_type": "code",
   "execution_count": 95,
   "metadata": {},
   "outputs": [],
   "source": [
    "y_pred = test_score_df[\"anomaly_by_machine\"]"
   ]
  },
  {
   "cell_type": "code",
   "execution_count": 96,
   "metadata": {},
   "outputs": [
    {
     "data": {
      "text/plain": [
       "0.49298597194388777"
      ]
     },
     "execution_count": 96,
     "metadata": {},
     "output_type": "execute_result"
    }
   ],
   "source": [
    "f1_score(y_true, y_pred)"
   ]
  },
  {
   "cell_type": "code",
   "execution_count": null,
   "metadata": {},
   "outputs": [],
   "source": []
  },
  {
   "cell_type": "code",
   "execution_count": null,
   "metadata": {},
   "outputs": [],
   "source": []
  }
 ],
 "metadata": {
  "kernelspec": {
   "display_name": "Python 3",
   "language": "python",
   "name": "python3"
  },
  "language_info": {
   "codemirror_mode": {
    "name": "ipython",
    "version": 3
   },
   "file_extension": ".py",
   "mimetype": "text/x-python",
   "name": "python",
   "nbconvert_exporter": "python",
   "pygments_lexer": "ipython3",
   "version": "3.8.3"
  }
 },
 "nbformat": 4,
 "nbformat_minor": 4
}
